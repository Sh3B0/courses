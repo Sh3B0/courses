{
  "nbformat": 4,
  "nbformat_minor": 0,
  "metadata": {
    "colab": {
      "name": "Ahmed_Nouralla_Assignment2.ipynb",
      "provenance": [],
      "collapsed_sections": [],
      "toc_visible": true
    },
    "kernelspec": {
      "name": "python3",
      "display_name": "Python 3"
    }
  },
  "cells": [
    {
      "cell_type": "markdown",
      "metadata": {
        "id": "-Lrp-k9QLQS8"
      },
      "source": [
        "# **Ahmed Nouralla - B19-02 - CT Assignment 2**"
      ]
    },
    {
      "cell_type": "markdown",
      "metadata": {
        "id": "MQ3fceFLKoH_"
      },
      "source": [
        "## Task 1.1 Make the following systems stable, proposing appropriate control\n",
        "\n",
        "\n",
        "$$\\dot x = \n",
        "\\begin{pmatrix} 10 & 0 \\\\ -5 & 10\n",
        "\\end{pmatrix}\n",
        "x\n",
        "+\n",
        "\\begin{pmatrix} \n",
        "2 \\\\ 0\n",
        "\\end{pmatrix}\n",
        "u\n",
        "$$\n",
        "\n",
        "\n",
        "$$\\dot x = \n",
        "\\begin{pmatrix} 0 & -8 \\\\ 1 & 30\n",
        "\\end{pmatrix}\n",
        "x\n",
        "+\n",
        "\\begin{pmatrix} \n",
        "-2 \\\\ 1\n",
        "\\end{pmatrix}\n",
        "u\n",
        "$$\n",
        "\n",
        "\n",
        "$$\\dot x = \n",
        "\\begin{pmatrix} 2 & 2 \\\\ -6 & 10\n",
        "\\end{pmatrix}\n",
        "x\n",
        "+\n",
        "\\begin{pmatrix} \n",
        "0 \\\\ 5\n",
        "\\end{pmatrix}\n",
        "u\n",
        "$$\n",
        "\n",
        "\n",
        "$$\\dot x = \n",
        "\\begin{pmatrix} 5 & -5 \\\\ 6 & 15\n",
        "\\end{pmatrix}\n",
        "x\n",
        "+\n",
        "\\begin{pmatrix} \n",
        "-10 \\\\ 10\n",
        "\\end{pmatrix}\n",
        "u\n",
        "$$"
      ]
    },
    {
      "cell_type": "code",
      "metadata": {
        "colab": {
          "base_uri": "https://localhost:8080/"
        },
        "id": "dTfbIivDzWAe",
        "outputId": "940c408b-258f-4898-a1ec-9db474bb0917"
      },
      "source": [
        "import numpy as np\n",
        "from scipy.signal import place_poles\n",
        "\n",
        "A = [np.array([[10, 0], [-5, 10]]),\n",
        "     np.array([[0, -8], [1, 30]]),\n",
        "     np.array([[2, 2], [-6, 10]]),\n",
        "     np.array([[5, -5], [6, 15]]),\n",
        "     ]\n",
        "\n",
        "B = [\n",
        "    np.array([[2], [0]]),\n",
        "    np.array([[-2], [1]]),\n",
        "    np.array([[0], [5]]),\n",
        "    np.array([[-10], [10]]),\n",
        "]\n",
        "\n",
        "poles = np.array([-1, -2])\n",
        "print(\"Appropriate control: u = -Kx\")\n",
        "\n",
        "for i in range(len(A)):\n",
        "    print(i + 1, \") \", sep=\"\", end=\"\")\n",
        "    place_obj = place_poles(A[i], B[i], poles)\n",
        "    K = place_obj.gain_matrix\n",
        "    print(\"K=\", K.round(2))\n"
      ],
      "execution_count": null,
      "outputs": [
        {
          "output_type": "stream",
          "text": [
            "Appropriate control: u = -Kx\n",
            "1) K= [[ 11.5 -13.2]]\n",
            "2) K= [[ 1.25 35.5 ]]\n",
            "3) K= [[0. 3.]]\n",
            "4) K= [[-15.  -12.7]]\n"
          ],
          "name": "stdout"
        }
      ]
    },
    {
      "cell_type": "markdown",
      "metadata": {
        "id": "yP7jmU2jLSio"
      },
      "source": [
        "## Task 1.2 Make the following systems stable, proposing appropriate control\n",
        "\n",
        "$$\\dot x = \n",
        "\\begin{pmatrix} 10 & 0 \\\\ -5 & 10\n",
        "\\end{pmatrix}\n",
        "x\n",
        "+\n",
        "\\begin{pmatrix} \n",
        "2 & 1 \\\\ 0 & -1\n",
        "\\end{pmatrix}\n",
        "u\n",
        "$$\n",
        "\n",
        "\n",
        "$$\\dot x = \n",
        "\\begin{pmatrix} 0 & -8 \\\\ 1 & 30\n",
        "\\end{pmatrix}\n",
        "x\n",
        "+\n",
        "\\begin{pmatrix} \n",
        "-2 & 1 \\\\ 1 & 1\n",
        "\\end{pmatrix}\n",
        "u\n",
        "$$\n",
        "\n",
        "\n",
        "$$\\dot x = \n",
        "\\begin{pmatrix} 2 & 2 \\\\ -6 & 10\n",
        "\\end{pmatrix}\n",
        "x\n",
        "+\n",
        "\\begin{pmatrix} \n",
        "0 & -1 \\\\ 5 & -1\n",
        "\\end{pmatrix}\n",
        "u\n",
        "$$\n",
        "\n",
        "\n",
        "$$\\dot x = \n",
        "\\begin{pmatrix} 5 & -5 \\\\ 6 & 15\n",
        "\\end{pmatrix}\n",
        "x\n",
        "+\n",
        "\\begin{pmatrix} \n",
        "-10 & 3 \\\\ 10 & 3\n",
        "\\end{pmatrix}\n",
        "u\n",
        "$$"
      ]
    },
    {
      "cell_type": "code",
      "metadata": {
        "colab": {
          "base_uri": "https://localhost:8080/"
        },
        "id": "hd1CH9ZozBAs",
        "outputId": "cdc3a016-37d1-45f1-81c3-b098da384c36"
      },
      "source": [
        "import numpy as np\n",
        "from scipy.signal import place_poles\n",
        "\n",
        "A = [\n",
        "     np.array([[10, 0], [-5, 10]]),\n",
        "     np.array([[0, -8], [1, 30]]),\n",
        "     np.array([[2, 2], [-6, 10]]),\n",
        "     np.array([[5, -5], [6, 15]]),\n",
        "     ]\n",
        "\n",
        "B = [\n",
        "    np.array([[2, 1], [0, -1]]),\n",
        "    np.array([[-2, 1], [1, 1]]),\n",
        "    np.array([[0, -1], [5, -1]]),\n",
        "    np.array([[-10, 3], [10, 3]]),\n",
        "]\n",
        "\n",
        "poles = np.array([-1, -2])\n",
        "print(\"Appropriate control: u = -Kx\")\n",
        "\n",
        "for i in range(len(A)):\n",
        "    print(i+1, \") \", sep=\"\", end=\"\")\n",
        "    place_obj = place_poles(A[i], B[i], poles)\n",
        "    K = place_obj.gain_matrix\n",
        "    print(\"K=\\n\", K.round(2), end=\"\\n\\n\")\n"
      ],
      "execution_count": null,
      "outputs": [
        {
          "output_type": "stream",
          "text": [
            "Appropriate control: u = -Kx\n",
            "1) K=\n",
            " [[  3.5   5.5]\n",
            " [  5.  -11. ]]\n",
            "\n",
            "2) K=\n",
            " [[-0.33 13.  ]\n",
            " [ 1.33 18.  ]]\n",
            "\n",
            "3) K=\n",
            " [[-2.   1.8]\n",
            " [-4.  -2. ]]\n",
            "\n",
            "4) K=\n",
            " [[-0.05  1.05]\n",
            " [ 2.17  1.83]]\n",
            "\n"
          ],
          "name": "stdout"
        }
      ]
    },
    {
      "cell_type": "markdown",
      "metadata": {
        "id": "9ihEn7Alay0P"
      },
      "source": [
        "## Task 1.3 Give example of an unstable system that can't be stabilized...\n",
        "\n",
        "of the form $\\dot x = \n",
        "Ax+Bu$, where $A \\in \\mathbb{R}^{2 \\times 2}$\n",
        "\n",
        "* where $B \\in \\mathbb{R}^{2 \\times 1}$\n",
        "* where $B \\in \\mathbb{R}^{2 \\times 2}$\n",
        "* where $B \\in \\mathbb{R}^{2 \\times 3}$"
      ]
    },
    {
      "cell_type": "markdown",
      "metadata": {
        "id": "UUS9tOBG1Gr4"
      },
      "source": [
        "If B is a zero-matrix, and at least one eigenvalue of A is greater than 0, the system is unstable and cannot be stabilized. Examples:\n",
        "\n",
        "$$\n",
        "A=\n",
        "\\begin{pmatrix} 1 & 0 \\\\ 1 & 1\n",
        "\\end{pmatrix}\n",
        ",B=\n",
        "\\begin{pmatrix} 0 \\\\ 0\n",
        "\\end{pmatrix}\n",
        "$$\n",
        "\n",
        "$$\n",
        "A=\n",
        "\\begin{pmatrix} 1 & 0 \\\\ 1 & 1\n",
        "\\end{pmatrix}\n",
        ",B=\n",
        "\\begin{pmatrix} 0 & 0 \\\\ 0 & 0\n",
        "\\end{pmatrix}\n",
        "$$\n",
        "\n",
        "$$\n",
        "A=\n",
        "\\begin{pmatrix} 1 & 0 \\\\ 1 & 1\n",
        "\\end{pmatrix}\n",
        ",B=\n",
        "\\begin{pmatrix} 0 & 0 & 0 \\\\ 0 & 0 & 0\n",
        "\\end{pmatrix}\n",
        "$$"
      ]
    },
    {
      "cell_type": "markdown",
      "metadata": {
        "id": "5xHhRpaCI6Lo"
      },
      "source": [
        "## Task 2.1 Plot root locus\n",
        "\n",
        "* For a system with $A$ with imaginary eigenvalues\n",
        "* For a system with $A$ with real eigenvalues\n",
        "* For a system where real parts of eigenvalues of $(A - BK)$ are all positive\n",
        "* For a system where real parts of eigenvalues of $(A - BK)$ are all negative"
      ]
    },
    {
      "cell_type": "code",
      "metadata": {
        "colab": {
          "base_uri": "https://localhost:8080/",
          "height": 1000
        },
        "id": "0USGTBy_2Prm",
        "outputId": "56102635-8eea-48b8-bb53-26e4dc4bd982"
      },
      "source": [
        "import matplotlib.pyplot as plt\n",
        "import numpy as np\n",
        "from numpy.linalg import eig\n",
        "import control\n",
        "from scipy import signal\n",
        "\n",
        "A = [\n",
        "    np.array([[0, 1], [-4, 0]]),  # A has imaginary eigenvalues\n",
        "    np.array([[1, 0], [1, 1]]),  # A has real eigenvalues\n",
        "    np.array([[0, 1], [-1, 4]]),  # A-BK has positive real parts of all eigenvalues\n",
        "    np.array([[1, -7], [2, -10]]),  # A-BK has negative real part of all eigenvalues\n",
        "]\n",
        "\n",
        "B = [\n",
        "    np.array([[1], [1]]),\n",
        "    np.array([[1], [1]]),\n",
        "    np.array([[0], [1]]),\n",
        "    np.array([[1], [0]]),\n",
        "]\n",
        "\n",
        "C = np.array([1, 1])\n",
        "D = np.array([0])\n",
        "\n",
        "for i in range(len(A)):\n",
        "  num, den = signal.ss2tf(A[i], B[i], C, D)\n",
        "  lti = signal.lti(num, den)\n",
        "  K=np.linspace(0, 10, 1000)\n",
        "  rlist, klist = control.root_locus(lti, kvect=K, plot=False)\n",
        "\n",
        "  x = []\n",
        "  y = []\n",
        "  for z in rlist:\n",
        "      x.append(z.real)\n",
        "      y.append(z.imag)\n",
        "\n",
        "  plt.xlabel(\"Real\")\n",
        "  plt.ylabel(\"Imaginary\")\n",
        "  plt.plot(x, y)\n",
        "  plt.show()\n"
      ],
      "execution_count": null,
      "outputs": [
        {
          "output_type": "display_data",
          "data": {
            "image/png": "[encoded data removed]",
            "text/plain": [
              "<Figure size 432x288 with 1 Axes>"
            ]
          },
          "metadata": {
            "tags": [],
            "needs_background": "light"
          }
        },
        {
          "output_type": "display_data",
          "data": {
            "image/png": "[encoded data removed]",
            "text/plain": [
              "<Figure size 432x288 with 1 Axes>"
            ]
          },
          "metadata": {
            "tags": [],
            "needs_background": "light"
          }
        },
        {
          "output_type": "display_data",
          "data": {
            "image/png": "[encoded data removed]",
            "text/plain": [
              "<Figure size 432x288 with 1 Axes>"
            ]
          },
          "metadata": {
            "tags": [],
            "needs_background": "light"
          }
        },
        {
          "output_type": "display_data",
          "data": {
            "image/png": "[encoded data removed]",
            "text/plain": [
              "<Figure size 432x288 with 1 Axes>"
            ]
          },
          "metadata": {
            "tags": [],
            "needs_background": "light"
          }
        }
      ]
    },
    {
      "cell_type": "markdown",
      "metadata": {
        "id": "psIIY0rZL3uU"
      },
      "source": [
        "## Task 3.1 Simulate one of the given systems with a step function as an input.\n"
      ]
    },
    {
      "cell_type": "code",
      "metadata": {
        "colab": {
          "base_uri": "https://localhost:8080/",
          "height": 264
        },
        "id": "xCTgSIBB9hwN",
        "outputId": "f4c52e27-1c06-4746-9236-7972451823f7"
      },
      "source": [
        "import numpy as np\n",
        "from scipy import signal\n",
        "from control import *\n",
        "import matplotlib.pyplot as plt\n",
        "\n",
        "# Simulating the system from Lab2 code snippets\n",
        "\n",
        "A = np.array([[1, -7], [2, -10]])\n",
        "B = np.array([[1], [0]])\n",
        "C = np.eye(2)\n",
        "D = np.zeros((2, 1))\n",
        "\n",
        "num, den = signal.ss2tf(A, B, C, D)\n",
        "\n",
        "filt = signal.lti(num, den)\n",
        "plt.plot(*filt.step())\n",
        "plt.show()"
      ],
      "execution_count": null,
      "outputs": [
        {
          "output_type": "display_data",
          "data": {
            "image/png": "[encoded data removed]",
            "text/plain": [
              "<Figure size 432x288 with 1 Axes>"
            ]
          },
          "metadata": {
            "tags": [],
            "needs_background": "light"
          }
        }
      ]
    },
    {
      "cell_type": "markdown",
      "metadata": {
        "id": "s6Fyh9GU9i2h"
      },
      "source": [
        "## Task 3.2 Linear combination of solutions\n",
        "\n",
        "Simulate one of the given systems with two different step functions $f_1$,  $f_2$ as an input, and as a sum of those $f_1+f_2$ as an input. Compare the sum of the solutions for the $f_1$,  $f_2$ with the solution for $f_1+f_2$.\n",
        "\n",
        "$$ f_1 = \n",
        "\\begin{cases} \n",
        "1, \\ \\ \\ t \\geq t_1 \\\\\n",
        "0, \\ \\ \\ t < t_1\n",
        "\\end{cases} \n",
        "$$\n",
        "$$ f_2 = \n",
        "\\begin{cases} \n",
        "1, \\ \\ \\ t \\geq t_2 \\\\\n",
        "0, \\ \\ \\ t < t_2\n",
        "\\end{cases} \n",
        "$$"
      ]
    },
    {
      "cell_type": "code",
      "metadata": {
        "colab": {
          "base_uri": "https://localhost:8080/",
          "height": 804
        },
        "id": "oaNHj4cv9mD-",
        "outputId": "1a96f82d-7be9-4aab-812e-2b83410f7d56"
      },
      "source": [
        "import numpy as np\n",
        "from scipy import signal\n",
        "import matplotlib.pyplot as plt\n",
        "from scipy.integrate import odeint\n",
        "\n",
        "# Simulating the system from Lab2 code snippets\n",
        "\n",
        "t1 = 3\n",
        "t2 = 7\n",
        "\n",
        "\n",
        "def f1(t):\n",
        "    if t >= t1:\n",
        "        return 1\n",
        "    return 0\n",
        "\n",
        "\n",
        "def f2(t):\n",
        "    if t >= t2:\n",
        "        return 1\n",
        "    return 0\n",
        "\n",
        "\n",
        "def f1pf2(t):\n",
        "    if t < min(t1, t2):\n",
        "        return 0\n",
        "    elif t >= max(t1, t2):\n",
        "        return 2\n",
        "    return 1\n",
        "\n",
        "\n",
        "A = np.array([[1, -7], [2, -10]])\n",
        "B = np.array([[1], [0]])\n",
        "C = np.eye(2)\n",
        "D = np.zeros((2, 1))\n",
        "\n",
        "t0 = 0  # Initial time \n",
        "tf = 10  # Final time\n",
        "T = np.linspace(t0, tf, 1000)\n",
        "\n",
        "U1 = []\n",
        "U2 = []\n",
        "U3 = []\n",
        "\n",
        "for elem in T:\n",
        "    U1.append(f1(elem))\n",
        "    U2.append(f2(elem))\n",
        "    U3.append(f1pf2(elem))\n",
        "\n",
        "num, den = signal.ss2tf(A, B, C, D)\n",
        "\n",
        "tout, yout, _ = signal.lsim((num, den), U1, T)\n",
        "plt.plot(tout, yout)\n",
        "plt.xlabel('time')\n",
        "plt.ylabel('state response')\n",
        "plt.show()\n",
        "\n",
        "tout, yout, _ = signal.lsim((num, den), U2, T)\n",
        "plt.plot(tout, yout)\n",
        "plt.xlabel('time')\n",
        "plt.ylabel('state response')\n",
        "plt.show()\n",
        "\n",
        "tout, yout, _ = signal.lsim((num, den), U3, T)\n",
        "plt.plot(tout, yout)\n",
        "plt.xlabel('time')\n",
        "plt.ylabel('state response')\n",
        "plt.show()\n"
      ],
      "execution_count": null,
      "outputs": [
        {
          "output_type": "display_data",
          "data": {
            "image/png": "[encoded data removed]",
            "text/plain": [
              "<Figure size 432x288 with 1 Axes>"
            ]
          },
          "metadata": {
            "tags": [],
            "needs_background": "light"
          }
        },
        {
          "output_type": "display_data",
          "data": {
            "image/png": "[encoded data removed]",
            "text/plain": [
              "<Figure size 432x288 with 1 Axes>"
            ]
          },
          "metadata": {
            "tags": [],
            "needs_background": "light"
          }
        },
        {
          "output_type": "display_data",
          "data": {
            "image/png": "[encoded data removed]",
            "text/plain": [
              "<Figure size 432x288 with 1 Axes>"
            ]
          },
          "metadata": {
            "tags": [],
            "needs_background": "light"
          }
        }
      ]
    },
    {
      "cell_type": "markdown",
      "metadata": {
        "id": "wgKqFhcZLB4E"
      },
      "source": [
        "## Task 4 Sinusoidal inputs\n",
        "\n",
        "Simulate one of the prevuiously given function for a sinusoidal input $u = sin(wt)$."
      ]
    },
    {
      "cell_type": "code",
      "metadata": {
        "colab": {
          "base_uri": "https://localhost:8080/",
          "height": 278
        },
        "id": "n-yE_Hh6U0nC",
        "outputId": "879be2f0-d87f-41b0-bc47-20f3da171a9d"
      },
      "source": [
        "import numpy as np\n",
        "from scipy import signal\n",
        "import matplotlib.pyplot as plt\n",
        "from scipy.integrate import odeint\n",
        "\n",
        "# Simulating the system from Lab2 code snippets\n",
        "\n",
        "w = 3\n",
        "\n",
        "\n",
        "def u(t):\n",
        "    return np.sin(w * t)\n",
        "\n",
        "\n",
        "A = np.array([[1, -7], [2, -10]])\n",
        "B = np.array([[1], [0]])\n",
        "C = np.array([1, 1])\n",
        "D = np.zeros((1, 1))\n",
        "\n",
        "t0 = 0  # Initial time \n",
        "tf = 10  # Final time\n",
        "T = np.linspace(t0, tf, 1000)\n",
        "\n",
        "U = []\n",
        "\n",
        "for elem in T:\n",
        "    U.append(u(elem))\n",
        "\n",
        "num, den = signal.ss2tf(A, B, C, D)\n",
        "\n",
        "tout, yout, _ = signal.lsim((num, den), U, T)\n",
        "plt.plot(tout, yout)\n",
        "plt.xlabel('time')\n",
        "plt.ylabel('state response')\n",
        "plt.show()"
      ],
      "execution_count": null,
      "outputs": [
        {
          "output_type": "display_data",
          "data": {
            "image/png": "[encoded data removed]",
            "text/plain": [
              "<Figure size 432x288 with 1 Axes>"
            ]
          },
          "metadata": {
            "tags": [],
            "needs_background": "light"
          }
        }
      ]
    },
    {
      "cell_type": "markdown",
      "metadata": {
        "id": "We-TmMuugsEH"
      },
      "source": [
        "## Task 4.1 Make frequency diagrams for 2 of the systems you studied in the tasks 1.1 and 1.2"
      ]
    },
    {
      "cell_type": "code",
      "metadata": {
        "colab": {
          "base_uri": "https://localhost:8080/",
          "height": 300
        },
        "id": "xZ4wEvWA4YDr",
        "outputId": "6aa45ba9-8f44-4809-a66d-8bbc56f2b44b"
      },
      "source": [
        "from scipy.signal import ss2tf\n",
        "from scipy.signal import freqz\n",
        "import numpy as np\n",
        "import matplotlib.pyplot as plt\n",
        "\n",
        "# First system from Task 1.1\n",
        "A = np.array([[10, 0], [-5, 10]])\n",
        "B = np.array([[1], [0]])\n",
        "C = np.eye(2)\n",
        "D = np.zeros((2, 1))\n",
        "\n",
        "num, den = ss2tf(A, B, C, D)\n",
        "\n",
        "w1, h1 = freqz(num[0, :], den)\n",
        "w2, h2 = freqz(num[1, :], den)\n",
        "\n",
        "plt.subplot(211)\n",
        "plt.plot(w1, 20 * np.log10(abs(h1)), 'b')\n",
        "plt.ylabel('Amplitude [dB]', color='b')\n",
        "plt.xlabel('Frequency [rad/sample]')\n",
        "\n",
        "plt.subplot(212)\n",
        "plt.plot(w2, 20 * np.log10(abs(h2)), 'b')\n",
        "plt.ylabel('Amplitude [dB]', color='b')\n",
        "plt.xlabel('Frequency [rad/sample]')\n"
      ],
      "execution_count": null,
      "outputs": [
        {
          "output_type": "execute_result",
          "data": {
            "text/plain": [
              "Text(0.5, 0, 'Frequency [rad/sample]')"
            ]
          },
          "metadata": {
            "tags": []
          },
          "execution_count": 9
        },
        {
          "output_type": "display_data",
          "data": {
            "image/png": "[encoded data removed]",
            "text/plain": [
              "<Figure size 432x288 with 2 Axes>"
            ]
          },
          "metadata": {
            "tags": [],
            "needs_background": "light"
          }
        }
      ]
    },
    {
      "cell_type": "code",
      "metadata": {
        "colab": {
          "base_uri": "https://localhost:8080/",
          "height": 298
        },
        "id": "aHLK5Fg55KvR",
        "outputId": "47f437fa-7a4e-4f68-baae-0711d8ed9796"
      },
      "source": [
        "from scipy.signal import ss2tf\n",
        "from scipy.signal import freqz\n",
        "import numpy as np\n",
        "import matplotlib.pyplot as plt\n",
        "\n",
        "# First system from Task 1.2\n",
        "A = np.array([[10, 0], [-5, 10]])\n",
        "B = np.array([[2, 1], [0, -1]])\n",
        "C = np.eye(2)\n",
        "D = np.zeros((2, 2))\n",
        "\n",
        "num, den = ss2tf(A, B, C, D)\n",
        "\n",
        "w1, h1 = freqz(num[0, :], den)\n",
        "w2, h2 = freqz(num[1, :], den)\n",
        "\n",
        "plt.subplot(211)\n",
        "plt.plot(w1, 20 * np.log10(abs(h1)), 'b')\n",
        "plt.ylabel('Amplitude [dB]', color='b')\n",
        "plt.xlabel('Frequency [rad/sample]')\n",
        "\n",
        "plt.subplot(212)\n",
        "plt.plot(w2, 20 * np.log10(abs(h2)), 'b')\n",
        "plt.ylabel('Amplitude [dB]', color='b')\n",
        "plt.xlabel('Frequency [rad/sample]')"
      ],
      "execution_count": null,
      "outputs": [
        {
          "output_type": "execute_result",
          "data": {
            "text/plain": [
              "Text(0.5, 0, 'Frequency [rad/sample]')"
            ]
          },
          "metadata": {
            "tags": []
          },
          "execution_count": 10
        },
        {
          "output_type": "display_data",
          "data": {
            "image/png": "[encoded data removed]",
            "text/plain": [
              "<Figure size 432x288 with 2 Axes>"
            ]
          },
          "metadata": {
            "tags": [],
            "needs_background": "light"
          }
        }
      ]
    },
    {
      "cell_type": "markdown",
      "metadata": {
        "id": "oV0YON4woFXh"
      },
      "source": [
        "## Task 5.1 Design point-to-point control and simulate two systems:\n",
        "\n",
        "* where $B \\in \\mathbb{R}^{2 \\times 1}$\n",
        "* where $B \\in \\mathbb{R}^{2 \\times 2}$"
      ]
    },
    {
      "cell_type": "markdown",
      "metadata": {
        "id": "N0u543zX6vkf"
      },
      "source": [
        "Driving the system:\n",
        "\n",
        "$$\\dot x = \n",
        "\\begin{pmatrix} 10 & 5 \\\\ -5 & -10\n",
        "\\end{pmatrix}\n",
        "x\n",
        "+\n",
        "\\begin{pmatrix} \n",
        "-1 \\\\ 2\n",
        "\\end{pmatrix}\n",
        "u\n",
        "$$\n",
        "\n",
        "towards the point $x^* = \\begin{pmatrix} 0 \\\\ 1 \\end{pmatrix}$"
      ]
    },
    {
      "cell_type": "code",
      "metadata": {
        "colab": {
          "base_uri": "https://localhost:8080/",
          "height": 278
        },
        "id": "TrhXQ9Es6nkw",
        "outputId": "008a3236-31ea-4aed-885f-0a772454b2e3"
      },
      "source": [
        "import numpy as np\n",
        "from numpy.linalg import pinv\n",
        "from scipy.signal import place_poles\n",
        "from scipy.integrate import odeint\n",
        "import matplotlib.pyplot as plt\n",
        "\n",
        "A = np.array([[10, 5], [-5, -10]])\n",
        "B = np.array([[-1], [2]])\n",
        "\n",
        "poles = np.array([-1, -2])\n",
        "place_obj = place_poles(A, B, poles)\n",
        "K = place_obj.gain_matrix\n",
        "\n",
        "x_desired = np.array([0, 1])\n",
        "u_desired = (-np.linalg.pinv(B).dot(A).dot(x_desired))[0]\n",
        "\n",
        "def StateSpace(x, t):\n",
        "    u = -K.dot(x - x_desired) + u_desired\n",
        "    return A.dot(x) + B.dot(u)\n",
        "\n",
        "\n",
        "time = np.linspace(0, 30, 30000)\n",
        "x0 = np.random.rand(2)  # initial state\n",
        "\n",
        "solution = {\"sol\": odeint(StateSpace, x0, time)}\n",
        "\n",
        "plt.plot(time, solution[\"sol\"], linewidth=2)\n",
        "plt.xlabel('time')\n",
        "plt.ylabel('x(t)')\n",
        "plt.show()\n"
      ],
      "execution_count": null,
      "outputs": [
        {
          "output_type": "display_data",
          "data": {
            "image/png": "[encoded data removed]",
            "text/plain": [
              "<Figure size 432x288 with 1 Axes>"
            ]
          },
          "metadata": {
            "tags": [],
            "needs_background": "light"
          }
        }
      ]
    },
    {
      "cell_type": "markdown",
      "metadata": {
        "id": "YWNiHl1UYXYx"
      },
      "source": [
        "Driving the system:\n",
        "\n",
        "$$\\dot x = \n",
        "\\begin{pmatrix} 10 & 5 \\\\ -5 & -10\n",
        "\\end{pmatrix}\n",
        "x\n",
        "+\n",
        "\\begin{pmatrix} \n",
        "2 & 1 \\\\ 0 & -1\n",
        "\\end{pmatrix}\n",
        "u\n",
        "$$\n",
        "\n",
        "towards the point $x^* = \\begin{pmatrix} 0 \\\\ 1 \\end{pmatrix}$"
      ]
    },
    {
      "cell_type": "code",
      "metadata": {
        "colab": {
          "base_uri": "https://localhost:8080/",
          "height": 295
        },
        "id": "1O_e7eMwYsnA",
        "outputId": "344ca58e-8c7b-4e3f-81e4-3def1842b359"
      },
      "source": [
        "import numpy as np\n",
        "from numpy.linalg import pinv\n",
        "from scipy.signal import place_poles\n",
        "from scipy.integrate import odeint\n",
        "import matplotlib.pyplot as plt\n",
        "\n",
        "A = np.array([[10, 5], [-5, -10]])\n",
        "B = np.array([[2, 1], [0, -1]])\n",
        "\n",
        "poles = np.array([-1, -2])\n",
        "place_obj = place_poles(A, B, poles)\n",
        "K = place_obj.gain_matrix;\n",
        "\n",
        "x_desired = np.array([0, 1])\n",
        "u_desired = (-np.linalg.pinv(B).dot(A).dot(x_desired))\n",
        "\n",
        "\n",
        "def StateSpace(x, t):\n",
        "    u = -K.dot(x - x_desired) + u_desired\n",
        "    return A.dot(x) + B.dot(u)\n",
        "\n",
        "\n",
        "time = np.linspace(0, 30, 30000)\n",
        "x0 = np.random.rand(2)  # initial state\n",
        "\n",
        "solution = {\"sol\": odeint(StateSpace, x0, time)}\n",
        "\n",
        "plt.plot(time, solution[\"sol\"], linewidth=2)\n",
        "plt.xlabel('time')\n",
        "plt.ylabel('x(t)')\n"
      ],
      "execution_count": null,
      "outputs": [
        {
          "output_type": "execute_result",
          "data": {
            "text/plain": [
              "Text(0, 0.5, 'x(t)')"
            ]
          },
          "metadata": {
            "tags": []
          },
          "execution_count": 18
        },
        {
          "output_type": "display_data",
          "data": {
            "image/png": "[encoded data removed]",
            "text/plain": [
              "<Figure size 432x288 with 1 Axes>"
            ]
          },
          "metadata": {
            "tags": [],
            "needs_background": "light"
          }
        }
      ]
    },
    {
      "cell_type": "markdown",
      "metadata": {
        "id": "4RW7jjzahiCg"
      },
      "source": [
        "## Task 6.1\n",
        "\n",
        "Find which of the followig systems is stable:\n",
        "\n",
        "$$x_{i+1} = \n",
        "\\begin{pmatrix} 0.5 & 0.1 \\\\ -0.05 & 0.2\n",
        "\\end{pmatrix}\n",
        "x_i\n",
        "$$\n",
        "\n",
        "\n",
        "$$x_{i+1} = \n",
        "\\begin{pmatrix} 1 & -2 \\\\ 0 & 0.3\n",
        "\\end{pmatrix}\n",
        "x_i\n",
        "$$\n",
        "\n",
        "\n",
        "$$x_{i+1} = \n",
        "\\begin{pmatrix} -5 & 0 \\\\ -0.1 & 1\n",
        "\\end{pmatrix}\n",
        "x_i\n",
        "+\n",
        "\\begin{pmatrix} \n",
        "0 \\\\ 0.5\n",
        "\\end{pmatrix}\n",
        "u_i, \\ \\ \\ \n",
        "u_i = \n",
        "\\begin{pmatrix} \n",
        "0 & 0.2\n",
        "\\end{pmatrix}\n",
        "x_i\n",
        "$$\n",
        "\n",
        "\n",
        "$$x_{i+1} = \n",
        "\\begin{pmatrix} -2.2 & -3 \\\\ 0 & 0.5\n",
        "\\end{pmatrix}\n",
        "x_i\n",
        "+\n",
        "\\begin{pmatrix} \n",
        "-1 \\\\ 1\n",
        "\\end{pmatrix}\n",
        "u_i, \\ \\ \\ \n",
        "u_i = 10\n",
        "$$"
      ]
    },
    {
      "cell_type": "code",
      "metadata": {
        "colab": {
          "base_uri": "https://localhost:8080/"
        },
        "id": "KfduTVhAShdu",
        "outputId": "3188b5e7-f368-46cb-fcad-afb841580f0f"
      },
      "source": [
        "from numpy.linalg import eig\n",
        "import numpy as np\n",
        "\n",
        "def stable(x):\n",
        "    # print(x)\n",
        "    for i in x:\n",
        "        if abs(np.linalg.norm(i)) > 1:\n",
        "            return False\n",
        "    return True\n",
        "\n",
        "\n",
        "As = [\n",
        "    np.array([[0.5, 0.1], [-0.05, 0.2]]),\n",
        "    np.array([[1, -2], [0, 0.3]]),\n",
        "    np.array([[-5, 0], [-0.1, 1]]),\n",
        "    np.array([[-2.2, -3], [0, 0.5]])\n",
        "]\n",
        "\n",
        "for i in range(len(As)):\n",
        "    e, _ = eig(As[i])\n",
        "    if stable(e):\n",
        "        print(\"System\", i + 1, \"is stable\")\n",
        "    else:\n",
        "        print(\"System\", i + 1, \"is unstable\")\n"
      ],
      "execution_count": null,
      "outputs": [
        {
          "output_type": "stream",
          "text": [
            "System 1 is stable\n",
            "System 2 is stable\n",
            "System 3 is unstable\n",
            "System 4 is unstable\n"
          ],
          "name": "stdout"
        }
      ]
    },
    {
      "cell_type": "markdown",
      "metadata": {
        "id": "GrlzeUF4Sh4q"
      },
      "source": [
        "\n",
        "## Task 6.2\n",
        "\n",
        "Propose control that makes the following systems stable:\n",
        "\n",
        "$$x_{i+1} = \n",
        "\\begin{pmatrix} 1 & 1 \\\\ -0.4 & 0.1\n",
        "\\end{pmatrix}\n",
        "x_i\n",
        "+\n",
        "\\begin{pmatrix} \n",
        "0.5 \\\\ 0.5\n",
        "\\end{pmatrix}\n",
        "u_i\n",
        "$$\n",
        "\n",
        "\n",
        "$$x_{i+1} = \n",
        "\\begin{pmatrix} 0.8 & -0.3 \\\\ 0 & 0.15\n",
        "\\end{pmatrix}\n",
        "x_i\n",
        "+\n",
        "\\begin{pmatrix} \n",
        "-1 \\\\ 1\n",
        "\\end{pmatrix}\n",
        "u_i\n",
        "$$"
      ]
    },
    {
      "cell_type": "code",
      "metadata": {
        "colab": {
          "base_uri": "https://localhost:8080/"
        },
        "id": "U3a54ISxSjX1",
        "outputId": "5b2b9401-bf48-40b0-f38c-6a7268a24f07"
      },
      "source": [
        "import numpy as np\n",
        "from scipy.signal import place_poles\n",
        "\n",
        "A = [np.array([[1, 1], [-0.4, 0.1]]),\n",
        "     np.array([[0.8, -0.3], [0, 0.15]]),\n",
        "     ]\n",
        "\n",
        "B = [\n",
        "    np.array([[0.5], [0.5]]),\n",
        "    np.array([[-1], [1]]),\n",
        "]\n",
        "\n",
        "poles = np.array([-1, -2])\n",
        "print(\"Appropriate control: u = -Kx\")\n",
        "\n",
        "for i in range(len(A)):\n",
        "    print(i + 1, \") \", sep=\"\", end=\"\")\n",
        "    place_obj = place_poles(A[i], B[i], poles)\n",
        "    K = place_obj.gain_matrix\n",
        "    print(\"K=\", K.round(2))\n"
      ],
      "execution_count": null,
      "outputs": [
        {
          "output_type": "stream",
          "text": [
            "Appropriate control: u = -Kx\n",
            "1) K= [[6.3 1.9]]\n",
            "2) K= [[-5.31 -1.36]]\n"
          ],
          "name": "stdout"
        }
      ]
    },
    {
      "cell_type": "markdown",
      "metadata": {
        "id": "xRjR2hWCuT5v"
      },
      "source": [
        "## Task 6.3 Design point-to-point control and simulate two discrete systems:\n",
        "\n",
        "* where $B \\in \\mathbb{R}^{2 \\times 1}$\n",
        "* where $B \\in \\mathbb{R}^{2 \\times 2}$"
      ]
    },
    {
      "cell_type": "markdown",
      "metadata": {
        "id": "r1lmLJEUZPUg"
      },
      "source": [
        "Simulating the two systems from the previous task, but in discrete time, with T = 1, using ZOH for plotting."
      ]
    },
    {
      "cell_type": "code",
      "metadata": {
        "colab": {
          "base_uri": "https://localhost:8080/",
          "height": 295
        },
        "id": "AFTGwaciZemy",
        "outputId": "935a0c98-127e-4ccb-f356-23744baa8e6e"
      },
      "source": [
        "import numpy as np\n",
        "from numpy.linalg import pinv\n",
        "from scipy.signal import place_poles\n",
        "from scipy.integrate import odeint\n",
        "import matplotlib.pyplot as plt\n",
        "\n",
        "A = np.array([[10, 5], [-5, -10]])\n",
        "B = np.array([[-1], [2]])\n",
        "\n",
        "poles = np.array([-1, -2])\n",
        "place_obj = place_poles(A, B, poles)\n",
        "K = place_obj.gain_matrix\n",
        "\n",
        "x_desired = np.array([0, 1])\n",
        "u_desired = (-np.linalg.pinv(B).dot(A).dot(x_desired))[0]\n",
        "\n",
        "\n",
        "def StateSpace(x, t):\n",
        "    u = -K.dot(x - x_desired) + u_desired\n",
        "    return A.dot(x) + B.dot(u)\n",
        "\n",
        "\n",
        "time = np.linspace(0, 30, 30)\n",
        "x0 = np.random.rand(2)  # initial state\n",
        "\n",
        "solution = {\"sol\": odeint(StateSpace, x0, time)}\n",
        "\n",
        "plt.step(time, solution[\"sol\"], where='post')\n",
        "\n",
        "plt.xlabel('time')\n",
        "plt.ylabel('x(t)')\n"
      ],
      "execution_count": null,
      "outputs": [
        {
          "output_type": "execute_result",
          "data": {
            "text/plain": [
              "Text(0, 0.5, 'x(t)')"
            ]
          },
          "metadata": {
            "tags": []
          },
          "execution_count": 15
        },
        {
          "output_type": "display_data",
          "data": {
            "image/png": "[encoded data removed]",
            "text/plain": [
              "<Figure size 432x288 with 1 Axes>"
            ]
          },
          "metadata": {
            "tags": [],
            "needs_background": "light"
          }
        }
      ]
    },
    {
      "cell_type": "code",
      "metadata": {
        "colab": {
          "base_uri": "https://localhost:8080/",
          "height": 295
        },
        "id": "05S01yr9Zg8Y",
        "outputId": "173644ea-3b6f-45c4-daf2-e78ad07ea3a1"
      },
      "source": [
        "import numpy as np\n",
        "from numpy.linalg import pinv\n",
        "from scipy.signal import place_poles\n",
        "from scipy.integrate import odeint\n",
        "import matplotlib.pyplot as plt\n",
        "\n",
        "A = np.array([[10, 5], [-5, -10]])\n",
        "B = np.array([[2, 1], [0, -1]])\n",
        "\n",
        "poles = np.array([-1, -2])\n",
        "place_obj = place_poles(A, B, poles)\n",
        "K = place_obj.gain_matrix;\n",
        "\n",
        "x_desired = np.array([0, 1])\n",
        "u_desired = (-np.linalg.pinv(B).dot(A).dot(x_desired))\n",
        "\n",
        "\n",
        "def StateSpace(x, t):\n",
        "    u = -K.dot(x - x_desired) + u_desired\n",
        "    return A.dot(x) + B.dot(u)\n",
        "\n",
        "\n",
        "time = np.linspace(0, 30, 30)\n",
        "x0 = np.random.rand(2)  # initial state\n",
        "\n",
        "solution = {\"sol\": odeint(StateSpace, x0, time)}\n",
        "\n",
        "plt.step(time, solution[\"sol\"], where='post')\n",
        "\n",
        "plt.xlabel('time')\n",
        "plt.ylabel('x(t)')"
      ],
      "execution_count": null,
      "outputs": [
        {
          "output_type": "execute_result",
          "data": {
            "text/plain": [
              "Text(0, 0.5, 'x(t)')"
            ]
          },
          "metadata": {
            "tags": []
          },
          "execution_count": 16
        },
        {
          "output_type": "display_data",
          "data": {
            "image/png": "[encoded data removed]",
            "text/plain": [
              "<Figure size 432x288 with 1 Axes>"
            ]
          },
          "metadata": {
            "tags": [],
            "needs_background": "light"
          }
        }
      ]
    },
    {
      "cell_type": "markdown",
      "metadata": {
        "id": "VfKv5ZZDxAnn"
      },
      "source": [
        "## Task 7.1 \n",
        "\n",
        "Choose one of the continious and one of the discrete systems for which you designed control, and prove stability of the closed-loop version $(A - BK)$"
      ]
    },
    {
      "cell_type": "code",
      "metadata": {
        "colab": {
          "base_uri": "https://localhost:8080/"
        },
        "id": "bVuTIqZYhs2C",
        "outputId": "fecb9ad3-2a8f-4159-c9e8-fc713b8cd996"
      },
      "source": [
        "from scipy.linalg import solve_continuous_lyapunov\n",
        "from scipy.linalg import solve_discrete_lyapunov\n",
        "import numpy as np\n",
        "from scipy.signal import place_poles\n",
        "\n",
        "Q = np.array([[1, 0], [0, 1]])\n",
        "\n",
        "A = np.array([[10, 5], [-5, -10]])\n",
        "B = np.array([[-1], [2]])\n",
        "\n",
        "poles = np.array([-2, -3])\n",
        "place_obj = place_poles(A, B, poles)\n",
        "K = place_obj.gain_matrix\n",
        "\n",
        "P = solve_continuous_lyapunov(A - B.dot(K), Q)\n",
        "print(\"P(continuous) =\\n\", P.round(2), end='\\n\\n')\n",
        "\n",
        "P = solve_discrete_lyapunov(A - B.dot(K), Q)\n",
        "print(\"P(discrete) =\\n\", P.round(2))\n"
      ],
      "execution_count": null,
      "outputs": [
        {
          "output_type": "stream",
          "text": [
            "P(continuous) =\n",
            " [[ -0.11   0.39]\n",
            " [  0.39 -12.45]]\n",
            "\n",
            "P(discrete) =\n",
            " [[ -0.17   2.47]\n",
            " [  2.47 -42.81]]\n"
          ],
          "name": "stdout"
        }
      ]
    }
  ]
}