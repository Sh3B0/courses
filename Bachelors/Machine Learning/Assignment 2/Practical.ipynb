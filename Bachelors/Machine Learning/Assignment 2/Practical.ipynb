{
  "nbformat": 4,
  "nbformat_minor": 0,
  "metadata": {
    "colab": {
      "name": "Assignment_2.ipynb",
      "provenance": [],
      "collapsed_sections": [],
      "toc_visible": true
    },
    "kernelspec": {
      "display_name": "Python 3 (ipykernel)",
      "language": "python",
      "name": "python3"
    },
    "language_info": {
      "codemirror_mode": {
        "name": "ipython",
        "version": 3
      },
      "file_extension": ".py",
      "mimetype": "text/x-python",
      "name": "python",
      "nbconvert_exporter": "python",
      "pygments_lexer": "ipython3",
      "version": "3.8.10"
    },
    "accelerator": "GPU"
  },
  "cells": [
    {
      "cell_type": "markdown",
      "metadata": {
        "id": "kWY6YO2cMlNd"
      },
      "source": [
        "# **Ahmed Nouralla - B19-CS-01 - a.shaaban@innopolis.university**\n",
        "# **Machine Learning (F21) - Assignment 2**"
      ]
    },
    {
      "cell_type": "code",
      "metadata": {
        "id": "OiJvpL-ssluI"
      },
      "source": [
        "import pandas as pd\n",
        "import numpy as np\n",
        "import matplotlib.pyplot as plt"
      ],
      "execution_count": null,
      "outputs": []
    },
    {
      "cell_type": "markdown",
      "metadata": {
        "id": "8GETGzT9M93s"
      },
      "source": [
        "## **Practical Task 1 (Ensemble Learning)**"
      ]
    },
    {
      "cell_type": "markdown",
      "metadata": {
        "id": "X0twEij9esnO"
      },
      "source": [
        "### **Data Exploration**"
      ]
    },
    {
      "cell_type": "code",
      "metadata": {
        "colab": {
          "base_uri": "https://localhost:8080/",
          "height": 317
        },
        "id": "lh6okXSPMj73",
        "outputId": "3cfcd01a-dc30-48d1-f227-0373e6d4ced3"
      },
      "source": [
        "df = pd.read_csv('./android_traffic.csv')\n",
        "df.describe()"
      ],
      "execution_count": null,
      "outputs": [
        {
          "data": {
            "text/html": [
              "<div>\n",
              "<style scoped>\n",
              "    .dataframe tbody tr th:only-of-type {\n",
              "        vertical-align: middle;\n",
              "    }\n",
              "\n",
              "    .dataframe tbody tr th {\n",
              "        vertical-align: top;\n",
              "    }\n",
              "\n",
              "    .dataframe thead th {\n",
              "        text-align: right;\n",
              "    }\n",
              "</style>\n",
              "<table border=\"1\" class=\"dataframe\">\n",
              "  <thead>\n",
              "    <tr style=\"text-align: right;\">\n",
              "      <th></th>\n",
              "      <th>tcp_packets</th>\n",
              "      <th>dist_port_tcp</th>\n",
              "      <th>external_ips</th>\n",
              "      <th>vulume_bytes</th>\n",
              "      <th>udp_packets</th>\n",
              "      <th>source_app_packets</th>\n",
              "      <th>remote_app_packets</th>\n",
              "      <th>source_app_bytes</th>\n",
              "      <th>remote_app_bytes</th>\n",
              "      <th>source_app_packets.1</th>\n",
              "      <th>dns_query_times</th>\n",
              "    </tr>\n",
              "  </thead>\n",
              "  <tbody>\n",
              "    <tr>\n",
              "      <th>count</th>\n",
              "      <td>7845.000000</td>\n",
              "      <td>7845.000000</td>\n",
              "      <td>7845.000000</td>\n",
              "      <td>7.845000e+03</td>\n",
              "      <td>7845.000000</td>\n",
              "      <td>7845.000000</td>\n",
              "      <td>7845.000000</td>\n",
              "      <td>7.845000e+03</td>\n",
              "      <td>7.845000e+03</td>\n",
              "      <td>7845.000000</td>\n",
              "      <td>7845.000000</td>\n",
              "    </tr>\n",
              "    <tr>\n",
              "      <th>mean</th>\n",
              "      <td>147.578713</td>\n",
              "      <td>7.738177</td>\n",
              "      <td>2.748502</td>\n",
              "      <td>1.654375e+04</td>\n",
              "      <td>0.056724</td>\n",
              "      <td>152.911918</td>\n",
              "      <td>194.706310</td>\n",
              "      <td>2.024967e+05</td>\n",
              "      <td>1.692260e+04</td>\n",
              "      <td>152.911918</td>\n",
              "      <td>4.898917</td>\n",
              "    </tr>\n",
              "    <tr>\n",
              "      <th>std</th>\n",
              "      <td>777.920084</td>\n",
              "      <td>51.654222</td>\n",
              "      <td>2.923005</td>\n",
              "      <td>8.225650e+04</td>\n",
              "      <td>1.394046</td>\n",
              "      <td>779.034618</td>\n",
              "      <td>1068.112696</td>\n",
              "      <td>1.401076e+06</td>\n",
              "      <td>8.238182e+04</td>\n",
              "      <td>779.034618</td>\n",
              "      <td>18.900478</td>\n",
              "    </tr>\n",
              "    <tr>\n",
              "      <th>min</th>\n",
              "      <td>0.000000</td>\n",
              "      <td>0.000000</td>\n",
              "      <td>0.000000</td>\n",
              "      <td>0.000000e+00</td>\n",
              "      <td>0.000000</td>\n",
              "      <td>1.000000</td>\n",
              "      <td>0.000000</td>\n",
              "      <td>0.000000e+00</td>\n",
              "      <td>6.900000e+01</td>\n",
              "      <td>1.000000</td>\n",
              "      <td>0.000000</td>\n",
              "    </tr>\n",
              "    <tr>\n",
              "      <th>25%</th>\n",
              "      <td>6.000000</td>\n",
              "      <td>0.000000</td>\n",
              "      <td>1.000000</td>\n",
              "      <td>8.880000e+02</td>\n",
              "      <td>0.000000</td>\n",
              "      <td>7.000000</td>\n",
              "      <td>7.000000</td>\n",
              "      <td>9.340000e+02</td>\n",
              "      <td>1.046000e+03</td>\n",
              "      <td>7.000000</td>\n",
              "      <td>1.000000</td>\n",
              "    </tr>\n",
              "    <tr>\n",
              "      <th>50%</th>\n",
              "      <td>25.000000</td>\n",
              "      <td>0.000000</td>\n",
              "      <td>2.000000</td>\n",
              "      <td>3.509000e+03</td>\n",
              "      <td>0.000000</td>\n",
              "      <td>30.000000</td>\n",
              "      <td>24.000000</td>\n",
              "      <td>4.090000e+03</td>\n",
              "      <td>3.803000e+03</td>\n",
              "      <td>30.000000</td>\n",
              "      <td>3.000000</td>\n",
              "    </tr>\n",
              "    <tr>\n",
              "      <th>75%</th>\n",
              "      <td>93.000000</td>\n",
              "      <td>0.000000</td>\n",
              "      <td>4.000000</td>\n",
              "      <td>1.218900e+04</td>\n",
              "      <td>0.000000</td>\n",
              "      <td>98.000000</td>\n",
              "      <td>92.000000</td>\n",
              "      <td>2.624400e+04</td>\n",
              "      <td>1.261000e+04</td>\n",
              "      <td>98.000000</td>\n",
              "      <td>5.000000</td>\n",
              "    </tr>\n",
              "    <tr>\n",
              "      <th>max</th>\n",
              "      <td>37143.000000</td>\n",
              "      <td>2167.000000</td>\n",
              "      <td>43.000000</td>\n",
              "      <td>4.226790e+06</td>\n",
              "      <td>65.000000</td>\n",
              "      <td>37150.000000</td>\n",
              "      <td>45928.000000</td>\n",
              "      <td>6.823516e+07</td>\n",
              "      <td>4.227323e+06</td>\n",
              "      <td>37150.000000</td>\n",
              "      <td>913.000000</td>\n",
              "    </tr>\n",
              "  </tbody>\n",
              "</table>\n",
              "</div>"
            ],
            "text/plain": [
              "        tcp_packets  dist_port_tcp  external_ips  vulume_bytes  udp_packets  \\\n",
              "count   7845.000000    7845.000000   7845.000000  7.845000e+03  7845.000000   \n",
              "mean     147.578713       7.738177      2.748502  1.654375e+04     0.056724   \n",
              "std      777.920084      51.654222      2.923005  8.225650e+04     1.394046   \n",
              "min        0.000000       0.000000      0.000000  0.000000e+00     0.000000   \n",
              "25%        6.000000       0.000000      1.000000  8.880000e+02     0.000000   \n",
              "50%       25.000000       0.000000      2.000000  3.509000e+03     0.000000   \n",
              "75%       93.000000       0.000000      4.000000  1.218900e+04     0.000000   \n",
              "max    37143.000000    2167.000000     43.000000  4.226790e+06    65.000000   \n",
              "\n",
              "       source_app_packets  remote_app_packets  source_app_bytes  \\\n",
              "count         7845.000000         7845.000000      7.845000e+03   \n",
              "mean           152.911918          194.706310      2.024967e+05   \n",
              "std            779.034618         1068.112696      1.401076e+06   \n",
              "min              1.000000            0.000000      0.000000e+00   \n",
              "25%              7.000000            7.000000      9.340000e+02   \n",
              "50%             30.000000           24.000000      4.090000e+03   \n",
              "75%             98.000000           92.000000      2.624400e+04   \n",
              "max          37150.000000        45928.000000      6.823516e+07   \n",
              "\n",
              "       remote_app_bytes  source_app_packets.1  dns_query_times  \n",
              "count      7.845000e+03           7845.000000      7845.000000  \n",
              "mean       1.692260e+04            152.911918         4.898917  \n",
              "std        8.238182e+04            779.034618        18.900478  \n",
              "min        6.900000e+01              1.000000         0.000000  \n",
              "25%        1.046000e+03              7.000000         1.000000  \n",
              "50%        3.803000e+03             30.000000         3.000000  \n",
              "75%        1.261000e+04             98.000000         5.000000  \n",
              "max        4.227323e+06          37150.000000       913.000000  "
            ]
          },
          "execution_count": 2,
          "metadata": {},
          "output_type": "execute_result"
        }
      ]
    },
    {
      "cell_type": "code",
      "metadata": {
        "colab": {
          "base_uri": "https://localhost:8080/",
          "height": 439
        },
        "id": "A9Y-SH9kN_4P",
        "outputId": "e0333788-bbd7-49ed-ebb4-a55340c553a9"
      },
      "source": [
        "df"
      ],
      "execution_count": null,
      "outputs": [
        {
          "data": {
            "text/html": [
              "<div>\n",
              "<style scoped>\n",
              "    .dataframe tbody tr th:only-of-type {\n",
              "        vertical-align: middle;\n",
              "    }\n",
              "\n",
              "    .dataframe tbody tr th {\n",
              "        vertical-align: top;\n",
              "    }\n",
              "\n",
              "    .dataframe thead th {\n",
              "        text-align: right;\n",
              "    }\n",
              "</style>\n",
              "<table border=\"1\" class=\"dataframe\">\n",
              "  <thead>\n",
              "    <tr style=\"text-align: right;\">\n",
              "      <th></th>\n",
              "      <th>tcp_packets</th>\n",
              "      <th>dist_port_tcp</th>\n",
              "      <th>external_ips</th>\n",
              "      <th>vulume_bytes</th>\n",
              "      <th>udp_packets</th>\n",
              "      <th>source_app_packets</th>\n",
              "      <th>remote_app_packets</th>\n",
              "      <th>source_app_bytes</th>\n",
              "      <th>remote_app_bytes</th>\n",
              "      <th>source_app_packets.1</th>\n",
              "      <th>dns_query_times</th>\n",
              "      <th>type</th>\n",
              "    </tr>\n",
              "  </thead>\n",
              "  <tbody>\n",
              "    <tr>\n",
              "      <th>0</th>\n",
              "      <td>36</td>\n",
              "      <td>6</td>\n",
              "      <td>3</td>\n",
              "      <td>3911</td>\n",
              "      <td>0</td>\n",
              "      <td>39</td>\n",
              "      <td>33</td>\n",
              "      <td>5100</td>\n",
              "      <td>4140</td>\n",
              "      <td>39</td>\n",
              "      <td>3</td>\n",
              "      <td>benign</td>\n",
              "    </tr>\n",
              "    <tr>\n",
              "      <th>1</th>\n",
              "      <td>117</td>\n",
              "      <td>0</td>\n",
              "      <td>9</td>\n",
              "      <td>23514</td>\n",
              "      <td>0</td>\n",
              "      <td>128</td>\n",
              "      <td>107</td>\n",
              "      <td>26248</td>\n",
              "      <td>24358</td>\n",
              "      <td>128</td>\n",
              "      <td>11</td>\n",
              "      <td>benign</td>\n",
              "    </tr>\n",
              "    <tr>\n",
              "      <th>2</th>\n",
              "      <td>196</td>\n",
              "      <td>0</td>\n",
              "      <td>6</td>\n",
              "      <td>24151</td>\n",
              "      <td>0</td>\n",
              "      <td>205</td>\n",
              "      <td>214</td>\n",
              "      <td>163887</td>\n",
              "      <td>24867</td>\n",
              "      <td>205</td>\n",
              "      <td>9</td>\n",
              "      <td>benign</td>\n",
              "    </tr>\n",
              "    <tr>\n",
              "      <th>3</th>\n",
              "      <td>6</td>\n",
              "      <td>0</td>\n",
              "      <td>1</td>\n",
              "      <td>889</td>\n",
              "      <td>0</td>\n",
              "      <td>7</td>\n",
              "      <td>6</td>\n",
              "      <td>819</td>\n",
              "      <td>975</td>\n",
              "      <td>7</td>\n",
              "      <td>1</td>\n",
              "      <td>benign</td>\n",
              "    </tr>\n",
              "    <tr>\n",
              "      <th>4</th>\n",
              "      <td>6</td>\n",
              "      <td>0</td>\n",
              "      <td>1</td>\n",
              "      <td>882</td>\n",
              "      <td>0</td>\n",
              "      <td>7</td>\n",
              "      <td>6</td>\n",
              "      <td>819</td>\n",
              "      <td>968</td>\n",
              "      <td>7</td>\n",
              "      <td>1</td>\n",
              "      <td>benign</td>\n",
              "    </tr>\n",
              "    <tr>\n",
              "      <th>...</th>\n",
              "      <td>...</td>\n",
              "      <td>...</td>\n",
              "      <td>...</td>\n",
              "      <td>...</td>\n",
              "      <td>...</td>\n",
              "      <td>...</td>\n",
              "      <td>...</td>\n",
              "      <td>...</td>\n",
              "      <td>...</td>\n",
              "      <td>...</td>\n",
              "      <td>...</td>\n",
              "      <td>...</td>\n",
              "    </tr>\n",
              "    <tr>\n",
              "      <th>7840</th>\n",
              "      <td>0</td>\n",
              "      <td>0</td>\n",
              "      <td>0</td>\n",
              "      <td>0</td>\n",
              "      <td>0</td>\n",
              "      <td>2</td>\n",
              "      <td>2</td>\n",
              "      <td>257</td>\n",
              "      <td>143</td>\n",
              "      <td>2</td>\n",
              "      <td>2</td>\n",
              "      <td>malicious</td>\n",
              "    </tr>\n",
              "    <tr>\n",
              "      <th>7841</th>\n",
              "      <td>4</td>\n",
              "      <td>4</td>\n",
              "      <td>1</td>\n",
              "      <td>296</td>\n",
              "      <td>0</td>\n",
              "      <td>5</td>\n",
              "      <td>1</td>\n",
              "      <td>86</td>\n",
              "      <td>382</td>\n",
              "      <td>5</td>\n",
              "      <td>1</td>\n",
              "      <td>malicious</td>\n",
              "    </tr>\n",
              "    <tr>\n",
              "      <th>7842</th>\n",
              "      <td>0</td>\n",
              "      <td>0</td>\n",
              "      <td>0</td>\n",
              "      <td>0</td>\n",
              "      <td>0</td>\n",
              "      <td>2</td>\n",
              "      <td>2</td>\n",
              "      <td>257</td>\n",
              "      <td>143</td>\n",
              "      <td>2</td>\n",
              "      <td>2</td>\n",
              "      <td>malicious</td>\n",
              "    </tr>\n",
              "    <tr>\n",
              "      <th>7843</th>\n",
              "      <td>0</td>\n",
              "      <td>0</td>\n",
              "      <td>0</td>\n",
              "      <td>0</td>\n",
              "      <td>0</td>\n",
              "      <td>2</td>\n",
              "      <td>2</td>\n",
              "      <td>257</td>\n",
              "      <td>143</td>\n",
              "      <td>2</td>\n",
              "      <td>2</td>\n",
              "      <td>malicious</td>\n",
              "    </tr>\n",
              "    <tr>\n",
              "      <th>7844</th>\n",
              "      <td>0</td>\n",
              "      <td>0</td>\n",
              "      <td>0</td>\n",
              "      <td>0</td>\n",
              "      <td>0</td>\n",
              "      <td>2</td>\n",
              "      <td>2</td>\n",
              "      <td>257</td>\n",
              "      <td>143</td>\n",
              "      <td>2</td>\n",
              "      <td>2</td>\n",
              "      <td>malicious</td>\n",
              "    </tr>\n",
              "  </tbody>\n",
              "</table>\n",
              "<p>7845 rows × 12 columns</p>\n",
              "</div>"
            ],
            "text/plain": [
              "      tcp_packets  dist_port_tcp  external_ips  vulume_bytes  udp_packets  \\\n",
              "0              36              6             3          3911            0   \n",
              "1             117              0             9         23514            0   \n",
              "2             196              0             6         24151            0   \n",
              "3               6              0             1           889            0   \n",
              "4               6              0             1           882            0   \n",
              "...           ...            ...           ...           ...          ...   \n",
              "7840            0              0             0             0            0   \n",
              "7841            4              4             1           296            0   \n",
              "7842            0              0             0             0            0   \n",
              "7843            0              0             0             0            0   \n",
              "7844            0              0             0             0            0   \n",
              "\n",
              "      source_app_packets  remote_app_packets  source_app_bytes  \\\n",
              "0                     39                  33              5100   \n",
              "1                    128                 107             26248   \n",
              "2                    205                 214            163887   \n",
              "3                      7                   6               819   \n",
              "4                      7                   6               819   \n",
              "...                  ...                 ...               ...   \n",
              "7840                   2                   2               257   \n",
              "7841                   5                   1                86   \n",
              "7842                   2                   2               257   \n",
              "7843                   2                   2               257   \n",
              "7844                   2                   2               257   \n",
              "\n",
              "      remote_app_bytes  source_app_packets.1  dns_query_times       type  \n",
              "0                 4140                    39                3     benign  \n",
              "1                24358                   128               11     benign  \n",
              "2                24867                   205                9     benign  \n",
              "3                  975                     7                1     benign  \n",
              "4                  968                     7                1     benign  \n",
              "...                ...                   ...              ...        ...  \n",
              "7840               143                     2                2  malicious  \n",
              "7841               382                     5                1  malicious  \n",
              "7842               143                     2                2  malicious  \n",
              "7843               143                     2                2  malicious  \n",
              "7844               143                     2                2  malicious  \n",
              "\n",
              "[7845 rows x 12 columns]"
            ]
          },
          "execution_count": 3,
          "metadata": {},
          "output_type": "execute_result"
        }
      ]
    },
    {
      "cell_type": "code",
      "metadata": {
        "colab": {
          "base_uri": "https://localhost:8080/"
        },
        "id": "0N_duJ-_gR5b",
        "outputId": "fecd7477-59a5-47a3-9552-46f9e11c50df"
      },
      "source": [
        "df.type.value_counts()"
      ],
      "execution_count": null,
      "outputs": [
        {
          "data": {
            "text/plain": [
              "benign       4704\n",
              "malicious    3141\n",
              "Name: type, dtype: int64"
            ]
          },
          "execution_count": 4,
          "metadata": {},
          "output_type": "execute_result"
        }
      ]
    },
    {
      "cell_type": "code",
      "metadata": {
        "colab": {
          "base_uri": "https://localhost:8080/"
        },
        "id": "YezQdAH-Ojph",
        "outputId": "c073e86a-04aa-4203-d4c9-648e0c846932"
      },
      "source": [
        "df.dtypes"
      ],
      "execution_count": null,
      "outputs": [
        {
          "data": {
            "text/plain": [
              "tcp_packets              int64\n",
              "dist_port_tcp            int64\n",
              "external_ips             int64\n",
              "vulume_bytes             int64\n",
              "udp_packets              int64\n",
              "source_app_packets       int64\n",
              "remote_app_packets       int64\n",
              "source_app_bytes         int64\n",
              "remote_app_bytes         int64\n",
              "source_app_packets.1     int64\n",
              "dns_query_times          int64\n",
              "type                    object\n",
              "dtype: object"
            ]
          },
          "execution_count": 5,
          "metadata": {},
          "output_type": "execute_result"
        }
      ]
    },
    {
      "cell_type": "code",
      "metadata": {
        "colab": {
          "base_uri": "https://localhost:8080/"
        },
        "id": "q8mYQ3xNQucq",
        "outputId": "3961171a-5f52-4b81-c801-1d9606de93e1"
      },
      "source": [
        "df.isna().sum() / df.count()"
      ],
      "execution_count": null,
      "outputs": [
        {
          "data": {
            "text/plain": [
              "tcp_packets             0.0\n",
              "dist_port_tcp           0.0\n",
              "external_ips            0.0\n",
              "vulume_bytes            0.0\n",
              "udp_packets             0.0\n",
              "source_app_packets      0.0\n",
              "remote_app_packets      0.0\n",
              "source_app_bytes        0.0\n",
              "remote_app_bytes        0.0\n",
              "source_app_packets.1    0.0\n",
              "dns_query_times         0.0\n",
              "type                    0.0\n",
              "dtype: float64"
            ]
          },
          "execution_count": 6,
          "metadata": {},
          "output_type": "execute_result"
        }
      ]
    },
    {
      "cell_type": "code",
      "metadata": {
        "colab": {
          "base_uri": "https://localhost:8080/",
          "height": 386
        },
        "id": "LiKIAoyy9X0U",
        "outputId": "628e8e58-ff90-4086-e28a-63314b59dfb7"
      },
      "source": [
        "import seaborn as sns\n",
        "corr = df.corr()\n",
        "print(sns.heatmap(corr, cmap=\"Blues\"))"
      ],
      "execution_count": null,
      "outputs": [
        {
          "name": "stdout",
          "output_type": "stream",
          "text": [
            "AxesSubplot(0.125,0.125;0.62x0.755)\n"
          ]
        },
        {
          "data": {
            "image/png": "[encoded data removed]",
            "text/plain": [
              "<Figure size 432x288 with 2 Axes>"
            ]
          },
          "metadata": {
            "needs_background": "light"
          },
          "output_type": "display_data"
        }
      ]
    },
    {
      "cell_type": "markdown",
      "metadata": {
        "id": "dtAt9Sn1QOfT"
      },
      "source": [
        "**Observations**:\n",
        "1. Data represents information about packets sent by some android applications labeled with a `type` value that can be `malicious` or `benign` \n",
        "2. Dataset contains 11 numerical (integer-valued) features, no null values, and many correlated features.\n",
        "3. Data is a little bit biased towards 'benign' apps.\n"
      ]
    },
    {
      "cell_type": "markdown",
      "metadata": {
        "id": "WgGJHJcJ2CN3"
      },
      "source": [
        "### **Train-Test Splitting**"
      ]
    },
    {
      "cell_type": "code",
      "metadata": {
        "id": "qorj5KAx9tGR"
      },
      "source": [
        "from sklearn.model_selection import train_test_split\n",
        "\n",
        "x = df.drop('type', axis=1)\n",
        "y = df['type']\n",
        "x_train, x_test, y_train, y_test = train_test_split(x, y, train_size=0.8, stratify=y, random_state=0)"
      ],
      "execution_count": null,
      "outputs": []
    },
    {
      "cell_type": "markdown",
      "metadata": {
        "id": "I653E_Dy-hsz"
      },
      "source": [
        "### **Ensemble Learning**\n"
      ]
    },
    {
      "cell_type": "code",
      "metadata": {
        "colab": {
          "base_uri": "https://localhost:8080/"
        },
        "id": "8VavQAqg-hYr",
        "outputId": "4a32f51b-0335-4000-b4d2-d28314239b4f"
      },
      "source": [
        "from sklearn.ensemble import RandomForestClassifier, BaggingClassifier, AdaBoostClassifier\n",
        "from sklearn.tree import DecisionTreeClassifier\n",
        "from sklearn.metrics import accuracy_score\n",
        "\n",
        "est = {}\n",
        "est[0] = (RandomForestClassifier(random_state=0, max_depth=15), 'Random Forest Classifier')\n",
        "est[1] = (BaggingClassifier(random_state=0, base_estimator=DecisionTreeClassifier(max_depth=15)), 'Bagging Classifier')\n",
        "est[2] = (AdaBoostClassifier(random_state=0, base_estimator=DecisionTreeClassifier(max_depth=15)), 'AdaBoost Classifier')\n",
        "\n",
        "for i in range(3):\n",
        "  est[i][0].fit(x_train, y_train)\n",
        "  print(f\"{est[i][1]} score = {accuracy_score(y_test, est[i][0].predict(x_test))}\")"
      ],
      "execution_count": null,
      "outputs": [
        {
          "name": "stdout",
          "output_type": "stream",
          "text": [
            "Random Forest Classifier score = 0.8891013384321224\n",
            "Bagging Classifier score = 0.8776290630975143\n",
            "AdaBoost Classifier score = 0.8992989165073295\n"
          ]
        }
      ]
    },
    {
      "cell_type": "markdown",
      "metadata": {
        "id": "XkP9r96VdOnR"
      },
      "source": [
        "### **Fine-Tuning Hyper-parameters using `GridSearchCV`**"
      ]
    },
    {
      "cell_type": "code",
      "metadata": {
        "colab": {
          "base_uri": "https://localhost:8080/"
        },
        "id": "U-njxZakBN0y",
        "outputId": "a3754e52-6b7a-419d-8744-881377a65d99"
      },
      "source": [
        "from sklearn.model_selection import GridSearchCV\n",
        "import multiprocessing\n",
        "\n",
        "grid = [{\n",
        "    'n_estimators':  [1000, 1500, 2000],\n",
        "    'max_features':  ['sqrt', 'log2'],\n",
        "    'min_impurity_decrease':  list(np.linspace(0, 1, 5)),\n",
        "},\n",
        "{\n",
        "    'n_estimators':  [200, 250, 300],\n",
        "    'base_estimator__max_features':  ['sqrt', 'log2'],\n",
        "    'base_estimator__min_impurity_decrease':  list(np.linspace(0, 1, 5)),\n",
        "},\n",
        "{\n",
        "    'n_estimators':  [200, 250, 300],\n",
        "    'base_estimator__max_features':  ['sqrt', 'log2'],\n",
        "    'base_estimator__min_impurity_decrease':  list(np.linspace(0, 1, 5)),\n",
        "}]\n",
        "\n",
        "gs = {}\n",
        "be = {}\n",
        "for i in range(3):\n",
        "  gs[i] = GridSearchCV(estimator=est[i][0],\n",
        "               param_grid=grid[i],\n",
        "               scoring='accuracy',\n",
        "               verbose=1,\n",
        "               n_jobs=multiprocessing.cpu_count()-1)\n",
        "  gs[i].fit(x_train, y_train)\n",
        "  be[i] = gs[i].best_estimator_\n",
        "\n",
        "for i in range(3):\n",
        "  print(f\"{est[i][1]} best parameters: {gs[i].best_params_}\")\n",
        "  print(f\"{est[i][1]} accuracy: {accuracy_score(y_test, be[i].predict(x_test))}\")"
      ],
      "execution_count": null,
      "outputs": [
        {
          "name": "stdout",
          "output_type": "stream",
          "text": [
            "Fitting 5 folds for each of 30 candidates, totalling 150 fits\n",
            "Fitting 5 folds for each of 30 candidates, totalling 150 fits\n",
            "Fitting 5 folds for each of 30 candidates, totalling 150 fits\n",
            "Random Forest Classifier best parameters: {'max_features': 'sqrt', 'min_impurity_decrease': 0.0, 'n_estimators': 1500}\n",
            "Random Forest Classifier accuracy: 0.8884639898024219\n",
            "Bagging Classifier best parameters: {'base_estimator__max_features': 'sqrt', 'base_estimator__min_impurity_decrease': 0.0, 'n_estimators': 300}\n",
            "Bagging Classifier accuracy: 0.8852772466539197\n",
            "AdaBoost Classifier best parameters: {'base_estimator__max_features': 'sqrt', 'base_estimator__min_impurity_decrease': 0.0, 'n_estimators': 250}\n",
            "AdaBoost Classifier accuracy: 0.8935627788400254\n"
          ]
        }
      ]
    },
    {
      "cell_type": "markdown",
      "metadata": {
        "id": "T3i78Ioiy-Qi"
      },
      "source": [
        "**Observations**:\n",
        "- Seems that all models performed almost equally, with AdaBoostClassifier being slightly better that the others even with less numebr of estimators, since it builds the model sequentially using information from previous ones.\n",
        "- If we tuned `max_depth` parameter as well, it's expected that `BaggingClassifier` will have deepest base learner because it combines the results of many strong (deep) learners, unlike `AdaBoostClassifier` which combines weak learners.\n",
        "- Lets create the model with best parameters we got from grid search and fine tune `max_depth` to see if our expectation was correct. "
      ]
    },
    {
      "cell_type": "code",
      "metadata": {
        "id": "k3lf_lkd11EF",
        "outputId": "017553e3-5b8d-43cf-80c2-49f3e4759292"
      },
      "source": [
        "grid2 = [\n",
        "    {'max_depth':  list(range(5, 26))},\n",
        "    {'base_estimator__max_depth':  list(range(5, 26))},\n",
        "    {'base_estimator__max_depth':  list(range(5, 26))}\n",
        "]\n",
        "\n",
        "gs2 = {}\n",
        "\n",
        "for i in range(3):\n",
        "  gs2[i] = GridSearchCV(estimator=be[i],\n",
        "               param_grid=grid2[i],\n",
        "               scoring='accuracy',\n",
        "               verbose=1,\n",
        "               n_jobs=multiprocessing.cpu_count()-1)\n",
        "  gs2[i].fit(x_train, y_train)\n",
        "\n",
        "for i in range(3):\n",
        "  print(f\"{est[i][1]} best parameters: {gs2[i].best_params_}\")\n",
        "  print(accuracy_score(y_test, gs2[i].best_estimator_.predict(x_test)))"
      ],
      "execution_count": null,
      "outputs": [
        {
          "name": "stdout",
          "output_type": "stream",
          "text": [
            "Fitting 5 folds for each of 21 candidates, totalling 105 fits\n",
            "Fitting 5 folds for each of 21 candidates, totalling 105 fits\n",
            "Fitting 5 folds for each of 21 candidates, totalling 105 fits\n",
            "Random Forest Classifier best parameters: {'max_depth': 20}\n",
            "0.892925430210325\n",
            "Bagging Classifier best parameters: {'base_estimator__max_depth': 23}\n",
            "0.8954748247291269\n",
            "AdaBoost Classifier best parameters: {'base_estimator__max_depth': 14}\n",
            "0.8973868706182282\n"
          ]
        }
      ]
    },
    {
      "cell_type": "markdown",
      "metadata": {
        "id": "RBXuj0JjmdG9"
      },
      "source": [
        "### Plotting (max_depth, accuracy) for each model"
      ]
    },
    {
      "cell_type": "code",
      "metadata": {
        "id": "D6ro8tPkko1u",
        "outputId": "b17e6b7d-07cb-43c2-c221-e3a5bd46f6f6"
      },
      "source": [
        "for i in range(3):\n",
        "  plt.plot(list(range(5, 26)), gs2[i].cv_results_['mean_test_score'], label=est[i][1])\n",
        "\n",
        "plt.legend()\n",
        "plt.grid()\n",
        "plt.show()"
      ],
      "execution_count": null,
      "outputs": [
        {
          "data": {
            "image/png": "[encoded data removed]",
            "text/plain": [
              "<Figure size 432x288 with 1 Axes>"
            ]
          },
          "metadata": {
            "needs_background": "light"
          },
          "output_type": "display_data"
        }
      ]
    },
    {
      "cell_type": "markdown",
      "metadata": {
        "id": "PBWN1iUemdG_"
      },
      "source": [
        "**Observation:** \n",
        "- It seems that AdaBoostClassifier performed almost the same (or even better) on the test data than the other models, even with a shallower tree, which makes it the best candidate to choose for this task."
      ]
    },
    {
      "cell_type": "markdown",
      "metadata": {
        "id": "5A_48UfDp_yO"
      },
      "source": [
        "## **Practical Task 2 - CNN**"
      ]
    },
    {
      "cell_type": "code",
      "metadata": {
        "id": "gEg99DjPyjVD"
      },
      "source": [
        "import cv2\n",
        "import os\n",
        "import matplotlib.pyplot as plt\n",
        "import numpy as np\n",
        "from skimage.color import rgb2gray\n",
        "from tensorflow.random import set_seed\n",
        "\n",
        "# to get reproducible results with keras.\n",
        "np.random.seed(0)\n",
        "set_seed(0)"
      ],
      "execution_count": 2,
      "outputs": []
    },
    {
      "cell_type": "code",
      "metadata": {
        "id": "x5CptYcGmq9p",
        "colab": {
          "base_uri": "https://localhost:8080/"
        },
        "outputId": "d7069d84-48fa-4b65-ab5f-975f2c11509d"
      },
      "source": [
        "from google.colab import drive\n",
        "drive.mount('/content/drive/')"
      ],
      "execution_count": 3,
      "outputs": [
        {
          "output_type": "stream",
          "name": "stdout",
          "text": [
            "Mounted at /content/drive/\n"
          ]
        }
      ]
    },
    {
      "cell_type": "markdown",
      "metadata": {
        "id": "rGK4hy1VmdHA"
      },
      "source": [
        "### Reading dataset from files"
      ]
    },
    {
      "cell_type": "code",
      "metadata": {
        "id": "iBcKIlOrmdHA"
      },
      "source": [
        "img_dir = './drive/MyDrive/gi4e_database/images/'\n",
        "label_dir = './drive/MyDrive/gi4e_database/labels/'\n",
        "\n",
        "img = {}  # img_name -> grayscale_img_array\n",
        "\n",
        "for img_name in os.listdir(img_dir):\n",
        "    img_path = img_dir + img_name\n",
        "    img[img_name] = rgb2gray(plt.imread(img_path))"
      ],
      "execution_count": 4,
      "outputs": []
    },
    {
      "cell_type": "markdown",
      "metadata": {
        "id": "eyoJikwPmdHB"
      },
      "source": [
        "### Parsing coordinates for a sample image"
      ]
    },
    {
      "cell_type": "code",
      "metadata": {
        "id": "roGowH9rmdHB",
        "colab": {
          "base_uri": "https://localhost:8080/",
          "height": 430
        },
        "outputId": "ef88df5e-5d27-45f5-9f1e-06d043e81ca1"
      },
      "source": [
        "sample = '002_01.png'\n",
        "sample_coords = open(label_dir + '002_image_labels.txt').read().split('\\n')[0].split('\\t')\n",
        "\n",
        "\n",
        "# l_br : left eye, bottom-right boundary coordinates\n",
        "l_br = (float(sample_coords[1]), float(sample_coords[2]))\n",
        "l_c = (float(sample_coords[3]), float(sample_coords[4]))\n",
        "l_tl = (float(sample_coords[5]), float(sample_coords[6]))\n",
        "r_br = (float(sample_coords[7]), float(sample_coords[8]))\n",
        "r_c = (float(sample_coords[9]), float(sample_coords[10]))\n",
        "r_tl = (float(sample_coords[11]), float(sample_coords[12]))\n",
        "\n",
        "print(f'Sample image shape: {img[sample].shape}')\n",
        "print(f'Sample image data:\\n {img[sample]}')\n",
        "\n",
        "tmp = img[sample].copy()\n",
        "\n",
        "# uncomment to draw eye corners, although it won't be clearly visible\n",
        "# tmp = cv2.rectangle(img=tmp, pt1=l_br, pt2=l_tl, color=(0, 0), thickness=2)\n",
        "# tmp = cv2.rectangle(img=tmp, pt1=r_br, pt2=r_tl, color=(0, 0), thickness=2)\n",
        "\n",
        "# Circling iris\n",
        "tmp = cv2.circle(img=tmp, center=(round(l_c[0]), round(l_c[1])), radius=20, color=(0, 0), thickness=5)\n",
        "tmp = cv2.circle(img=tmp, center=(round(r_c[0]), round(r_c[1])), radius=20, color=(0, 0), thickness=5)\n",
        "\n",
        "plt.imshow(tmp, cmap='gray')\n",
        "plt.show()"
      ],
      "execution_count": 5,
      "outputs": [
        {
          "output_type": "stream",
          "name": "stdout",
          "text": [
            "Sample image shape: (600, 800)\n",
            "Sample image data:\n",
            " [[0.9935556  0.99999994 0.914298   ... 0.39690393 0.38316706 0.3313306 ]\n",
            " [0.99496233 0.99999994 0.99999994 ... 0.39470944 0.3753616  0.322409  ]\n",
            " [0.72412825 0.8944302  0.99636114 ... 0.38406864 0.36780903 0.3386686 ]\n",
            " ...\n",
            " [0.6286416  0.58828706 0.5678082  ... 0.4172549  0.4155655  0.40883842]\n",
            " [0.58402234 0.5495616  0.50222    ... 0.4113839  0.4088612  0.40241686]\n",
            " [0.5215224  0.51762354 0.45545176 ... 0.4052302  0.40132353 0.39880076]]\n"
          ]
        },
        {
          "output_type": "display_data",
          "data": {
            "image/png": "[encoded data removed]",
            "text/plain": [
              "<Figure size 432x288 with 1 Axes>"
            ]
          },
          "metadata": {
            "needs_background": "light"
          }
        }
      ]
    },
    {
      "cell_type": "markdown",
      "metadata": {
        "id": "h5DFNejMmdHC"
      },
      "source": [
        "### Constructing X, Y sets\n",
        "- Let's do the same as we did for the sample image to create X, Y sets that will be later splitted into training and testing data."
      ]
    },
    {
      "cell_type": "code",
      "metadata": {
        "id": "ARSIsb8smdHD"
      },
      "source": [
        "# Generates a black image with white pixel on iris center given a sample (x, y) pair.\n",
        "OFFSET = 5\n",
        "\n",
        "def to_img(x, y):\n",
        "    tmp = np.full((48, 48), 0.0)\n",
        "    for i in range(round(y)-OFFSET, round(y)+OFFSET):\n",
        "      for j in range(round(x)-OFFSET, round(x)+OFFSET):\n",
        "        tmp[i][j] = 1\n",
        "    \n",
        "    return tmp"
      ],
      "execution_count": 38,
      "outputs": []
    },
    {
      "cell_type": "code",
      "metadata": {
        "id": "YXkxy10DmdHC"
      },
      "source": [
        "PAD = 20\n",
        "X, Y = [], []\n",
        "\n",
        "for img_name, img_arr in img.items():\n",
        "    basename = img_name.split('.')[0]\n",
        "    uid, iid = basename.split('_') # user_id and image_id\n",
        "    img_coords = open(f\"{label_dir}{uid}_image_labels.txt\").read().split('\\n')[int(iid)-1].split('\\t')\n",
        "    \n",
        "    # Read coordinates\n",
        "    l_br = (float(img_coords[1]), float(img_coords[2]))\n",
        "    l_c = (float(img_coords[3]), float(img_coords[4]))\n",
        "    l_tl = (float(img_coords[5]), float(img_coords[6]))\n",
        "    r_br = (float(img_coords[7]), float(img_coords[8]))\n",
        "    r_c = (float(img_coords[9]), float(img_coords[10]))\n",
        "    r_tl = (float(img_coords[11]), float(img_coords[12]))\n",
        "\n",
        "    # Add Padding\n",
        "    l_br = (l_br[0]+PAD, l_br[1]-PAD)\n",
        "    l_tl = (l_tl[0]-PAD, l_tl[1]+PAD)\n",
        "    r_br = (r_br[0]+PAD, r_br[1]-PAD)\n",
        "    r_tl = (r_tl[0]-PAD, r_tl[1]+PAD)\n",
        "\n",
        "    # Calculating new iris center for cropped and resized images\n",
        "    l_cn=((l_c[0]-l_tl[0])/(l_br[0]-l_tl[0])*48, (l_c[1]-l_br[1])/(l_tl[1]-l_br[1])*48)\n",
        "    r_cn=((r_c[0]-r_tl[0])/(r_br[0]-r_tl[0])*48, (r_c[1]-r_br[1])/(r_tl[1]-r_br[1])*48)\n",
        "    \n",
        "    # Crop eye boundaries and resize image\n",
        "    l_tmp = img_arr.copy()\n",
        "    l_tmp = l_tmp[round(l_br[1]):round(l_tl[1]), round(l_tl[0]):round(l_br[0])]\n",
        "    r_tmp = img_arr.copy()\n",
        "    r_tmp = r_tmp[round(r_br[1]):round(r_tl[1]), round(r_tl[0]):round(r_br[0])]\n",
        "    \n",
        "    # Appending results to X, Y sets, X=eye_img, Y=iris_coords\n",
        "    X.append(cv2.resize(l_tmp, (48, 48)))\n",
        "    X.append(cv2.resize(r_tmp, (48, 48)))\n",
        "\n",
        "    Y.append(to_img(round(l_cn[0]), round(l_cn[1])))\n",
        "    Y.append(to_img(round(r_cn[0]), round(r_cn[1])))"
      ],
      "execution_count": 39,
      "outputs": []
    },
    {
      "cell_type": "markdown",
      "metadata": {
        "id": "ARc_xUFFmdHD"
      },
      "source": [
        "### Plotting sample (x, y) pair"
      ]
    },
    {
      "cell_type": "code",
      "metadata": {
        "id": "Rm1ZHQUrmdHE",
        "colab": {
          "base_uri": "https://localhost:8080/",
          "height": 303
        },
        "outputId": "0f8f8dbf-1742-4b90-a348-c87900537a50"
      },
      "source": [
        "plt.figure(figsize=(10, 5))\n",
        "\n",
        "plt.subplot(1, 2, 1)\n",
        "plt.imshow(X[0], cmap='gray')\n",
        "\n",
        "plt.subplot(1, 2, 2)\n",
        "plt.imshow(Y[0], cmap='gray')\n",
        "plt.show()"
      ],
      "execution_count": 40,
      "outputs": [
        {
          "output_type": "display_data",
          "data": {
            "image/png": "[encoded data removed]",
            "text/plain": [
              "<Figure size 720x360 with 2 Axes>"
            ]
          },
          "metadata": {
            "needs_background": "light"
          }
        }
      ]
    },
    {
      "cell_type": "markdown",
      "metadata": {
        "id": "JSxIpn86mdHE"
      },
      "source": [
        "### Train-Test Splitting"
      ]
    },
    {
      "cell_type": "code",
      "metadata": {
        "id": "x0rvjll6mdHF",
        "colab": {
          "base_uri": "https://localhost:8080/"
        },
        "outputId": "414dd3b7-566d-4e87-a8c7-2b185be44b57"
      },
      "source": [
        "from sklearn.model_selection import train_test_split\n",
        "\n",
        "X = np.array(X).reshape(len(X), 48, 48)\n",
        "Y = np.array(Y)\n",
        "\n",
        "print(f\"X shape: {X.shape}\")\n",
        "print(f\"Y shape: {Y.shape}\")\n",
        "\n",
        "x_train, x_test, y_train, y_test = train_test_split(X, Y, train_size=0.7, random_state=0)"
      ],
      "execution_count": 41,
      "outputs": [
        {
          "output_type": "stream",
          "name": "stdout",
          "text": [
            "X shape: (2472, 48, 48)\n",
            "Y shape: (2472, 48, 48)\n"
          ]
        }
      ]
    },
    {
      "cell_type": "markdown",
      "metadata": {
        "id": "069Dc4P4mdHF"
      },
      "source": [
        "### Building CNN Model"
      ]
    },
    {
      "cell_type": "code",
      "metadata": {
        "id": "7ciATPSJmdHG",
        "colab": {
          "base_uri": "https://localhost:8080/"
        },
        "outputId": "3db75440-a026-4e51-e525-a95e52f0474b"
      },
      "source": [
        "from keras.models import Sequential, Model\n",
        "from keras.layers import Dense, Conv2D, Flatten, BatchNormalization, Dropout, Input, Concatenate, Conv2DTranspose\n",
        "\n",
        "# Implementing the architecture from Figure 2\n",
        "#\n",
        "#             _____________________________\n",
        "#            |                             |\n",
        "#            |                             v\n",
        "# input -> conv_1 -> conv_2 -> conv_3 -> conv_4 -> conv_5 -> out\n",
        "#                       |\n",
        "#                       |\n",
        "#                        -------> aux_conv_1 -> aux_conv_2 -> aux_conv_3 -> aux_out\n",
        "\n",
        "# out is the output image (black image with white pixels on iris center)\n",
        "# aux_out is the reconstructed version of the original image\n",
        "\n",
        "def build_model(x_train, y_train, x_val, y_val, params, verbose=0):\n",
        "\n",
        "    input = Input(shape=(48, 48, 1), name='input')\n",
        "\n",
        "    conv_1 = Conv2D(64, kernel_size=3, padding='same', activation=params['activation'], name='conv_1')(input)\n",
        "\n",
        "    conv_2 = Conv2D(128, kernel_size=3, strides=2, padding='same', activation=params['activation'], name='conv_2')(conv_1)\n",
        "\n",
        "    conv_3 = Conv2D(256, kernel_size=3, strides=2, padding='same', activation=params['activation'], name='conv_3')(conv_2)\n",
        "\n",
        "    conv_4 = Concatenate(name='conv_4')([conv_1,\n",
        "                            Conv2DTranspose(64, kernel_size=3, strides=4, padding='same', activation=params['activation'], name='temp')(conv_3)\n",
        "                            ])\n",
        "\n",
        "    conv_5 = Conv2D(64, kernel_size=3, padding='same', activation=params['activation'], name='conv_5')(conv_4)\n",
        "\n",
        "    out = Conv2D(1, kernel_size=3, padding='same', activation=params['activation'], name='out')(conv_5)\n",
        "\n",
        "\n",
        "    aux_conv_1 = Conv2D(256, kernel_size=3, strides=1, padding='same', activation=params['activation'], name='aux_conv_1')(conv_3)\n",
        "\n",
        "    aux_conv_2 = Conv2DTranspose(128, kernel_size=3, strides=2, padding='same', activation=params['activation'], name='aux_conv_2')(aux_conv_1)\n",
        "    \n",
        "    aux_conv_3 = Conv2DTranspose(64, kernel_size=3, strides=2, padding='same', activation=params['activation'], name='aux_conv_3')(aux_conv_2)\n",
        "\n",
        "    aux_out = Conv2D(1, kernel_size=3, padding='same', activation=params['activation'], name='aux_out')(aux_conv_3)\n",
        "\n",
        "    model = Model(inputs=input, outputs={\"out\": out, \"aux_out\": aux_out})\n",
        "\n",
        "    if verbose:\n",
        "      model.summary()\n",
        "\n",
        "    model.compile(optimizer=params['optimizer'], loss=params['loss'], loss_weights={\"aux_out\": 1.0, \"out\": 10.0})\n",
        "\n",
        "    history = model.fit(x_train,\n",
        "                        y={\"aux_out\": x_train, \"out\": y_train},\n",
        "                        validation_data=(x_val, {\"aux_out\": x_val, \"out\": y_val}),\n",
        "                        epochs=8,\n",
        "                        batch_size=64,\n",
        "                        verbose=verbose\n",
        "                        )\n",
        "    \n",
        "    return history, model\n",
        "\n",
        "_, model = build_model(x_train, y_train, x_test, y_test, {'optimizer': 'adam', 'loss': {\"aux_out\": \"mse\", \"out\": \"mse\"}, 'activation': 'relu'}, verbose=1)"
      ],
      "execution_count": 50,
      "outputs": [
        {
          "output_type": "stream",
          "name": "stdout",
          "text": [
            "Model: \"model_8\"\n",
            "__________________________________________________________________________________________________\n",
            " Layer (type)                   Output Shape         Param #     Connected to                     \n",
            "==================================================================================================\n",
            " input (InputLayer)             [(None, 48, 48, 1)]  0           []                               \n",
            "                                                                                                  \n",
            " conv_1 (Conv2D)                (None, 48, 48, 64)   640         ['input[0][0]']                  \n",
            "                                                                                                  \n",
            " conv_2 (Conv2D)                (None, 24, 24, 128)  73856       ['conv_1[0][0]']                 \n",
            "                                                                                                  \n",
            " conv_3 (Conv2D)                (None, 12, 12, 256)  295168      ['conv_2[0][0]']                 \n",
            "                                                                                                  \n",
            " aux_conv_1 (Conv2D)            (None, 12, 12, 256)  590080      ['conv_3[0][0]']                 \n",
            "                                                                                                  \n",
            " temp (Conv2DTranspose)         (None, 48, 48, 64)   147520      ['conv_3[0][0]']                 \n",
            "                                                                                                  \n",
            " aux_conv_2 (Conv2DTranspose)   (None, 24, 24, 128)  295040      ['aux_conv_1[0][0]']             \n",
            "                                                                                                  \n",
            " conv_4 (Concatenate)           (None, 48, 48, 128)  0           ['conv_1[0][0]',                 \n",
            "                                                                  'temp[0][0]']                   \n",
            "                                                                                                  \n",
            " aux_conv_3 (Conv2DTranspose)   (None, 48, 48, 64)   73792       ['aux_conv_2[0][0]']             \n",
            "                                                                                                  \n",
            " conv_5 (Conv2D)                (None, 48, 48, 64)   73792       ['conv_4[0][0]']                 \n",
            "                                                                                                  \n",
            " aux_out (Conv2D)               (None, 48, 48, 1)    577         ['aux_conv_3[0][0]']             \n",
            "                                                                                                  \n",
            " out (Conv2D)                   (None, 48, 48, 1)    577         ['conv_5[0][0]']                 \n",
            "                                                                                                  \n",
            "==================================================================================================\n",
            "Total params: 1,551,042\n",
            "Trainable params: 1,551,042\n",
            "Non-trainable params: 0\n",
            "__________________________________________________________________________________________________\n",
            "Epoch 1/8\n",
            "28/28 [==============================] - 6s 164ms/step - loss: 0.4298 - aux_out_loss: 0.0644 - out_loss: 0.0365 - val_loss: 0.3288 - val_aux_out_loss: 0.0115 - val_out_loss: 0.0317\n",
            "Epoch 2/8\n",
            "28/28 [==============================] - 4s 152ms/step - loss: 0.2994 - aux_out_loss: 0.0076 - out_loss: 0.0292 - val_loss: 0.2743 - val_aux_out_loss: 0.0048 - val_out_loss: 0.0269\n",
            "Epoch 3/8\n",
            "28/28 [==============================] - 4s 149ms/step - loss: 0.2394 - aux_out_loss: 0.0035 - out_loss: 0.0236 - val_loss: 0.2198 - val_aux_out_loss: 0.0028 - val_out_loss: 0.0217\n",
            "Epoch 4/8\n",
            "28/28 [==============================] - 4s 148ms/step - loss: 0.2221 - aux_out_loss: 0.0026 - out_loss: 0.0219 - val_loss: 0.1970 - val_aux_out_loss: 0.0026 - val_out_loss: 0.0194\n",
            "Epoch 5/8\n",
            "28/28 [==============================] - 4s 149ms/step - loss: 0.1774 - aux_out_loss: 0.0025 - out_loss: 0.0175 - val_loss: 0.2033 - val_aux_out_loss: 0.0023 - val_out_loss: 0.0201\n",
            "Epoch 6/8\n",
            "28/28 [==============================] - 4s 148ms/step - loss: 0.1699 - aux_out_loss: 0.0020 - out_loss: 0.0168 - val_loss: 0.1542 - val_aux_out_loss: 0.0019 - val_out_loss: 0.0152\n",
            "Epoch 7/8\n",
            "28/28 [==============================] - 4s 149ms/step - loss: 0.1415 - aux_out_loss: 0.0017 - out_loss: 0.0140 - val_loss: 0.1537 - val_aux_out_loss: 0.0015 - val_out_loss: 0.0152\n",
            "Epoch 8/8\n",
            "28/28 [==============================] - 4s 149ms/step - loss: 0.1293 - aux_out_loss: 0.0016 - out_loss: 0.0128 - val_loss: 0.1433 - val_aux_out_loss: 0.0016 - val_out_loss: 0.0142\n"
          ]
        }
      ]
    },
    {
      "cell_type": "markdown",
      "metadata": {
        "id": "SQdXnXYamdHG"
      },
      "source": [
        "### Hyper-parameter tuning"
      ]
    },
    {
      "cell_type": "code",
      "metadata": {
        "id": "NgEK-2v0mdHH",
        "colab": {
          "base_uri": "https://localhost:8080/"
        },
        "outputId": "f7a70f4c-827c-49e6-d25b-3fe5d12d87fa"
      },
      "source": [
        "import talos as ta\n",
        "\n",
        "p = {\n",
        "    'optimizer':  ['sgd', 'adam', 'adamax', 'rmsprop'],\n",
        "    'loss':  [{\"aux_out\": \"mse\", \"out\": \"mse\"}, {\"aux_out\": \"mae\", \"out\": \"mae\"}],\n",
        "    'activation':  ['tanh', 'relu', 'sigmoid'],\n",
        "}\n",
        "\n",
        "t = ta.Scan(x_train, y_train, model=build_model, params=p, experiment_name='cnn')"
      ],
      "execution_count": 53,
      "outputs": [
        {
          "output_type": "stream",
          "name": "stderr",
          "text": [
            "  0%|          | 0/24 [03:52<?, ?it/s]\n",
            "100%|██████████| 24/24 [13:01<00:00, 32.57s/it]\n"
          ]
        }
      ]
    },
    {
      "cell_type": "code",
      "metadata": {
        "id": "xUwfnnZVmdHH",
        "colab": {
          "base_uri": "https://localhost:8080/",
          "height": 780
        },
        "outputId": "2aa915fb-d9a1-467b-ccb8-bcb039fb388f"
      },
      "source": [
        "t.data"
      ],
      "execution_count": 54,
      "outputs": [
        {
          "output_type": "execute_result",
          "data": {
            "text/html": [
              "<div>\n",
              "<style scoped>\n",
              "    .dataframe tbody tr th:only-of-type {\n",
              "        vertical-align: middle;\n",
              "    }\n",
              "\n",
              "    .dataframe tbody tr th {\n",
              "        vertical-align: top;\n",
              "    }\n",
              "\n",
              "    .dataframe thead th {\n",
              "        text-align: right;\n",
              "    }\n",
              "</style>\n",
              "<table border=\"1\" class=\"dataframe\">\n",
              "  <thead>\n",
              "    <tr style=\"text-align: right;\">\n",
              "      <th></th>\n",
              "      <th>start</th>\n",
              "      <th>end</th>\n",
              "      <th>duration</th>\n",
              "      <th>round_epochs</th>\n",
              "      <th>loss</th>\n",
              "      <th>aux_out_loss</th>\n",
              "      <th>out_loss</th>\n",
              "      <th>val_loss</th>\n",
              "      <th>val_aux_out_loss</th>\n",
              "      <th>val_out_loss</th>\n",
              "      <th>activation</th>\n",
              "      <th>loss</th>\n",
              "      <th>optimizer</th>\n",
              "    </tr>\n",
              "  </thead>\n",
              "  <tbody>\n",
              "    <tr>\n",
              "      <th>0</th>\n",
              "      <td>11/13/21-181036</td>\n",
              "      <td>11/13/21-181118</td>\n",
              "      <td>42.133424</td>\n",
              "      <td>8</td>\n",
              "      <td>0.423098</td>\n",
              "      <td>0.037632</td>\n",
              "      <td>0.038547</td>\n",
              "      <td>0.424894</td>\n",
              "      <td>0.038105</td>\n",
              "      <td>0.038679</td>\n",
              "      <td>tanh</td>\n",
              "      <td>{'aux_out': 'mse', 'out': 'mse'}</td>\n",
              "      <td>sgd</td>\n",
              "    </tr>\n",
              "    <tr>\n",
              "      <th>1</th>\n",
              "      <td>11/13/21-181119</td>\n",
              "      <td>11/13/21-181201</td>\n",
              "      <td>42.303695</td>\n",
              "      <td>8</td>\n",
              "      <td>0.378833</td>\n",
              "      <td>0.003180</td>\n",
              "      <td>0.037565</td>\n",
              "      <td>0.378254</td>\n",
              "      <td>0.003071</td>\n",
              "      <td>0.037518</td>\n",
              "      <td>tanh</td>\n",
              "      <td>{'aux_out': 'mse', 'out': 'mse'}</td>\n",
              "      <td>adam</td>\n",
              "    </tr>\n",
              "    <tr>\n",
              "      <th>2</th>\n",
              "      <td>11/13/21-181201</td>\n",
              "      <td>11/13/21-181243</td>\n",
              "      <td>42.307852</td>\n",
              "      <td>8</td>\n",
              "      <td>0.381218</td>\n",
              "      <td>0.003434</td>\n",
              "      <td>0.037778</td>\n",
              "      <td>0.381533</td>\n",
              "      <td>0.003494</td>\n",
              "      <td>0.037804</td>\n",
              "      <td>tanh</td>\n",
              "      <td>{'aux_out': 'mse', 'out': 'mse'}</td>\n",
              "      <td>adamax</td>\n",
              "    </tr>\n",
              "    <tr>\n",
              "      <th>3</th>\n",
              "      <td>11/13/21-181244</td>\n",
              "      <td>11/13/21-181326</td>\n",
              "      <td>42.874066</td>\n",
              "      <td>8</td>\n",
              "      <td>0.408348</td>\n",
              "      <td>0.026914</td>\n",
              "      <td>0.038143</td>\n",
              "      <td>0.385348</td>\n",
              "      <td>0.003945</td>\n",
              "      <td>0.038140</td>\n",
              "      <td>tanh</td>\n",
              "      <td>{'aux_out': 'mse', 'out': 'mse'}</td>\n",
              "      <td>rmsprop</td>\n",
              "    </tr>\n",
              "    <tr>\n",
              "      <th>4</th>\n",
              "      <td>11/13/21-181327</td>\n",
              "      <td>11/13/21-181352</td>\n",
              "      <td>24.881393</td>\n",
              "      <td>8</td>\n",
              "      <td>0.993071</td>\n",
              "      <td>0.155164</td>\n",
              "      <td>0.083791</td>\n",
              "      <td>1.330452</td>\n",
              "      <td>0.155029</td>\n",
              "      <td>0.117542</td>\n",
              "      <td>tanh</td>\n",
              "      <td>{'aux_out': 'mae', 'out': 'mae'}</td>\n",
              "      <td>sgd</td>\n",
              "    </tr>\n",
              "    <tr>\n",
              "      <th>5</th>\n",
              "      <td>11/13/21-181352</td>\n",
              "      <td>11/13/21-181417</td>\n",
              "      <td>25.371156</td>\n",
              "      <td>8</td>\n",
              "      <td>0.483696</td>\n",
              "      <td>0.028173</td>\n",
              "      <td>0.045552</td>\n",
              "      <td>0.482386</td>\n",
              "      <td>0.033264</td>\n",
              "      <td>0.044912</td>\n",
              "      <td>tanh</td>\n",
              "      <td>{'aux_out': 'mae', 'out': 'mae'}</td>\n",
              "      <td>adam</td>\n",
              "    </tr>\n",
              "    <tr>\n",
              "      <th>6</th>\n",
              "      <td>11/13/21-181417</td>\n",
              "      <td>11/13/21-181500</td>\n",
              "      <td>42.357435</td>\n",
              "      <td>8</td>\n",
              "      <td>0.597363</td>\n",
              "      <td>0.036743</td>\n",
              "      <td>0.056062</td>\n",
              "      <td>0.740938</td>\n",
              "      <td>0.036605</td>\n",
              "      <td>0.070433</td>\n",
              "      <td>tanh</td>\n",
              "      <td>{'aux_out': 'mae', 'out': 'mae'}</td>\n",
              "      <td>adamax</td>\n",
              "    </tr>\n",
              "    <tr>\n",
              "      <th>7</th>\n",
              "      <td>11/13/21-181500</td>\n",
              "      <td>11/13/21-181543</td>\n",
              "      <td>42.935888</td>\n",
              "      <td>8</td>\n",
              "      <td>0.556305</td>\n",
              "      <td>0.082358</td>\n",
              "      <td>0.047395</td>\n",
              "      <td>0.586645</td>\n",
              "      <td>0.100473</td>\n",
              "      <td>0.048617</td>\n",
              "      <td>tanh</td>\n",
              "      <td>{'aux_out': 'mae', 'out': 'mae'}</td>\n",
              "      <td>rmsprop</td>\n",
              "    </tr>\n",
              "    <tr>\n",
              "      <th>8</th>\n",
              "      <td>11/13/21-181543</td>\n",
              "      <td>11/13/21-181609</td>\n",
              "      <td>25.347666</td>\n",
              "      <td>8</td>\n",
              "      <td>0.390971</td>\n",
              "      <td>0.042494</td>\n",
              "      <td>0.034848</td>\n",
              "      <td>0.391919</td>\n",
              "      <td>0.043272</td>\n",
              "      <td>0.034865</td>\n",
              "      <td>relu</td>\n",
              "      <td>{'aux_out': 'mse', 'out': 'mse'}</td>\n",
              "      <td>sgd</td>\n",
              "    </tr>\n",
              "    <tr>\n",
              "      <th>9</th>\n",
              "      <td>11/13/21-181609</td>\n",
              "      <td>11/13/21-181633</td>\n",
              "      <td>24.299651</td>\n",
              "      <td>8</td>\n",
              "      <td>0.180283</td>\n",
              "      <td>0.002192</td>\n",
              "      <td>0.017809</td>\n",
              "      <td>0.182538</td>\n",
              "      <td>0.002447</td>\n",
              "      <td>0.018009</td>\n",
              "      <td>relu</td>\n",
              "      <td>{'aux_out': 'mse', 'out': 'mse'}</td>\n",
              "      <td>adam</td>\n",
              "    </tr>\n",
              "    <tr>\n",
              "      <th>10</th>\n",
              "      <td>11/13/21-181633</td>\n",
              "      <td>11/13/21-181716</td>\n",
              "      <td>42.314792</td>\n",
              "      <td>8</td>\n",
              "      <td>0.194225</td>\n",
              "      <td>0.002143</td>\n",
              "      <td>0.019208</td>\n",
              "      <td>0.229478</td>\n",
              "      <td>0.002157</td>\n",
              "      <td>0.022732</td>\n",
              "      <td>relu</td>\n",
              "      <td>{'aux_out': 'mse', 'out': 'mse'}</td>\n",
              "      <td>adamax</td>\n",
              "    </tr>\n",
              "    <tr>\n",
              "      <th>11</th>\n",
              "      <td>11/13/21-181716</td>\n",
              "      <td>11/13/21-181741</td>\n",
              "      <td>25.280974</td>\n",
              "      <td>8</td>\n",
              "      <td>0.445156</td>\n",
              "      <td>0.011128</td>\n",
              "      <td>0.043403</td>\n",
              "      <td>0.440494</td>\n",
              "      <td>0.006467</td>\n",
              "      <td>0.043403</td>\n",
              "      <td>relu</td>\n",
              "      <td>{'aux_out': 'mse', 'out': 'mse'}</td>\n",
              "      <td>rmsprop</td>\n",
              "    </tr>\n",
              "    <tr>\n",
              "      <th>12</th>\n",
              "      <td>11/13/21-181741</td>\n",
              "      <td>11/13/21-181823</td>\n",
              "      <td>42.142010</td>\n",
              "      <td>8</td>\n",
              "      <td>0.593792</td>\n",
              "      <td>0.159765</td>\n",
              "      <td>0.043403</td>\n",
              "      <td>0.594161</td>\n",
              "      <td>0.160133</td>\n",
              "      <td>0.043403</td>\n",
              "      <td>relu</td>\n",
              "      <td>{'aux_out': 'mae', 'out': 'mae'}</td>\n",
              "      <td>sgd</td>\n",
              "    </tr>\n",
              "    <tr>\n",
              "      <th>13</th>\n",
              "      <td>11/13/21-181824</td>\n",
              "      <td>11/13/21-181848</td>\n",
              "      <td>24.435251</td>\n",
              "      <td>8</td>\n",
              "      <td>0.461186</td>\n",
              "      <td>0.027158</td>\n",
              "      <td>0.043403</td>\n",
              "      <td>0.459710</td>\n",
              "      <td>0.025682</td>\n",
              "      <td>0.043403</td>\n",
              "      <td>relu</td>\n",
              "      <td>{'aux_out': 'mae', 'out': 'mae'}</td>\n",
              "      <td>adam</td>\n",
              "    </tr>\n",
              "    <tr>\n",
              "      <th>14</th>\n",
              "      <td>11/13/21-181848</td>\n",
              "      <td>11/13/21-181913</td>\n",
              "      <td>24.555990</td>\n",
              "      <td>8</td>\n",
              "      <td>0.461118</td>\n",
              "      <td>0.027091</td>\n",
              "      <td>0.043403</td>\n",
              "      <td>0.466844</td>\n",
              "      <td>0.032817</td>\n",
              "      <td>0.043403</td>\n",
              "      <td>relu</td>\n",
              "      <td>{'aux_out': 'mae', 'out': 'mae'}</td>\n",
              "      <td>adamax</td>\n",
              "    </tr>\n",
              "    <tr>\n",
              "      <th>15</th>\n",
              "      <td>11/13/21-181913</td>\n",
              "      <td>11/13/21-181939</td>\n",
              "      <td>25.634787</td>\n",
              "      <td>8</td>\n",
              "      <td>0.512193</td>\n",
              "      <td>0.078165</td>\n",
              "      <td>0.043403</td>\n",
              "      <td>0.592253</td>\n",
              "      <td>0.158225</td>\n",
              "      <td>0.043403</td>\n",
              "      <td>relu</td>\n",
              "      <td>{'aux_out': 'mae', 'out': 'mae'}</td>\n",
              "      <td>rmsprop</td>\n",
              "    </tr>\n",
              "    <tr>\n",
              "      <th>16</th>\n",
              "      <td>11/13/21-181939</td>\n",
              "      <td>11/13/21-182004</td>\n",
              "      <td>24.875695</td>\n",
              "      <td>8</td>\n",
              "      <td>0.466684</td>\n",
              "      <td>0.040971</td>\n",
              "      <td>0.042571</td>\n",
              "      <td>0.467243</td>\n",
              "      <td>0.041735</td>\n",
              "      <td>0.042551</td>\n",
              "      <td>sigmoid</td>\n",
              "      <td>{'aux_out': 'mse', 'out': 'mse'}</td>\n",
              "      <td>sgd</td>\n",
              "    </tr>\n",
              "    <tr>\n",
              "      <th>17</th>\n",
              "      <td>11/13/21-182004</td>\n",
              "      <td>11/13/21-182029</td>\n",
              "      <td>25.329832</td>\n",
              "      <td>8</td>\n",
              "      <td>0.465674</td>\n",
              "      <td>0.032475</td>\n",
              "      <td>0.043320</td>\n",
              "      <td>0.465782</td>\n",
              "      <td>0.032622</td>\n",
              "      <td>0.043316</td>\n",
              "      <td>sigmoid</td>\n",
              "      <td>{'aux_out': 'mse', 'out': 'mse'}</td>\n",
              "      <td>adam</td>\n",
              "    </tr>\n",
              "    <tr>\n",
              "      <th>18</th>\n",
              "      <td>11/13/21-182030</td>\n",
              "      <td>11/13/21-182112</td>\n",
              "      <td>42.318676</td>\n",
              "      <td>8</td>\n",
              "      <td>0.467732</td>\n",
              "      <td>0.037112</td>\n",
              "      <td>0.043062</td>\n",
              "      <td>0.467439</td>\n",
              "      <td>0.036884</td>\n",
              "      <td>0.043056</td>\n",
              "      <td>sigmoid</td>\n",
              "      <td>{'aux_out': 'mse', 'out': 'mse'}</td>\n",
              "      <td>adamax</td>\n",
              "    </tr>\n",
              "    <tr>\n",
              "      <th>19</th>\n",
              "      <td>11/13/21-182112</td>\n",
              "      <td>11/13/21-182138</td>\n",
              "      <td>26.199220</td>\n",
              "      <td>8</td>\n",
              "      <td>0.445011</td>\n",
              "      <td>0.033591</td>\n",
              "      <td>0.041142</td>\n",
              "      <td>0.443399</td>\n",
              "      <td>0.037214</td>\n",
              "      <td>0.040618</td>\n",
              "      <td>sigmoid</td>\n",
              "      <td>{'aux_out': 'mse', 'out': 'mse'}</td>\n",
              "      <td>rmsprop</td>\n",
              "    </tr>\n",
              "    <tr>\n",
              "      <th>20</th>\n",
              "      <td>11/13/21-182139</td>\n",
              "      <td>11/13/21-182204</td>\n",
              "      <td>24.917794</td>\n",
              "      <td>8</td>\n",
              "      <td>0.597494</td>\n",
              "      <td>0.158684</td>\n",
              "      <td>0.043881</td>\n",
              "      <td>0.597470</td>\n",
              "      <td>0.158957</td>\n",
              "      <td>0.043851</td>\n",
              "      <td>sigmoid</td>\n",
              "      <td>{'aux_out': 'mae', 'out': 'mae'}</td>\n",
              "      <td>sgd</td>\n",
              "    </tr>\n",
              "    <tr>\n",
              "      <th>21</th>\n",
              "      <td>11/13/21-182204</td>\n",
              "      <td>11/13/21-182229</td>\n",
              "      <td>25.121212</td>\n",
              "      <td>8</td>\n",
              "      <td>0.577152</td>\n",
              "      <td>0.140239</td>\n",
              "      <td>0.043691</td>\n",
              "      <td>0.576659</td>\n",
              "      <td>0.139909</td>\n",
              "      <td>0.043675</td>\n",
              "      <td>sigmoid</td>\n",
              "      <td>{'aux_out': 'mae', 'out': 'mae'}</td>\n",
              "      <td>adam</td>\n",
              "    </tr>\n",
              "    <tr>\n",
              "      <th>22</th>\n",
              "      <td>11/13/21-182229</td>\n",
              "      <td>11/13/21-182255</td>\n",
              "      <td>25.396480</td>\n",
              "      <td>8</td>\n",
              "      <td>0.606797</td>\n",
              "      <td>0.149207</td>\n",
              "      <td>0.045759</td>\n",
              "      <td>0.604627</td>\n",
              "      <td>0.148133</td>\n",
              "      <td>0.045649</td>\n",
              "      <td>sigmoid</td>\n",
              "      <td>{'aux_out': 'mae', 'out': 'mae'}</td>\n",
              "      <td>adamax</td>\n",
              "    </tr>\n",
              "    <tr>\n",
              "      <th>23</th>\n",
              "      <td>11/13/21-182255</td>\n",
              "      <td>11/13/21-182338</td>\n",
              "      <td>42.793953</td>\n",
              "      <td>8</td>\n",
              "      <td>0.580141</td>\n",
              "      <td>0.146033</td>\n",
              "      <td>0.043411</td>\n",
              "      <td>0.580329</td>\n",
              "      <td>0.146253</td>\n",
              "      <td>0.043408</td>\n",
              "      <td>sigmoid</td>\n",
              "      <td>{'aux_out': 'mae', 'out': 'mae'}</td>\n",
              "      <td>rmsprop</td>\n",
              "    </tr>\n",
              "  </tbody>\n",
              "</table>\n",
              "</div>"
            ],
            "text/plain": [
              "              start  ... optimizer\n",
              "0   11/13/21-181036  ...       sgd\n",
              "1   11/13/21-181119  ...      adam\n",
              "2   11/13/21-181201  ...    adamax\n",
              "3   11/13/21-181244  ...   rmsprop\n",
              "4   11/13/21-181327  ...       sgd\n",
              "5   11/13/21-181352  ...      adam\n",
              "6   11/13/21-181417  ...    adamax\n",
              "7   11/13/21-181500  ...   rmsprop\n",
              "8   11/13/21-181543  ...       sgd\n",
              "9   11/13/21-181609  ...      adam\n",
              "10  11/13/21-181633  ...    adamax\n",
              "11  11/13/21-181716  ...   rmsprop\n",
              "12  11/13/21-181741  ...       sgd\n",
              "13  11/13/21-181824  ...      adam\n",
              "14  11/13/21-181848  ...    adamax\n",
              "15  11/13/21-181913  ...   rmsprop\n",
              "16  11/13/21-181939  ...       sgd\n",
              "17  11/13/21-182004  ...      adam\n",
              "18  11/13/21-182030  ...    adamax\n",
              "19  11/13/21-182112  ...   rmsprop\n",
              "20  11/13/21-182139  ...       sgd\n",
              "21  11/13/21-182204  ...      adam\n",
              "22  11/13/21-182229  ...    adamax\n",
              "23  11/13/21-182255  ...   rmsprop\n",
              "\n",
              "[24 rows x 13 columns]"
            ]
          },
          "metadata": {},
          "execution_count": 54
        }
      ]
    },
    {
      "cell_type": "markdown",
      "metadata": {
        "id": "Vx7XJCJhmdHI"
      },
      "source": [
        "**Observation**\n",
        "\n",
        "- Smallest validation loss of 0.018009 (main network, 9th trial) was achieved with activation=`relu`, loss=`mse`, and optimizer=`adam` which happens to be the model we already tried before tuning."
      ]
    },
    {
      "cell_type": "markdown",
      "metadata": {
        "id": "SIcgomKFmdHI"
      },
      "source": [
        "### **Predictions for 10 test images**"
      ]
    },
    {
      "cell_type": "code",
      "metadata": {
        "id": "eanAE0fGmdHI",
        "colab": {
          "base_uri": "https://localhost:8080/",
          "height": 1000
        },
        "outputId": "9a465096-654a-4205-f992-3b9ab79b0ea3"
      },
      "source": [
        "# takes the output iris detection image and extracts iris center coordinates\n",
        "\n",
        "def get_iris_center(y):\n",
        "  I = []\n",
        "  J = []\n",
        "  for i in range(48):\n",
        "    for j in range(48):\n",
        "      if y[i][j] > 0.2:  # to ignore noise\n",
        "        I.append(i)\n",
        "        J.append(j)\n",
        "  return (round(np.mean(J)), round(np.mean(I)))\n",
        "\n",
        "\n",
        "print('\\tTest image\\tReconstructed image\\tiris detection')\n",
        "for i in range(10):\n",
        "    plt.figure(figsize=(10, 5))\n",
        "\n",
        "    # Show a test image with iris location circled\n",
        "    tmp = x_test[i].copy()\n",
        "    pred = model.predict(np.expand_dims(x_test[i], axis=0))\n",
        "    c = get_iris_center(pred['out'][0].squeeze())\n",
        "    tmp = cv2.circle(img=tmp, center=c,\n",
        "                     radius=5, color=(1, 1), thickness=1)\n",
        "    plt.subplot(1, 3, 1)\n",
        "    plt.imshow(tmp, cmap='gray')\n",
        "\n",
        "    # Show the reconstructed image\n",
        "    plt.subplot(1, 3, 2)\n",
        "    tmp = pred[\"aux_out\"][0].squeeze()\n",
        "    plt.imshow(tmp, cmap='gray')\n",
        "    \n",
        "    # Show output image\n",
        "    plt.subplot(1, 3, 3)\n",
        "    tmp = pred[\"out\"][0].squeeze()\n",
        "    plt.imshow(tmp, cmap='gray')\n",
        "\n",
        "    plt.show()"
      ],
      "execution_count": 81,
      "outputs": [
        {
          "output_type": "stream",
          "name": "stdout",
          "text": [
            "\tTest image\tReconstructed image\tiris detection\n"
          ]
        },
        {
          "output_type": "display_data",
          "data": {
            "image/png": "[encoded data removed]",
            "text/plain": [
              "<Figure size 720x360 with 3 Axes>"
            ]
          },
          "metadata": {
            "needs_background": "light"
          }
        },
        {
          "output_type": "display_data",
          "data": {
            "image/png": "[encoded data removed]",
            "text/plain": [
              "<Figure size 720x360 with 3 Axes>"
            ]
          },
          "metadata": {
            "needs_background": "light"
          }
        },
        {
          "output_type": "display_data",
          "data": {
            "image/png": "[encoded data removed]",
            "text/plain": [
              "<Figure size 720x360 with 3 Axes>"
            ]
          },
          "metadata": {
            "needs_background": "light"
          }
        },
        {
          "output_type": "display_data",
          "data": {
            "image/png": "[encoded data removed]",
            "text/plain": [
              "<Figure size 720x360 with 3 Axes>"
            ]
          },
          "metadata": {
            "needs_background": "light"
          }
        },
        {
          "output_type": "display_data",
          "data": {
            "image/png": "[encoded data removed]",
            "text/plain": [
              "<Figure size 720x360 with 3 Axes>"
            ]
          },
          "metadata": {
            "needs_background": "light"
          }
        },
        {
          "output_type": "display_data",
          "data": {
            "image/png": "[encoded data removed]",
            "text/plain": [
              "<Figure size 720x360 with 3 Axes>"
            ]
          },
          "metadata": {
            "needs_background": "light"
          }
        },
        {
          "output_type": "display_data",
          "data": {
            "image/png": "[encoded data removed]",
            "text/plain": [
              "<Figure size 720x360 with 3 Axes>"
            ]
          },
          "metadata": {
            "needs_background": "light"
          }
        },
        {
          "output_type": "display_data",
          "data": {
            "image/png": "[encoded data removed]",
            "text/plain": [
              "<Figure size 720x360 with 3 Axes>"
            ]
          },
          "metadata": {
            "needs_background": "light"
          }
        },
        {
          "output_type": "display_data",
          "data": {
            "image/png": "[encoded data removed]",
            "text/plain": [
              "<Figure size 720x360 with 3 Axes>"
            ]
          },
          "metadata": {
            "needs_background": "light"
          }
        },
        {
          "output_type": "display_data",
          "data": {
            "image/png": "[encoded data removed]",
            "text/plain": [
              "<Figure size 720x360 with 3 Axes>"
            ]
          },
          "metadata": {
            "needs_background": "light"
          }
        }
      ]
    },
    {
      "cell_type": "markdown",
      "metadata": {
        "id": "kUAeP-qfat69"
      },
      "source": [
        "**Observation:**\n",
        "\n",
        "- Model performes very well in most cases, except the ones when there are eyeglasses, that's why the paper suggested using a GAN to remove eyeglasses as a preprocessing step (but this is out of the scope of this assignment)."
      ]
    }
  ]
}