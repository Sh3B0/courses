{
 "cells": [
  {
   "cell_type": "markdown",
   "id": "71cd5f3b-91d1-49dd-90d6-3c5f9d4337a8",
   "metadata": {
    "id": "71cd5f3b-91d1-49dd-90d6-3c5f9d4337a8"
   },
   "source": [
    "# Where is a hospital in Manhattan Downtown?\n",
    "\n",
    "In this lab we will create 2 vector indices to answer a very simple question: if you are in Manhattan downtown, where is the nearest hospital? We will base our soultion on two sources of data:\n",
    "- [Points of Interest dataset](https://drive.google.com/file/d/1LUudtCADqSxRl18ZzCzyPPGfhuUo2ZZs/view?usp=sharing). This is a 10% sample of a bigger dataset. Download and uncompress the file.\n",
    "- [Google Geocoding API](https://developers.google.com/maps/documentation/geocoding/start) or any other [equivalent service](https://gisgeography.com/geocoders/). For Google you will need to obtain a key. **PLEASE DO NOT SUBMIT THE KEY TO MOODLE :)**"
   ]
  },
  {
   "cell_type": "code",
   "execution_count": 1,
   "id": "dcf14829",
   "metadata": {
    "collapsed": true
   },
   "outputs": [
    {
     "name": "stdout",
     "output_type": "stream",
     "text": [
      "Requirement already satisfied: sklearn in /home/ahmed/.local/lib/python3.8/site-packages (0.0)\n",
      "Requirement already satisfied: scikit-learn in /home/ahmed/.local/lib/python3.8/site-packages (from sklearn) (1.0.2)\n",
      "Requirement already satisfied: scipy>=1.1.0 in /usr/lib/python3/dist-packages (from scikit-learn->sklearn) (1.3.3)\n",
      "Requirement already satisfied: joblib>=0.11 in /home/ahmed/.local/lib/python3.8/site-packages (from scikit-learn->sklearn) (1.1.0)\n",
      "Requirement already satisfied: threadpoolctl>=2.0.0 in /home/ahmed/.local/lib/python3.8/site-packages (from scikit-learn->sklearn) (3.1.0)\n",
      "Requirement already satisfied: numpy>=1.14.6 in /home/ahmed/.local/lib/python3.8/site-packages (from scikit-learn->sklearn) (1.22.3)\n",
      "Requirement already satisfied: numpy in /home/ahmed/.local/lib/python3.8/site-packages (1.22.3)\n",
      "Requirement already satisfied: pandas in /home/ahmed/.local/lib/python3.8/site-packages (1.4.1)\n",
      "Requirement already satisfied: pytz>=2020.1 in /home/ahmed/.local/lib/python3.8/site-packages (from pandas) (2022.1)\n",
      "Requirement already satisfied: python-dateutil>=2.8.1 in /home/ahmed/.local/lib/python3.8/site-packages (from pandas) (2.8.2)\n",
      "Requirement already satisfied: numpy>=1.18.5; platform_machine != \"aarch64\" and platform_machine != \"arm64\" and python_version < \"3.10\" in /home/ahmed/.local/lib/python3.8/site-packages (from pandas) (1.22.3)\n",
      "Requirement already satisfied: six>=1.5 in /usr/lib/python3/dist-packages (from python-dateutil>=2.8.1->pandas) (1.14.0)\n",
      "Requirement already satisfied: tqdm in /home/ahmed/.local/lib/python3.8/site-packages (4.63.1)\n",
      "Requirement already satisfied: spacy in /home/ahmed/.local/lib/python3.8/site-packages (3.2.3)\n",
      "Requirement already satisfied: spacy-legacy<3.1.0,>=3.0.8 in /home/ahmed/.local/lib/python3.8/site-packages (from spacy) (3.0.9)\n",
      "Requirement already satisfied: typer<0.5.0,>=0.3.0 in /home/ahmed/.local/lib/python3.8/site-packages (from spacy) (0.4.0)\n",
      "Requirement already satisfied: pathy>=0.3.5 in /home/ahmed/.local/lib/python3.8/site-packages (from spacy) (0.6.1)\n",
      "Requirement already satisfied: cymem<2.1.0,>=2.0.2 in /home/ahmed/.local/lib/python3.8/site-packages (from spacy) (2.0.6)\n",
      "Requirement already satisfied: thinc<8.1.0,>=8.0.12 in /home/ahmed/.local/lib/python3.8/site-packages (from spacy) (8.0.15)\n",
      "Requirement already satisfied: wasabi<1.1.0,>=0.8.1 in /home/ahmed/.local/lib/python3.8/site-packages (from spacy) (0.9.0)\n",
      "Requirement already satisfied: pydantic!=1.8,!=1.8.1,<1.9.0,>=1.7.4 in /home/ahmed/.local/lib/python3.8/site-packages (from spacy) (1.8.2)\n",
      "Requirement already satisfied: packaging>=20.0 in /home/ahmed/.local/lib/python3.8/site-packages (from spacy) (21.3)\n",
      "Requirement already satisfied: catalogue<2.1.0,>=2.0.6 in /home/ahmed/.local/lib/python3.8/site-packages (from spacy) (2.0.7)\n",
      "Requirement already satisfied: blis<0.8.0,>=0.4.0 in /home/ahmed/.local/lib/python3.8/site-packages (from spacy) (0.7.7)\n",
      "Requirement already satisfied: spacy-loggers<2.0.0,>=1.0.0 in /home/ahmed/.local/lib/python3.8/site-packages (from spacy) (1.0.1)\n",
      "Requirement already satisfied: setuptools in /usr/lib/python3/dist-packages (from spacy) (45.2.0)\n",
      "Requirement already satisfied: numpy>=1.15.0 in /home/ahmed/.local/lib/python3.8/site-packages (from spacy) (1.22.3)\n",
      "Requirement already satisfied: srsly<3.0.0,>=2.4.1 in /home/ahmed/.local/lib/python3.8/site-packages (from spacy) (2.4.2)\n",
      "Requirement already satisfied: requests<3.0.0,>=2.13.0 in /usr/lib/python3/dist-packages (from spacy) (2.22.0)\n",
      "Requirement already satisfied: murmurhash<1.1.0,>=0.28.0 in /home/ahmed/.local/lib/python3.8/site-packages (from spacy) (1.0.6)\n",
      "Requirement already satisfied: tqdm<5.0.0,>=4.38.0 in /home/ahmed/.local/lib/python3.8/site-packages (from spacy) (4.63.1)\n",
      "Requirement already satisfied: jinja2 in /home/ahmed/.local/lib/python3.8/site-packages (from spacy) (3.0.3)\n",
      "Requirement already satisfied: langcodes<4.0.0,>=3.2.0 in /home/ahmed/.local/lib/python3.8/site-packages (from spacy) (3.3.0)\n",
      "Requirement already satisfied: preshed<3.1.0,>=3.0.2 in /home/ahmed/.local/lib/python3.8/site-packages (from spacy) (3.0.6)\n",
      "Requirement already satisfied: click<9.0.0,>=7.1.1 in /home/ahmed/.local/lib/python3.8/site-packages (from typer<0.5.0,>=0.3.0->spacy) (8.0.4)\n",
      "Requirement already satisfied: smart-open<6.0.0,>=5.0.0 in /home/ahmed/.local/lib/python3.8/site-packages (from pathy>=0.3.5->spacy) (5.2.1)\n",
      "Requirement already satisfied: typing-extensions>=3.7.4.3 in /home/ahmed/.local/lib/python3.8/site-packages (from pydantic!=1.8,!=1.8.1,<1.9.0,>=1.7.4->spacy) (4.1.1)\n",
      "Requirement already satisfied: pyparsing!=3.0.5,>=2.0.2 in /home/ahmed/.local/lib/python3.8/site-packages (from packaging>=20.0->spacy) (3.0.7)\n",
      "Requirement already satisfied: MarkupSafe>=2.0 in /home/ahmed/.local/lib/python3.8/site-packages (from jinja2->spacy) (2.1.0)\n",
      "Requirement already satisfied: nltk in /home/ahmed/.local/lib/python3.8/site-packages (3.7)\n",
      "Requirement already satisfied: click in /home/ahmed/.local/lib/python3.8/site-packages (from nltk) (8.0.4)\n",
      "Requirement already satisfied: regex>=2021.8.3 in /home/ahmed/.local/lib/python3.8/site-packages (from nltk) (2022.3.15)\n",
      "Requirement already satisfied: joblib in /home/ahmed/.local/lib/python3.8/site-packages (from nltk) (1.1.0)\n",
      "Requirement already satisfied: tqdm in /home/ahmed/.local/lib/python3.8/site-packages (from nltk) (4.63.1)\n",
      "Requirement already satisfied: annoy in /home/ahmed/.local/lib/python3.8/site-packages (1.17.0)\n",
      "Requirement already satisfied: nearpy in /home/ahmed/.local/lib/python3.8/site-packages (1.0.0)\n",
      "Requirement already satisfied: bitarray in /home/ahmed/.local/lib/python3.8/site-packages (from nearpy) (2.4.0)\n",
      "Requirement already satisfied: future in /home/ahmed/.local/lib/python3.8/site-packages (from nearpy) (0.18.2)\n",
      "Requirement already satisfied: scipy in /usr/lib/python3/dist-packages (from nearpy) (1.3.3)\n",
      "Requirement already satisfied: numpy in /home/ahmed/.local/lib/python3.8/site-packages (from nearpy) (1.22.3)\n",
      "Requirement already satisfied: en-core-web-md==3.2.0 from https://github.com/explosion/spacy-models/releases/download/en_core_web_md-3.2.0/en_core_web_md-3.2.0-py3-none-any.whl#egg=en_core_web_md==3.2.0 in /home/ahmed/.local/lib/python3.8/site-packages (3.2.0)\n",
      "Requirement already satisfied: spacy<3.3.0,>=3.2.0 in /home/ahmed/.local/lib/python3.8/site-packages (from en-core-web-md==3.2.0) (3.2.3)\n",
      "Requirement already satisfied: blis<0.8.0,>=0.4.0 in /home/ahmed/.local/lib/python3.8/site-packages (from spacy<3.3.0,>=3.2.0->en-core-web-md==3.2.0) (0.7.7)\n",
      "Requirement already satisfied: typer<0.5.0,>=0.3.0 in /home/ahmed/.local/lib/python3.8/site-packages (from spacy<3.3.0,>=3.2.0->en-core-web-md==3.2.0) (0.4.0)\n",
      "Requirement already satisfied: spacy-loggers<2.0.0,>=1.0.0 in /home/ahmed/.local/lib/python3.8/site-packages (from spacy<3.3.0,>=3.2.0->en-core-web-md==3.2.0) (1.0.1)\n",
      "Requirement already satisfied: thinc<8.1.0,>=8.0.12 in /home/ahmed/.local/lib/python3.8/site-packages (from spacy<3.3.0,>=3.2.0->en-core-web-md==3.2.0) (8.0.15)\n",
      "Requirement already satisfied: pathy>=0.3.5 in /home/ahmed/.local/lib/python3.8/site-packages (from spacy<3.3.0,>=3.2.0->en-core-web-md==3.2.0) (0.6.1)\n",
      "Requirement already satisfied: catalogue<2.1.0,>=2.0.6 in /home/ahmed/.local/lib/python3.8/site-packages (from spacy<3.3.0,>=3.2.0->en-core-web-md==3.2.0) (2.0.7)\n",
      "Requirement already satisfied: setuptools in /usr/lib/python3/dist-packages (from spacy<3.3.0,>=3.2.0->en-core-web-md==3.2.0) (45.2.0)\n",
      "Requirement already satisfied: tqdm<5.0.0,>=4.38.0 in /home/ahmed/.local/lib/python3.8/site-packages (from spacy<3.3.0,>=3.2.0->en-core-web-md==3.2.0) (4.63.1)\n",
      "Requirement already satisfied: spacy-legacy<3.1.0,>=3.0.8 in /home/ahmed/.local/lib/python3.8/site-packages (from spacy<3.3.0,>=3.2.0->en-core-web-md==3.2.0) (3.0.9)\n",
      "Requirement already satisfied: preshed<3.1.0,>=3.0.2 in /home/ahmed/.local/lib/python3.8/site-packages (from spacy<3.3.0,>=3.2.0->en-core-web-md==3.2.0) (3.0.6)\n",
      "Requirement already satisfied: packaging>=20.0 in /home/ahmed/.local/lib/python3.8/site-packages (from spacy<3.3.0,>=3.2.0->en-core-web-md==3.2.0) (21.3)\n",
      "Requirement already satisfied: jinja2 in /home/ahmed/.local/lib/python3.8/site-packages (from spacy<3.3.0,>=3.2.0->en-core-web-md==3.2.0) (3.0.3)\n",
      "Requirement already satisfied: wasabi<1.1.0,>=0.8.1 in /home/ahmed/.local/lib/python3.8/site-packages (from spacy<3.3.0,>=3.2.0->en-core-web-md==3.2.0) (0.9.0)\n"
     ]
    },
    {
     "name": "stdout",
     "output_type": "stream",
     "text": [
      "Requirement already satisfied: langcodes<4.0.0,>=3.2.0 in /home/ahmed/.local/lib/python3.8/site-packages (from spacy<3.3.0,>=3.2.0->en-core-web-md==3.2.0) (3.3.0)\n",
      "Requirement already satisfied: srsly<3.0.0,>=2.4.1 in /home/ahmed/.local/lib/python3.8/site-packages (from spacy<3.3.0,>=3.2.0->en-core-web-md==3.2.0) (2.4.2)\n",
      "Requirement already satisfied: numpy>=1.15.0 in /home/ahmed/.local/lib/python3.8/site-packages (from spacy<3.3.0,>=3.2.0->en-core-web-md==3.2.0) (1.22.3)\n",
      "Requirement already satisfied: requests<3.0.0,>=2.13.0 in /usr/lib/python3/dist-packages (from spacy<3.3.0,>=3.2.0->en-core-web-md==3.2.0) (2.22.0)\n",
      "Requirement already satisfied: cymem<2.1.0,>=2.0.2 in /home/ahmed/.local/lib/python3.8/site-packages (from spacy<3.3.0,>=3.2.0->en-core-web-md==3.2.0) (2.0.6)\n",
      "Requirement already satisfied: pydantic!=1.8,!=1.8.1,<1.9.0,>=1.7.4 in /home/ahmed/.local/lib/python3.8/site-packages (from spacy<3.3.0,>=3.2.0->en-core-web-md==3.2.0) (1.8.2)\n",
      "Requirement already satisfied: murmurhash<1.1.0,>=0.28.0 in /home/ahmed/.local/lib/python3.8/site-packages (from spacy<3.3.0,>=3.2.0->en-core-web-md==3.2.0) (1.0.6)\n",
      "Requirement already satisfied: click<9.0.0,>=7.1.1 in /home/ahmed/.local/lib/python3.8/site-packages (from typer<0.5.0,>=0.3.0->spacy<3.3.0,>=3.2.0->en-core-web-md==3.2.0) (8.0.4)\n",
      "Requirement already satisfied: smart-open<6.0.0,>=5.0.0 in /home/ahmed/.local/lib/python3.8/site-packages (from pathy>=0.3.5->spacy<3.3.0,>=3.2.0->en-core-web-md==3.2.0) (5.2.1)\n",
      "Requirement already satisfied: pyparsing!=3.0.5,>=2.0.2 in /home/ahmed/.local/lib/python3.8/site-packages (from packaging>=20.0->spacy<3.3.0,>=3.2.0->en-core-web-md==3.2.0) (3.0.7)\n",
      "Requirement already satisfied: MarkupSafe>=2.0 in /home/ahmed/.local/lib/python3.8/site-packages (from jinja2->spacy<3.3.0,>=3.2.0->en-core-web-md==3.2.0) (2.1.0)\n",
      "Requirement already satisfied: typing-extensions>=3.7.4.3 in /home/ahmed/.local/lib/python3.8/site-packages (from pydantic!=1.8,!=1.8.1,<1.9.0,>=1.7.4->spacy<3.3.0,>=3.2.0->en-core-web-md==3.2.0) (4.1.1)\n",
      "\u001b[38;5;2m✔ Download and installation successful\u001b[0m\n",
      "You can now load the package via spacy.load('en_core_web_md')\n"
     ]
    }
   ],
   "source": [
    "!pip3 install sklearn\n",
    "!pip3 install numpy\n",
    "!pip3 install requests\n",
    "!pip3 install pandas\n",
    "!pip3 install tqdm\n",
    "!pip3 install spacy\n",
    "!pip3 install nltk\n",
    "!pip3 install annoy\n",
    "!pip3 install nearpy\n",
    "!python3 -m spacy download en_core_web_md"
   ]
  },
  {
   "cell_type": "code",
   "execution_count": 2,
   "id": "5656e3ff",
   "metadata": {},
   "outputs": [],
   "source": [
    "import json\n",
    "import os\n",
    "import pickle\n",
    "import random\n",
    "import time\n",
    "import requests\n",
    "import gc\n",
    "\n",
    "import matplotlib.pyplot as plt\n",
    "import pandas as pd\n",
    "import numpy as np\n",
    "import en_core_web_md\n",
    "import nltk\n",
    "\n",
    "from sklearn.neighbors import BallTree\n",
    "from nltk.tokenize import word_tokenize\n",
    "from annoy import AnnoyIndex\n",
    "from tqdm import tqdm"
   ]
  },
  {
   "cell_type": "code",
   "execution_count": 3,
   "id": "10746237",
   "metadata": {},
   "outputs": [
    {
     "name": "stderr",
     "output_type": "stream",
     "text": [
      "[nltk_data] Downloading package punkt to /home/ahmed/nltk_data...\n",
      "[nltk_data]   Package punkt is already up-to-date!\n"
     ]
    },
    {
     "data": {
      "text/plain": [
       "True"
      ]
     },
     "execution_count": 3,
     "metadata": {},
     "output_type": "execute_result"
    }
   ],
   "source": [
    "nltk.download('punkt')"
   ]
  },
  {
   "cell_type": "markdown",
   "id": "6aeh295H1phc",
   "metadata": {
    "id": "6aeh295H1phc"
   },
   "source": [
    "# 0. Prepare the data"
   ]
  },
  {
   "cell_type": "code",
   "execution_count": 4,
   "id": "29a5311c-46bd-459e-9aaa-68ac3f1a088e",
   "metadata": {
    "id": "29a5311c-46bd-459e-9aaa-68ac3f1a088e"
   },
   "outputs": [],
   "source": [
    "def draw_earth(xlim=(-180, +180), ylim=(-90, +90)):\n",
    "    plt.figure(figsize=(15, 8))\n",
    "    plt.xlim(xlim)\n",
    "    plt.ylim(ylim)\n",
    "    \n",
    "    df = pd.read_csv(\"./world.csv\")\n",
    "    \n",
    "    for row in df['geojson']:\n",
    "        js = json.loads(row)\n",
    "        polys = js['coordinates']\n",
    "        for poly in polys:\n",
    "            for pp in poly:\n",
    "                x, y = [v[0] for v in pp], [v[1] for v in pp]\n",
    "                plt.plot(x, y, color='gray')"
   ]
  },
  {
   "cell_type": "markdown",
   "id": "a095e09a-bde2-4854-9b4c-774980032d46",
   "metadata": {
    "id": "a095e09a-bde2-4854-9b4c-774980032d46"
   },
   "source": [
    "Reading the dataset and storing coordinates in `GEO` matrix:"
   ]
  },
  {
   "cell_type": "code",
   "execution_count": 5,
   "id": "50a70144-746d-443d-9a94-2ea16f7d2209",
   "metadata": {
    "colab": {
     "base_uri": "https://localhost:8080/"
    },
    "id": "50a70144-746d-443d-9a94-2ea16f7d2209",
    "outputId": "df2c2c3c-56ab-4302-a848-56e27126d230",
    "tags": []
   },
   "outputs": [
    {
     "data": {
      "text/plain": [
       "0"
      ]
     },
     "execution_count": 5,
     "metadata": {},
     "output_type": "execute_result"
    }
   ],
   "source": [
    "with open(\"./poi_sample01.pickle\", \"rb\") as f:\n",
    "    dataset = pickle.load(f)\n",
    "\n",
    "# Sample 20000 of points to draw\n",
    "step = len(dataset) // 20000\n",
    "\n",
    "# Pure coordinates in compressed representation, 2B per number -> 8MB per array\n",
    "GEO = np.array([v[0] for v in dataset], dtype=np.float16)\n",
    "N = len(dataset)\n",
    "\n",
    "# Free the memory\n",
    "dataset = None\n",
    "\n",
    "import gc\n",
    "gc.collect()"
   ]
  },
  {
   "cell_type": "markdown",
   "id": "553b4471-6023-4baa-9922-6427371ce00d",
   "metadata": {
    "id": "553b4471-6023-4baa-9922-6427371ce00d"
   },
   "source": [
    "Showing approximate dataset data distribution:"
   ]
  },
  {
   "cell_type": "code",
   "execution_count": 6,
   "id": "e34accde-8889-4c48-8979-90801bc33b94",
   "metadata": {
    "colab": {
     "base_uri": "https://localhost:8080/",
     "height": 496
    },
    "id": "e34accde-8889-4c48-8979-90801bc33b94",
    "outputId": "a0a89e72-8572-494f-d416-55b5ae10b3bf"
   },
   "outputs": [
    {
     "data": {
      "image/png": "[encoded data removed]",
      "text/plain": [
       "<Figure size 1080x576 with 1 Axes>"
      ]
     },
     "metadata": {
      "needs_background": "light"
     },
     "output_type": "display_data"
    }
   ],
   "source": [
    "draw_earth(ylim=(-75, 75))\n",
    "plt.xlabel('longitude')\n",
    "plt.ylabel('latitude')\n",
    "plt.grid()\n",
    "plt.scatter(GEO[::step, 0], GEO[::step, 1])\n",
    "plt.show()"
   ]
  },
  {
   "cell_type": "markdown",
   "id": "df552af0-04b6-486a-9e76-b19bfe957d46",
   "metadata": {
    "id": "df552af0-04b6-486a-9e76-b19bfe957d46"
   },
   "source": [
    "## 0.1. [1 point] Ok. Let's prepare ourselves to read the data from the hard drive\n",
    "\n",
    "We will prepare id-based shards (data will be distributed into equal files with ranges `[0..capacity-1], [capacity..2*capacity-1], ...`. Each shard will store `capacity` elements. Your task is to complete the implementation with `iterate_dataset` function."
   ]
  },
  {
   "cell_type": "code",
   "execution_count": 7,
   "id": "4186d0a3-2783-4d0c-889a-a9760461bcdf",
   "metadata": {
    "id": "4186d0a3-2783-4d0c-889a-a9760461bcdf"
   },
   "outputs": [],
   "source": [
    "def split_shards(file, folder='shard', capacity=20000):\n",
    "    import pickle, os, math, gc\n",
    "    if not os.path.exists(folder):\n",
    "        os.mkdir(folder)\n",
    "    with open(file, \"rb\") as f:\n",
    "        dataset = pickle.load(f)\n",
    "    nshards = len(dataset) // capacity\n",
    "\n",
    "    if nshards * capacity < len(dataset):\n",
    "        nshards += 1\n",
    "    \n",
    "    for i in range(nshards):\n",
    "        with open(f\"{folder}/{i}\", 'wb') as f:\n",
    "            part = dataset[i * capacity:(i+1)*capacity]\n",
    "            pickle.dump(part, f)\n",
    "    dataset = None\n",
    "    gc.collect()            \n",
    "\n",
    "    \n",
    "def dataset_get(indices, folder='shard', capacity=20000) -> list:\n",
    "    result = []\n",
    "    groups = {}\n",
    "    for i in indices:\n",
    "        x = i // capacity\n",
    "        if x not in groups:\n",
    "            groups[x] = []\n",
    "        groups[x].append(i)\n",
    "    for x in groups:\n",
    "        with open(f\"{folder}/{x}\", \"rb\") as f:\n",
    "            sha = pickle.load(f)\n",
    "            for i in groups[x]:\n",
    "                row = sha[i % capacity]\n",
    "                result.append(row)\n",
    "    return result\n",
    "\n",
    "\n",
    "# Returns an iterator, which goes through all elements, consequently opening files\n",
    "def iterate_dataset(items, folder=\"shard\", capacity=20000):\n",
    "    nshards = items // capacity\n",
    "    if nshards * capacity < items:\n",
    "        nshards += 1\n",
    "\n",
    "    for shard_id in range(nshards):\n",
    "        with open(f'./{folder}/{shard_id}', 'rb') as f:\n",
    "            shard = pickle.load(f)\n",
    "        for item in shard:\n",
    "            yield item\n"
   ]
  },
  {
   "cell_type": "code",
   "execution_count": 8,
   "id": "e6c2b7c1-2a37-48bc-9a59-f8aa2a12fb4c",
   "metadata": {
    "id": "e6c2b7c1-2a37-48bc-9a59-f8aa2a12fb4c"
   },
   "outputs": [],
   "source": [
    "split_shards(\"./poi_sample01.pickle\")"
   ]
  },
  {
   "cell_type": "markdown",
   "id": "453c72c8-ec98-4d69-a04c-a921bcdc9f3d",
   "metadata": {
    "id": "453c72c8-ec98-4d69-a04c-a921bcdc9f3d"
   },
   "source": [
    "asserts:"
   ]
  },
  {
   "cell_type": "code",
   "execution_count": 9,
   "id": "fdc03748-bb20-4abf-8ded-29a7691c7cc9",
   "metadata": {
    "id": "fdc03748-bb20-4abf-8ded-29a7691c7cc9"
   },
   "outputs": [],
   "source": [
    "i = 0\n",
    "for r in iterate_dataset(N):\n",
    "    i += 1\n",
    "\n",
    "assert i == N"
   ]
  },
  {
   "cell_type": "markdown",
   "id": "02dfe74d-7423-415a-b94c-3b132954c9b6",
   "metadata": {
    "id": "02dfe74d-7423-415a-b94c-3b132954c9b6"
   },
   "source": [
    "asserts:"
   ]
  },
  {
   "cell_type": "code",
   "execution_count": 10,
   "id": "edb8e8ee-ee4e-4e51-b1e8-0d6dc55c71b0",
   "metadata": {
    "id": "edb8e8ee-ee4e-4e51-b1e8-0d6dc55c71b0"
   },
   "outputs": [],
   "source": [
    "for i in [137, 40000, 600000]:\n",
    "    assert np.allclose(GEO[i,:], dataset_get([i])[0][0], atol=5*1e-2), \"\""
   ]
  },
  {
   "cell_type": "code",
   "execution_count": 11,
   "id": "2397c665-55fd-4fbe-9557-c2fb13339f37",
   "metadata": {
    "colab": {
     "base_uri": "https://localhost:8080/"
    },
    "id": "2397c665-55fd-4fbe-9557-c2fb13339f37",
    "outputId": "947eb138-c88f-4be3-fa8f-c0225db44668"
   },
   "outputs": [
    {
     "data": {
      "text/plain": [
       "[([-58.4339539, -34.6028583],\n",
       "  'CreationFlow, Professional, Computer Services. AR, Ciudad de Buenos Aires, Vera 15 3-B'),\n",
       " ([13.9706993103, 46.6813430786],\n",
       "  'Bahnhof Ossiach-Bodensdorf. AT, Bodensdorf, '),\n",
       " ([-117.642377, 34.068324],\n",
       "  'Industrial Labor Management, Professional, Management & Consulting. US, Ontario, 647 E E St'),\n",
       " ([28.0354352, -26.1470966],\n",
       "  'ScoreGrid, Professional, Computer Services. ZA, Johannesburg, 158 Jan Smuts Avenue Rosebank')]"
      ]
     },
     "execution_count": 11,
     "metadata": {},
     "output_type": "execute_result"
    }
   ],
   "source": [
    "dataset_get([1, 10, 1000234, N-1])"
   ]
  },
  {
   "cell_type": "markdown",
   "id": "5ae824d0-ed81-4fac-98fb-ff92e80dc752",
   "metadata": {
    "id": "5ae824d0-ed81-4fac-98fb-ff92e80dc752"
   },
   "source": [
    "---\n",
    "\n",
    "# And now the task!\n",
    "Ok. We are ready to perform the following steps utilizing functions beyond:\n",
    "1. Build **coordinate search index**. We will use it to obtain POI from the given region.\n",
    "3. Implement **vector text embedding index** (Annoy, HNSW) to serve semantic queries.\n",
    "3. Implement **geocoding** with cache. We will use it to obtain city coordinates.\n",
    "4. Impement search for **double queries: town and location type**."
   ]
  },
  {
   "cell_type": "markdown",
   "id": "8ac21fa4-dc16-41b9-8c4f-7ea535b0dd75",
   "metadata": {
    "id": "8ac21fa4-dc16-41b9-8c4f-7ea535b0dd75"
   },
   "source": [
    "# 1. Create spacial index for points of interest\n",
    "\n",
    "We will store dataset rows numbers as values, and coordinates as keys. Please use [KDtree](https://scikit-learn.org/stable/modules/generated/sklearn.neighbors.KDTree.html#sklearn.neighbors.KDTree) or [BallTree](https://scikit-learn.org/stable/modules/generated/sklearn.neighbors.BallTree.html#sklearn.neighbors.BallTree) from sklearn."
   ]
  },
  {
   "cell_type": "markdown",
   "id": "-1ljJrckkXaM",
   "metadata": {
    "id": "-1ljJrckkXaM"
   },
   "source": [
    "## 1.1. [5 points] Build the index and return it\n",
    "\n",
    "Implement the following functions. To get the full grade:\n",
    "- `build_geospacial_index` should build and return a search tree object: KDTree or BallTree.\n",
    "- `kNN` accepts a 2D-point, `k` neighbours parameter, and returns **approximate** `k` neighbours (they can be different from the real neighbours).\n",
    "- `inRadius` accepts a 2D-point, L<sub>2</sub> `radius`, and returns points inside the radius."
   ]
  },
  {
   "cell_type": "code",
   "execution_count": 12,
   "id": "33e216ac-fd46-475e-8082-158ba32c4661",
   "metadata": {
    "id": "33e216ac-fd46-475e-8082-158ba32c4661",
    "tags": []
   },
   "outputs": [],
   "source": [
    "def build_geospacial_index(points, leaf_size=5) -> BallTree:\n",
    "    return BallTree(points, leaf_size)\n",
    "\n",
    "\n",
    "def kNN(query_point: list, k: int, index: BallTree) -> list:\n",
    "    return list(index.query(np.array([query_point]), k)[1][0])\n",
    "\n",
    "\n",
    "def inRadius(query_point: list, r: float, index: BallTree) -> list:\n",
    "    return list(index.query_radius(np.array([query_point]), r)[0])"
   ]
  },
  {
   "cell_type": "code",
   "execution_count": 13,
   "id": "7d82f9fe-efdd-48ca-a859-a91339828693",
   "metadata": {
    "id": "7d82f9fe-efdd-48ca-a859-a91339828693"
   },
   "outputs": [],
   "source": [
    "spaidx = build_geospacial_index(GEO)"
   ]
  },
  {
   "cell_type": "code",
   "execution_count": 14,
   "id": "ffff3d8c-81a5-4e4d-9b26-d76b67a98a24",
   "metadata": {
    "colab": {
     "base_uri": "https://localhost:8080/"
    },
    "id": "ffff3d8c-81a5-4e4d-9b26-d76b67a98a24",
    "outputId": "178a1352-08fd-4263-bef7-a6fbbde0ec09"
   },
   "outputs": [
    {
     "name": "stdout",
     "output_type": "stream",
     "text": [
      "[13, 145, 351, 2178, 11968, 15497, 16505, 23285, 24681, 26327]\n",
      "[13, 145, 351, 2178, 10783, 11968, 14229, 14999, 15497, 16282, 16505, 16642, 16702, 20423, 21021, 23285, 24681, 26327, 27584]\n"
     ]
    }
   ],
   "source": [
    "test_id = 13\n",
    "\n",
    "idx = kNN(GEO[test_id], 10, spaidx)\n",
    "print(sorted(idx))\n",
    "assert test_id in idx, \"Point itself should be in results\"\n",
    "\n",
    "idx = inRadius(GEO[test_id], 0.0625, spaidx)\n",
    "print(sorted(idx))\n",
    "assert test_id in idx, \"Point itself should be in results\""
   ]
  },
  {
   "cell_type": "markdown",
   "id": "46ae0ac1-d762-4dcc-bde5-1a67e84f884b",
   "metadata": {
    "id": "46ae0ac1-d762-4dcc-bde5-1a67e84f884b"
   },
   "source": [
    "## 1.2. [4 points] Tricky assert\n",
    "\n",
    "Some keys (coordinates) in the dataset (surprise!) are duplicates. Unfortunately search trees (in basic implemenation) cannot support duplicates. Thus you can follow one of the strategies:\n",
    "- a key (coordinateS) corresponds to multiple values. This may require additional data strictures.\n",
    "- improve the data (coordinates) to avoid collisions (e.g. lake sure they never coinside)\n",
    "\n",
    "Pass the assert to get full points."
   ]
  },
  {
   "cell_type": "code",
   "execution_count": 15,
   "id": "4c648b8c",
   "metadata": {},
   "outputs": [
    {
     "name": "stdout",
     "output_type": "stream",
     "text": [
      "Distance to neigbour #0 = 0.0\n",
      "Distance to neigbour #2 = 0.0\n",
      "Distance to neigbour #1 = 2.0\n"
     ]
    }
   ],
   "source": [
    "coords = [(1, 2), (1, 4), (1, 2)]\n",
    "tree = BallTree(coords, leaf_size=2)\n",
    "\n",
    "dsts, ids = tree.query(np.array([(1, 2)]), 3)\n",
    "\n",
    "for i in range(len(ids[0])):\n",
    "    print(f'Distance to neigbour #{ids[0][i]} = {dsts[0][i]}')"
   ]
  },
  {
   "cell_type": "markdown",
   "id": "_zQV8KgMaFsk",
   "metadata": {
    "id": "_zQV8KgMaFsk"
   },
   "source": [
    "### **Read this please**:\n",
    "\n",
    "The coordinate at index 1966663 (i.e., `GEO[1966663]`) contains more than 1000 different POIs (i.e., distances to all its 10012 neighbors = 0, check the proof in the next cell), so the nearest 1000 happen to not include the original `query_point` (since results are sorted) **and that's why the assertion fails.**\n",
    "\n",
    "For this type of assertion to work, k needs to be at least `len(x)` where `x` is the list of neighbors `n` that satisfy `dist(query_point, n) = 0`\n",
    "\n",
    "In this example, increasing `k` from 1000 to 10012 will just do the job. "
   ]
  },
  {
   "cell_type": "code",
   "execution_count": 16,
   "id": "S307i-C4YblO",
   "metadata": {
    "colab": {
     "base_uri": "https://localhost:8080/"
    },
    "id": "S307i-C4YblO",
    "outputId": "054db9c8-f444-4266-81e8-b32b4603d389"
   },
   "outputs": [
    {
     "name": "stdout",
     "output_type": "stream",
     "text": [
      "Number of POIs at [-74.    40.75] = 10012\n",
      "Number of POIs at [-115.3    36.16] = 175\n",
      "Number of POIs at [-118.4   34.2] = 395\n"
     ]
    }
   ],
   "source": [
    "for target_coord in [GEO[1966663], GEO[1480877], GEO[2126566]]:\n",
    "    count = 1\n",
    "    for coord, addr in iterate_dataset(N):\n",
    "        coord = np.array(coord).astype(np.float16)\n",
    "        if coord[0] == target_coord[0] and coord[1] == target_coord[1]:\n",
    "            # print(f\"POI #{count}: {addr}\")\n",
    "            count += 1\n",
    "\n",
    "    print(f\"Number of POIs at {target_coord} = {count}\")"
   ]
  },
  {
   "cell_type": "code",
   "execution_count": 17,
   "id": "3933c8b6-0904-4724-a349-9e1375610553",
   "metadata": {
    "id": "3933c8b6-0904-4724-a349-9e1375610553"
   },
   "outputs": [],
   "source": [
    "points = [1966663, 1480877, 2126566]\n",
    "for p in points:\n",
    "    x = GEO[p, :]\n",
    "    r = kNN(x, 20000, spaidx)\n",
    "    assert (p in r), \"Query did not return itself\""
   ]
  },
  {
   "cell_type": "markdown",
   "id": "c85991d1-b730-4405-a33f-8812e562145a",
   "metadata": {
    "id": "c85991d1-b730-4405-a33f-8812e562145a"
   },
   "source": [
    "## 1.3. [Optional demo] How leaf size influences build and search speed?\n",
    "\n",
    "Let us look at how parameter of leaf size affects speed of search and construction"
   ]
  },
  {
   "cell_type": "code",
   "execution_count": 18,
   "id": "9bc09c3b-cb03-44ea-8c15-ec3787fa090d",
   "metadata": {
    "colab": {
     "base_uri": "https://localhost:8080/"
    },
    "id": "9bc09c3b-cb03-44ea-8c15-ec3787fa090d",
    "outputId": "8b883377-c73b-46f4-d873-e109bbddc588"
   },
   "outputs": [
    {
     "name": "stderr",
     "output_type": "stream",
     "text": [
      "100%|█████████████████████████████████████████████| 4/4 [00:13<00:00,  3.41s/it]\n"
     ]
    },
    {
     "data": {
      "image/png": "[encoded data removed]",
      "text/plain": [
       "<Figure size 432x288 with 1 Axes>"
      ]
     },
     "metadata": {
      "needs_background": "light"
     },
     "output_type": "display_data"
    }
   ],
   "source": [
    "queries = random.sample(range(N), 1000)\n",
    "leaf_sizes = [1, 10, 20, 50]\n",
    "\n",
    "build_times = []\n",
    "query_times = []\n",
    "for ls in tqdm(leaf_sizes):\n",
    "    start = time.time()\n",
    "    idx = build_geospacial_index(GEO, ls)\n",
    "    build_times.append(time.time() - start)\n",
    "    \n",
    "    start = time.time()\n",
    "    for q in queries:\n",
    "        d, r = spaidx.query([GEO[q]], 10000, sort_results=False, breadth_first=True)\n",
    "    query_times.append(time.time() - start)\n",
    "    idx = None\n",
    "    gc.collect()\n",
    "\n",
    "plt.xlabel(\"build time, s\")\n",
    "plt.ylabel(\"query time, s\")\n",
    "plt.scatter(build_times, query_times)\n",
    "for i, ls in enumerate(leaf_sizes):\n",
    "    plt.annotate(str(ls), (build_times[i], query_times[i]))"
   ]
  },
  {
   "cell_type": "markdown",
   "id": "545a1830-2bd2-4e29-898e-300f43ca6dfc",
   "metadata": {
    "id": "545a1830-2bd2-4e29-898e-300f43ca6dfc"
   },
   "source": [
    "## 1.4. [5 points] Range queries?\n",
    "\n",
    "Ok, you have a **radius query**, but what about **rectangual ranges**? Using the functions you already wrote, please, implement the range query given `north-east` and `south-west` corners. Pass the asserts to get points."
   ]
  },
  {
   "cell_type": "code",
   "execution_count": 19,
   "id": "518149b1-21e3-4f8c-93a9-4d955f7c9751",
   "metadata": {
    "id": "518149b1-21e3-4f8c-93a9-4d955f7c9751"
   },
   "outputs": [],
   "source": [
    "# Returns ids of the points in a rectangular range\n",
    "def get_in_range(ne, sw, spacial_index, GEO) -> list:\n",
    "    ne, sw = np.array(ne), np.array(sw)\n",
    "    nex, ney = ne[0], ne[1]\n",
    "    swx, swy = sw[0], sw[1]\n",
    "\n",
    "    # center and radius of the circle circumscribing the rectangle\n",
    "    center = [(swx + nex) / 2, (swy + ney) / 2]\n",
    "    radius = np.linalg.norm(ne - sw)\n",
    "\n",
    "    # get points in radius, excluding the ones outside the rectangle\n",
    "    ids = inRadius(center, radius, spacial_index)\n",
    "    result = []\n",
    "    for idx in ids:\n",
    "        coord = GEO[idx]\n",
    "        if coord[0] < swx or coord[0] > nex or coord[1] < swy or coord[1] > ney:\n",
    "            continue\n",
    "        result.append(idx)\n",
    "\n",
    "    return sorted(result)"
   ]
  },
  {
   "cell_type": "code",
   "execution_count": 20,
   "id": "add4c18d-e4d1-4fa5-a947-a61ff2c007c4",
   "metadata": {
    "id": "add4c18d-e4d1-4fa5-a947-a61ff2c007c4"
   },
   "outputs": [],
   "source": [
    "def print_starbucks(ids):\n",
    "    for row in dataset_get(ids):\n",
    "        if 'Starbucks' in row[1]:\n",
    "            print(row[1])"
   ]
  },
  {
   "cell_type": "markdown",
   "id": "f2d95a52-1667-4381-acce-686f99e11a8c",
   "metadata": {
    "id": "f2d95a52-1667-4381-acce-686f99e11a8c"
   },
   "source": [
    "asserts:"
   ]
  },
  {
   "cell_type": "code",
   "execution_count": 21,
   "id": "699927cb-ac44-498a-9dec-1d76a34df67e",
   "metadata": {
    "colab": {
     "base_uri": "https://localhost:8080/"
    },
    "id": "699927cb-ac44-498a-9dec-1d76a34df67e",
    "outputId": "22ed76af-664f-4822-ff09-11ebe256d568"
   },
   "outputs": [
    {
     "name": "stdout",
     "output_type": "stream",
     "text": [
      "Starbucks, Restaurant, . US, New York, 325 W 49 St\n",
      "Starbucks, Restaurant, . US, Manhattan, 195 Broadway\n",
      "Starbucks, Restaurant, . US, Manhattan, 1585 Broadway\n",
      "Starbucks Coffee, Coffee & Tea, . US, Hoboken, 51 Newark St\n",
      "Starbucks Coffee, Coffee & Tea, . US, New York, 450 W 33rd St\n",
      "Starbucks Coffee, Coffee & Tea, . US, New York, 151 W 34th St\n",
      "Starbucks Coffee, Coffee & Tea, . US, New York, 55 Liberty St\n",
      "Starbucks Coffee, Coffee & Tea, . US, New York, 4 W 21st St\n",
      "Starbucks Coffee, Coffee & Tea, . US, New York, 378 Avenue of The Americas\n",
      "Starbucks Coffee, Coffee & Tea, . US, New York, 150 Varick St\n",
      "Starbucks Coffee, Coffee & Tea, . US, New York, 1372 Broadway\n",
      "Starbucks Coffee, Coffee & Tea, . US, New York, 1530 Broadway\n",
      "Starbucks, Coffee & Tea, . US, Manhattan, 80 Delancey St\n",
      "Starbucks, Coffee & Tea, . US, Manhattan, 471 Broadway\n",
      "Starbucks, Coffee & Tea, . US, Manhattan, 280 Park Ave\n",
      "Starbucks, Coffee & Tea, . US, New York, 787 7th Ave\n",
      "Starbucks, Coffee & Tea, . US, Manhattan, Hilton New York Marketplace 1335 Avenue of the Americas\n",
      "Starbucks, Coffee & Tea, . US, Manhattan, 655 Lexington Ave\n"
     ]
    }
   ],
   "source": [
    "ids = get_in_range([-73.97, 40.75], [-74.03, 40.70], spaidx, GEO)\n",
    "\n",
    "assert any(map(\n",
    "            lambda x: 'Manhattan, 80 Delancey St' in x[1], \n",
    "            dataset_get(ids))), \"This Starbucks should be in place!\"\n",
    "\n",
    "print_starbucks(ids)"
   ]
  },
  {
   "cell_type": "markdown",
   "id": "17837e0b-7018-4e58-9624-19d0097a46c7",
   "metadata": {
    "id": "17837e0b-7018-4e58-9624-19d0097a46c7"
   },
   "source": [
    "# 2. Geocoding\n",
    "\n",
    "In this block we will learn, how to convert text place names into coordinate rectangles."
   ]
  },
  {
   "cell_type": "markdown",
   "id": "pbHCmW_S1V8V",
   "metadata": {
    "id": "pbHCmW_S1V8V"
   },
   "source": [
    "## 2.1. [5 points] Implement geocoding\n",
    "which returns north-eastern and south-western points of the place. Pass asserts."
   ]
  },
  {
   "cell_type": "code",
   "execution_count": 22,
   "id": "75cee150-55a9-4501-a31c-fd7a4796d7e2",
   "metadata": {
    "id": "75cee150-55a9-4501-a31c-fd7a4796d7e2"
   },
   "outputs": [],
   "source": [
    "# Returns a pair of tuples: NE and SW corners.\n",
    "def get_town_range_coordinates(town: str) -> tuple:\n",
    "    box = json.loads(\n",
    "        requests.get(f'https://nominatim.openstreetmap.org/search/{town}?format=json&limit=1').content\n",
    "    )[0][\"boundingbox\"]\n",
    "\n",
    "    NE, SW = ((float(box[3]), float(box[1])), (float(box[2]), float(box[0]))) \n",
    "    return NE, SW"
   ]
  },
  {
   "cell_type": "markdown",
   "id": "3848f5bb-9acd-44a2-ba25-dae0d847f1cb",
   "metadata": {
    "id": "3848f5bb-9acd-44a2-ba25-dae0d847f1cb"
   },
   "source": [
    "asserts:"
   ]
  },
  {
   "cell_type": "code",
   "execution_count": 23,
   "id": "ee42826b-91e0-470f-8f9e-c8986894c20c",
   "metadata": {
    "colab": {
     "base_uri": "https://localhost:8080/"
    },
    "id": "ee42826b-91e0-470f-8f9e-c8986894c20c",
    "outputId": "1d49d865-20d1-4a22-def9-59263d1269e6"
   },
   "outputs": [
    {
     "name": "stdout",
     "output_type": "stream",
     "text": [
      "((-79.9849874, 40.4470976), (-80.0132624, 40.433983))\n"
     ]
    }
   ],
   "source": [
    "p = get_town_range_coordinates('Pittsburgh downtown')\n",
    "print(p)\n",
    "assert p[1][0] <= -80. <= p[0][0] and p[1][1] <= 40.44 <= p[0][1] "
   ]
  },
  {
   "cell_type": "markdown",
   "id": "536a8de0-7528-490a-855c-1cd22497accb",
   "metadata": {
    "id": "536a8de0-7528-490a-855c-1cd22497accb"
   },
   "source": [
    "## 2.2. [5 points] Town queries\n",
    "\n",
    "Now, having a range query and geocoding, we can implement town-queries!"
   ]
  },
  {
   "cell_type": "code",
   "execution_count": 24,
   "id": "664a7f60-5bd3-430b-86d1-43be9a12345f",
   "metadata": {
    "id": "664a7f60-5bd3-430b-86d1-43be9a12345f"
   },
   "outputs": [],
   "source": [
    "# Returns dataset indices of all POIs in a given town\n",
    "def get_in_town(town, index, GEO) -> list:\n",
    "    NE, SW = get_town_range_coordinates(town)\n",
    "    return get_in_range(NE, SW, index, GEO)"
   ]
  },
  {
   "cell_type": "code",
   "execution_count": 25,
   "id": "416b1f42-f5e7-45a0-a939-c8b7daef7a4d",
   "metadata": {
    "colab": {
     "base_uri": "https://localhost:8080/"
    },
    "id": "416b1f42-f5e7-45a0-a939-c8b7daef7a4d",
    "outputId": "85df7b42-9c04-4e4c-a185-5e1c6b6cdc0b"
   },
   "outputs": [
    {
     "name": "stdout",
     "output_type": "stream",
     "text": [
      "Starbucks Coffee, Coffee & Tea, . US, Pittsburgh, 810 River Ave\n",
      "Starbucks Coffee, Utilities, Mobile Phone. US, Pittsburgh, 1719 Penn Ave\n"
     ]
    }
   ],
   "source": [
    "ids = get_in_town('Pittsburgh downtown', spaidx, GEO)\n",
    "\n",
    "assert any(map(\n",
    "            lambda x: 'US, Pittsburgh, 810 River Ave' in x[1], \n",
    "            dataset_get(ids))), \"This Starbucks should be in place!\"\n",
    "\n",
    "print_starbucks(ids)"
   ]
  },
  {
   "cell_type": "markdown",
   "id": "212c1670-3314-4b81-95e8-278a5b8822db",
   "metadata": {
    "id": "212c1670-3314-4b81-95e8-278a5b8822db"
   },
   "source": [
    "## 2.3. [M][5 points] Caching\n",
    "\n",
    "Why should you pay for every geocaching request, if you can cache them? Implement a cached version on geocoding. The second query does not use internet."
   ]
  },
  {
   "cell_type": "code",
   "execution_count": 26,
   "id": "a3848261-07c1-47ef-bcea-1b0a72c70038",
   "metadata": {
    "id": "a3848261-07c1-47ef-bcea-1b0a72c70038"
   },
   "outputs": [],
   "source": [
    "GEO_CACHE = {}\n",
    "\n",
    "def get_town_range_coordinates_cached(town: str) -> tuple:\n",
    "    global GEO_CACHE\n",
    "    if town not in GEO_CACHE:\n",
    "        GEO_CACHE[town] = get_town_range_coordinates(town)\n",
    "    return GEO_CACHE[town]\n",
    "\n",
    "def get_in_town_cached(town: str, index, GEO) -> list:\n",
    "    NE, SW = get_town_range_coordinates_cached(town)\n",
    "    return get_in_range(NE, SW, index, GEO)"
   ]
  },
  {
   "cell_type": "code",
   "execution_count": 27,
   "id": "cdcf7790-ba8f-472a-9c67-133ffa8bc10d",
   "metadata": {
    "colab": {
     "base_uri": "https://localhost:8080/"
    },
    "id": "cdcf7790-ba8f-472a-9c67-133ffa8bc10d",
    "outputId": "c9f195fa-72a6-48b0-d8b2-08961e3f7cfd"
   },
   "outputs": [
    {
     "name": "stdout",
     "output_type": "stream",
     "text": [
      "Starbucks Coffee, Coffee & Tea, . US, Boulder, 1427 Pearl St\n",
      "Starbucks Coffee, Coffee & Tea, . US, Boulder, 2770 Pearl St\n",
      "Starbucks Coffee, Coffee & Tea, . US, Boulder, 1427 Pearl St\n",
      "Starbucks Coffee, Coffee & Tea, . US, Boulder, 2770 Pearl St\n"
     ]
    }
   ],
   "source": [
    "ids = get_in_town_cached('Boulder, CO', spaidx, GEO)\n",
    "print_starbucks(ids)\n",
    "ids = get_in_town_cached('Boulder, CO', spaidx, GEO)\n",
    "print_starbucks(ids)"
   ]
  },
  {
   "cell_type": "markdown",
   "id": "59f7cb00-c98a-493b-a3bd-f290fcfc83a4",
   "metadata": {
    "id": "59f7cb00-c98a-493b-a3bd-f290fcfc83a4"
   },
   "source": [
    "# 3. Text search\n",
    "\n",
    "We are done with geography, but we have no clear method to search for categories. What if we prepare vector index of location names?"
   ]
  },
  {
   "cell_type": "code",
   "execution_count": 28,
   "id": "8ea12030-de9c-4200-a411-0138e43c05db",
   "metadata": {
    "id": "8ea12030-de9c-4200-a411-0138e43c05db"
   },
   "outputs": [],
   "source": [
    "nlp = en_core_web_md.load()\n",
    "\n",
    "names = {}"
   ]
  },
  {
   "cell_type": "markdown",
   "id": "07dca13a-5641-4330-b1e2-895f6a81e220",
   "metadata": {
    "id": "07dca13a-5641-4330-b1e2-895f6a81e220"
   },
   "source": [
    "## 3.1. [5 points] Embedding\n",
    "\n",
    "Here is the trick. If you use any embedding model \"as it is\", it may take some hours to prepare 2M embeddings. It's ok if you can wait for **3 points**, but...\n",
    "\n",
    "To get full points, please think, how you can speed up the process with embedding to less than 5 minutes?\n",
    "\n",
    "HINT: spacy model `nlp` has a [dictionary for word embeddings](https://spacy.io/api/vocab). You can access `nlp.vocab[word].vector` to get word embedding, `nlp.vocab.strings` map stores integer indices."
   ]
  },
  {
   "cell_type": "code",
   "execution_count": 29,
   "id": "bd2b67c2-63f0-444d-9720-83f6c3b98d6f",
   "metadata": {
    "colab": {
     "base_uri": "https://localhost:8080/"
    },
    "id": "bd2b67c2-63f0-444d-9720-83f6c3b98d6f",
    "outputId": "087e44a0-e73d-49df-9f14-aaafe1411330"
   },
   "outputs": [],
   "source": [
    "WORDS = set([a.strip().lower() for a in open('./words.txt', 'r').readlines()])\n",
    "\n",
    "# Mark the names that are common and stored in nlp.vocab\n",
    "for word in WORDS:\n",
    "    if nlp.vocab.has_vector(word):\n",
    "        names[word] = True\n",
    "        \n",
    "# I added my own assertions :)\n",
    "assert 'hospital' in names\n",
    "assert 'pharmacy' in names\n",
    "assert 'restaurant' in names\n",
    "assert 'hotel' in names"
   ]
  },
  {
   "cell_type": "code",
   "execution_count": 30,
   "id": "OGAdHDBh23Fs",
   "metadata": {
    "id": "OGAdHDBh23Fs"
   },
   "outputs": [],
   "source": [
    "# Returns a vector (300, ) of normalized text embedding\n",
    "# Uses the cached word embedding dictionary to make embedding fast\n",
    "# unless the text is a common word, in this case we compute embedding for it.\n",
    "\n",
    "def embed(text, nlp):\n",
    "    result = None\n",
    "    text = text.lower()\n",
    "    for word in word_tokenize(text):\n",
    "        if word in names:\n",
    "            if result is None:\n",
    "                result = np.zeros((300))\n",
    "            result += nlp.vocab[word].vector\n",
    "    \n",
    "    if result is None:\n",
    "        if text in names:\n",
    "            v = nlp(text).vector\n",
    "            return v / np.linalg.norm(v)\n",
    "        else:\n",
    "            return None\n",
    "    \n",
    "    return result / np.linalg.norm(result)"
   ]
  },
  {
   "cell_type": "code",
   "execution_count": 32,
   "id": "43836204-638f-4f77-b4b2-7348fb0241dd",
   "metadata": {
    "colab": {
     "base_uri": "https://localhost:8080/"
    },
    "id": "43836204-638f-4f77-b4b2-7348fb0241dd",
    "outputId": "3d708be4-bf50-4b2a-d50b-500e878ab8b2"
   },
   "outputs": [
    {
     "name": "stderr",
     "output_type": "stream",
     "text": [
      "100%|███████████████████████████████| 2173512/2173512 [04:45<00:00, 7603.70it/s]\n"
     ]
    }
   ],
   "source": [
    "embeddings = np.zeros((N, 300), dtype=np.float16)\n",
    "\n",
    "for i, item in enumerate(tqdm(iterate_dataset(N), total=N)):\n",
    "    name = item[1].split('.')[0]\n",
    "    emb = embed(name, nlp)\n",
    "    if emb is not None:\n",
    "        embeddings[i, :] = emb"
   ]
  },
  {
   "cell_type": "markdown",
   "id": "7a2664e2",
   "metadata": {},
   "source": [
    "**It took less than 5 minutes :)**"
   ]
  },
  {
   "cell_type": "markdown",
   "id": "73177781-3e59-494b-afc6-215f1a926f24",
   "metadata": {
    "id": "73177781-3e59-494b-afc6-215f1a926f24"
   },
   "source": [
    "## 3.2. [10 points] Vector index\n",
    "\n",
    "Here we will build vector index for our embeddings. I want to warn Windows users, that they can observe problems with installing Faiss and HNSWlib. Still this is not the reason not to try :)\n",
    "Choose **one of the libraries** and fulfill the requirements:\n",
    "1. If you choose [FAISS](https://faiss.ai/). Get started with [installation](https://faiss.ai/#install) and this [tutorial](https://github.com/facebookresearch/faiss/wiki/Getting-started). To get full points your index must use [Product Quantization](https://github.com/facebookresearch/faiss/wiki/Lower-memory-footprint): 50 subvectors, 8 bits (1 byte) each. Use custom `nprobe` parameter equal to 23. Number or Voronoi cells is `65536`. Refer to [this document](https://github.com/facebookresearch/faiss/wiki/Guidelines-to-choose-an-index#if-1m---10m-ivf65536_hnsw32) to understand recommendations.\n",
    "2. If you use [HNSWlib](https://github.com/nmslib/hnswlib) (or [nmslib](https://github.com/nmslib/nmslib)) then follow these requirements. Use `cosine` metric for index construction, maximum number of outgoing connections (max outdegree) in the graph is 16, `ef` parameter at construction time should be `250`. Some useful information is given [here](https://github.com/nmslib/nmslib/blob/master/manual/methods.md).\n",
    "3. For [Annoy](https://github.com/spotify/annoy) you should cosine distance for the space (if vectors are normed, you can use dot product intead), use all CPU cores at construction time. Build the index on right on disk, then load. Your index should consist of 37 trees.\n",
    "\n",
    "**NB** If you run on not-very-modern hardware (e.g. your RAM is less then 8GB), then you'd better reduce dataset size (e.g. take a specific region only like US east cost). You can also reduce other parameters only for the sake of RAM efficiency, but please specify and justify your decisions.\n",
    "\n",
    "e.g.\n",
    "```    \n",
    "roi = set(get_in_range([-68.645945, 43.163175], [-80.461502, 37.097044], spaidx, GEO))\n",
    "```\n",
    "\n",
    "\n",
    "**HINT** You can remove `embeddings` array and call `gc.collect()` before loading index to RAM.\n",
    "\n",
    "**HINT2** Should you index vectors with $[0]^N$ values?"
   ]
  },
  {
   "cell_type": "code",
   "execution_count": 33,
   "id": "7b1a228f-4b29-4bee-af78-79fa0df6eee9",
   "metadata": {
    "id": "7b1a228f-4b29-4bee-af78-79fa0df6eee9"
   },
   "outputs": [],
   "source": [
    "# Builds annoy index on disk (filename='index.ann')\n",
    "def build_vector_index():\n",
    "    global embeddings\n",
    "    index = AnnoyIndex(300, 'dot')\n",
    "    index.on_disk_build('index.ann')\n",
    "    \n",
    "    for i, emb in enumerate(tqdm(embeddings)):\n",
    "        index.add_item(i, emb)\n",
    "    \n",
    "    # Remove embeddings to free memory\n",
    "    embeddings = None\n",
    "    gc.collect()\n",
    "    \n",
    "    index.build(37, n_jobs=7)\n",
    "\n",
    "# Loads the index from disk (builds first if the index doesn't exist)\n",
    "def get_vector_index():\n",
    "    if not os.path.exists('index.ann'):\n",
    "        build_vector_index()\n",
    "    index = AnnoyIndex(300, 'dot')\n",
    "    index.load('index.ann')\n",
    "    return index\n",
    "\n",
    "# Query the Approximate K-Nearest Neighbours using the built index\n",
    "def get_kNN_embeddings(embedding, k, index):\n",
    "    return index.get_nns_by_vector(embedding, k)"
   ]
  },
  {
   "cell_type": "code",
   "execution_count": 34,
   "id": "3a4c7c11-1fee-42b2-b8f8-c600928bd6b6",
   "metadata": {
    "colab": {
     "base_uri": "https://localhost:8080/"
    },
    "id": "3a4c7c11-1fee-42b2-b8f8-c600928bd6b6",
    "outputId": "cfc071c1-5880-4f48-c247-baace08f77d8"
   },
   "outputs": [
    {
     "name": "stderr",
     "output_type": "stream",
     "text": [
      "100%|██████████████████████████████| 2173512/2173512 [00:55<00:00, 39121.31it/s]\n"
     ]
    }
   ],
   "source": [
    "embedding_index = get_vector_index()"
   ]
  },
  {
   "cell_type": "code",
   "execution_count": 35,
   "id": "5600f9a9-2713-4e43-832c-55dc4b4219be",
   "metadata": {
    "id": "5600f9a9-2713-4e43-832c-55dc4b4219be",
    "tags": []
   },
   "outputs": [],
   "source": [
    "result = get_kNN_embeddings(embed('pharmacy', nlp), 1000, embedding_index)\n",
    "assert len(result) == 1000"
   ]
  },
  {
   "cell_type": "markdown",
   "id": "4a5e690d-a6f8-4c9a-8a89-eb02aabbc690",
   "metadata": {
    "id": "4a5e690d-a6f8-4c9a-8a89-eb02aabbc690"
   },
   "source": [
    "# 4. [5 points] And now we want to have this together!\n",
    "\n",
    "Say no more:"
   ]
  },
  {
   "cell_type": "code",
   "execution_count": 36,
   "id": "e7dd5aab-f429-4d51-8691-2fd497c23d60",
   "metadata": {
    "id": "e7dd5aab-f429-4d51-8691-2fd497c23d60"
   },
   "outputs": [],
   "source": [
    "# Returns a list of data items (queries in town), with coordinates and texts   \n",
    "def find(town, query) -> list:\n",
    "    query_locations = set(get_kNN_embeddings(embed(query, nlp), 1000, embedding_index))\n",
    "    POIs_in_town = set(get_in_town(town, spaidx, GEO))\n",
    "\n",
    "    return dataset_get(POIs_in_town.intersection(query_locations))"
   ]
  },
  {
   "cell_type": "code",
   "execution_count": 37,
   "id": "cIy_TT-QQIhk",
   "metadata": {
    "colab": {
     "base_uri": "https://localhost:8080/"
    },
    "id": "cIy_TT-QQIhk",
    "outputId": "3917f5ce-0b92-43e0-e5af-5b3df2aad857"
   },
   "outputs": [
    {
     "name": "stdout",
     "output_type": "stream",
     "text": [
      "[([-73.9793, 40.689401], 'The Brooklyn Hospital Center, Health Services, Hospital. US, Brooklyn, 19 Rockwell Place'), ([-73.994301, 40.752499], 'The Jewish Home & Hospital Lifecare, Health Services, Hospital. US, New York, 330 W 34th St'), ([-73.912052, 40.843475], 'Bronx Lebonon Hospital, Health Services, Hospital. US, Bronx, 1645 Grand Concourse'), ([-73.976501, 40.739498], 'Bellevue Hospital, Health Services, Hospital. US, New York, 462 1st Ave'), ([-73.991589, 40.757525], 'Hospital League Local 1199, Health Services, Hospital. US, New York, 330 W 42nd St'), ([-73.977642, 40.689811], 'The Brooklyn Hospital Center, Health Services, Hospital. US, Brooklyn, 121 Dekalb Ave'), ([-73.987801, 40.7701], \"St Luke's Roosevelt Hospital, Health Services, Hospital. US, New York, 1000 10th Ave\"), ([-73.991402, 40.694], 'Brooklyn University Hospital & Medical Center, Health Services, Hospital. US, Brooklyn, Linden Blvd At Brk'), ([-73.961403, 40.7743], 'Lenox Hill Hospital, Health Services, Hospital. US, New York, 100 E 77th St'), ([-73.954399, 40.731899], 'Brooklyn Hospital Center the, Health Services, Hospital. US, Brooklyn, 960 Manhattan Ave'), ([-73.912224, 40.807535], 'The Floating Hospital, Health Services, Hospital. US, Bronx, 346 Powers Avenue'), ([-73.987514, 40.756284], 'Hospital Audiences, Health Services, Hospital. US, New York, 220 W 42nd Street'), ([-73.97852, 40.691775], 'Brooklyn Hospital Center The, Health Services, Hospital. US, Brooklyn, 240 Willoughby St Ste 2'), ([-73.909587, 40.846122], 'Bronx-Lebanon Hospital Center, Health Services, Doctor. US, Bronx, 1770 Grand Concourse'), ([-73.967954, 40.757212], 'Seicho-No-Ie Istc, Health Services, Hospital. US, New York, 247 E 53rd Street'), ([-73.981776, 40.747441], 'Beth Israel Hospital, Health Services, Hospital. US, New York, 55 E 34 St'), ([-73.98834, 40.76394], 'St Vincents Midtown Hospital, Health Services, Hospital. US, New York, 350 W 51st St'), ([-73.985927, 40.755456], 'Hospital Diagnostic Equipment, Health Services, Hospital. US, New York, 120 W 42nd St'), ([-73.953539, 40.682034], 'Brooklyn Hospital Ctr, Health Services, Hospital. US, Brooklyn, 1221 Bedford Ave')]\n"
     ]
    }
   ],
   "source": [
    "# Note: I changed \"Manhattan downtown\" to just \"Manhattan\"\n",
    "# Because the free Geocoding API I use is not as smart as Google's\n",
    "\n",
    "items = find('Manhattan', 'hospital')\n",
    "print(items[:20])\n",
    "xy = np.array([row[0] for row in items])"
   ]
  },
  {
   "cell_type": "code",
   "execution_count": 38,
   "id": "505b66ed-e15a-4003-809f-67f6bc585b02",
   "metadata": {
    "colab": {
     "base_uri": "https://localhost:8080/",
     "height": 483
    },
    "id": "505b66ed-e15a-4003-809f-67f6bc585b02",
    "outputId": "382b22c5-f02a-424b-9a0d-414d5c3ad16a"
   },
   "outputs": [
    {
     "data": {
      "image/png": "[encoded data removed]",
      "text/plain": [
       "<Figure size 1080x576 with 1 Axes>"
      ]
     },
     "metadata": {
      "needs_background": "light"
     },
     "output_type": "display_data"
    }
   ],
   "source": [
    "NE, SW = get_town_range_coordinates_cached('Manhattan')\n",
    "draw_earth(xlim=(SW[0] - 5, NE[0] + 5), ylim=(SW[1] - 5, NE[1] + 5))\n",
    "plt.scatter(xy[:, 0], xy[:, 1])\n",
    "plt.show()"
   ]
  },
  {
   "cell_type": "markdown",
   "id": "e03524ce-5a25-4e36-9363-186ea3579271",
   "metadata": {
    "id": "e03524ce-5a25-4e36-9363-186ea3579271"
   },
   "source": [
    "# 5. [M] Master level\n",
    "\n",
    "You know, that you can implement an arbitrary metric? To get full points your task will be the following:\n",
    "\n",
    "1. Choose a small sample of the original data (e.g. 10K New York points).\n",
    "2. Describe each point with coordinate vector and discrete set of words in the name. **Design the metric function** -- a function, which accepts 2 objects and returns a number. This function should esimate \"distance\" in a merged space of words and distances. No common words? Far. Both common words and vectors are similar? Close!\n",
    "3. **Use this metric in index data structure**. Maybe you will [extend nmslib](https://github.com/nmslib/nmslib/issues/478), maybe you will prefer my [NSW implementation](https://github.com/IUCVLab/proximity-cut/blob/master/modules/nsw/nsw.py) ([usage](https://github.com/IUCVLab/proximity-cut/blob/master/tests/nsw-visualization.ipynb), [custom HVDM metric](https://github.com/IUCVLab/proximity-cut/blob/master/modules/tools/hvdm.py), custom metric application -- pass `dist=func` into constructor). Or maybe you will find a data structure which supports this from the box :)\n",
    "4. Run some tests!"
   ]
  },
  {
   "cell_type": "markdown",
   "id": "fe9e6cc4-fe61-4a9c-86b4-b47a69e5f9c3",
   "metadata": {
    "id": "fe9e6cc4-fe61-4a9c-86b4-b47a69e5f9c3"
   },
   "source": [
    "## 5.1. Sample some data"
   ]
  },
  {
   "cell_type": "code",
   "execution_count": 133,
   "id": "3eb339e5-5d9c-4171-a5c6-e713e85790c2",
   "metadata": {
    "id": "3eb339e5-5d9c-4171-a5c6-e713e85790c2"
   },
   "outputs": [
    {
     "name": "stderr",
     "output_type": "stream",
     "text": [
      "100%|███████████████████████████████████| 50000/50000 [00:07<00:00, 6464.60it/s]\n"
     ]
    }
   ],
   "source": [
    "# 50K POIs in NYC\n",
    "NYC = dataset_get(get_in_town_cached('new york', spaidx, GEO))[:50000]\n",
    "\n",
    "# Create embeddings from the POI addresses.\n",
    "# The first two dimensions are the POI coordinates (list)\n",
    "embeddings = np.zeros((50000, 302))\n",
    "\n",
    "for i, item in enumerate(tqdm(NYC)):\n",
    "    emb = embed(item[1].split('.')[0], nlp)\n",
    "    if emb is not None:\n",
    "        embeddings[i, :] = [*item[0], *emb]"
   ]
  },
  {
   "cell_type": "markdown",
   "id": "8bf345ae-246c-4411-a1bb-e473119f8e74",
   "metadata": {
    "id": "8bf345ae-246c-4411-a1bb-e473119f8e74"
   },
   "source": [
    "## 5.2. [M][10 points] Metric which accepts 2 dataset items and returns metric"
   ]
  },
  {
   "cell_type": "code",
   "execution_count": 134,
   "id": "af40ce9f-1ff3-467d-8037-0e264477b2b4",
   "metadata": {
    "id": "af40ce9f-1ff3-467d-8037-0e264477b2b4"
   },
   "outputs": [],
   "source": [
    "# The metric combines euclidean distance for positions\n",
    "# and cosine similarity for name embedding.\n",
    "\n",
    "# a, b are vectors (302, )\n",
    "# the first 2 dimensions: POI location\n",
    "# the rest 300 dimension: POI name embedding\n",
    "\n",
    "class CustomDistance:\n",
    "    def distance(self, a, b):\n",
    "        eucl_dist = np.linalg.norm(a[:2] - b[:2])\n",
    "        cos_sim = np.dot(a[2:], b[2:]) # no need to divide as vectors are normalized\n",
    "        return eucl_dist * cos_sim "
   ]
  },
  {
   "cell_type": "markdown",
   "id": "dd7e9391-4a55-4908-9d95-d9fa3db25949",
   "metadata": {
    "id": "dd7e9391-4a55-4908-9d95-d9fa3db25949"
   },
   "source": [
    "## 5.3. [M][25 points] Build an index"
   ]
  },
  {
   "cell_type": "code",
   "execution_count": 135,
   "id": "1797a429-a9f6-45f5-924e-b6e068d44639",
   "metadata": {
    "id": "1797a429-a9f6-45f5-924e-b6e068d44639"
   },
   "outputs": [
    {
     "name": "stderr",
     "output_type": "stream",
     "text": [
      "100%|███████████████████████████████████| 50000/50000 [00:36<00:00, 1365.52it/s]\n"
     ]
    }
   ],
   "source": [
    "from nearpy import Engine\n",
    "from nearpy.hashes import RandomBinaryProjections\n",
    "from nearpy.filters import NearestFilter\n",
    "\n",
    "def build_index():\n",
    "    engine = Engine(302,\n",
    "                    vector_filters=[NearestFilter(20)],\n",
    "                    lshashes=[RandomBinaryProjections('default', 1000)],\n",
    "                    distance=CustomDistance()\n",
    "                   )\n",
    "    \n",
    "    for i, vec in enumerate(tqdm(embeddings)):\n",
    "        engine.store_vector(vec, i)\n",
    "    return engine\n",
    "\n",
    "custom_idx = build_index()"
   ]
  },
  {
   "cell_type": "markdown",
   "id": "73b76a8e-48ec-4645-ab57-d6c0bf7933e6",
   "metadata": {
    "id": "73b76a8e-48ec-4645-ab57-d6c0bf7933e6"
   },
   "source": [
    "## 5.4. [M][10 points] write and pass some test"
   ]
  },
  {
   "cell_type": "code",
   "execution_count": 136,
   "id": "c9bc74f6-1370-4878-8db7-e8a07f0992f5",
   "metadata": {
    "id": "c9bc74f6-1370-4878-8db7-e8a07f0992f5"
   },
   "outputs": [],
   "source": [
    "def find(town, query, index):\n",
    "    NE, SW = get_town_range_coordinates_cached(town)\n",
    "    town_coords = [(SW[0] + NE[0]) / 2, (SW[1] + NE[1]) / 2] \n",
    "    emb = embed(query, nlp)\n",
    "    query_locations = [ i for _, i, _ in index.neighbours(np.array([*town_coords, *emb])) ]\n",
    "    return [NYC[q] for q in query_locations]"
   ]
  },
  {
   "cell_type": "code",
   "execution_count": 138,
   "id": "7c223cd6",
   "metadata": {
    "id": "2b01be15-8b5f-41b7-8401-e003ce2e53a2"
   },
   "outputs": [
    {
     "data": {
      "text/plain": [
       "[([-73.957841, 40.731428],\n",
       "  'Brooklyn Label, Coffee & Tea, . US, Brooklyn, 180 Franklin St'),\n",
       " ([-73.981759, 40.746383],\n",
       "  'Lavazza Premium Coffee, Coffee & Tea, . US, New York, 3 Park Avenue')]"
      ]
     },
     "execution_count": 138,
     "metadata": {},
     "output_type": "execute_result"
    }
   ],
   "source": [
    "find(\"Manhattan\", \"coffee\", custom_idx)"
   ]
  }
 ],
 "metadata": {
  "colab": {
   "collapsed_sections": [
    "46ae0ac1-d762-4dcc-bde5-1a67e84f884b",
    "_zQV8KgMaFsk",
    "c85991d1-b730-4405-a33f-8812e562145a",
    "e03524ce-5a25-4e36-9363-186ea3579271"
   ],
   "name": "Indices.ipynb",
   "provenance": [],
   "toc_visible": true
  },
  "kernelspec": {
   "display_name": "Python 3 (ipykernel)",
   "language": "python",
   "name": "python3"
  },
  "language_info": {
   "codemirror_mode": {
    "name": "ipython",
    "version": 3
   },
   "file_extension": ".py",
   "mimetype": "text/x-python",
   "name": "python",
   "nbconvert_exporter": "python",
   "pygments_lexer": "ipython3",
   "version": "3.8.10"
  }
 },
 "nbformat": 4,
 "nbformat_minor": 5
}
