{
 "cells": [
  {
   "cell_type": "markdown",
   "metadata": {},
   "source": [
    "# Sugges_\n",
    "\n",
    "One of the strategies to improve user experience is to provide user with hints, or, otherwise, to autocomplete his queries. Let's consider suggest.\n",
    "\n",
    "Today we will practice generating suggestions using [Trie](https://en.wikipedia.org/wiki/Trie) data structure (prefix tree), see the example below.\n",
    "\n",
    "Plan of your homework:\n",
    "\n",
    "1. Build Trie based on real search query data, provided by AOL company;\n",
    "2. Generate suggestion based on a trie;\n",
    "3. Measure suggestion speed;\n",
    "4. [M] Add spellcheck to suggest.\n",
    "\n",
    "\n",
    "![image](https://www.ritambhara.in/wp-content/uploads/2017/05/Screen-Shot-2017-05-01-at-4.01.38-PM.png)"
   ]
  },
  {
   "cell_type": "code",
   "execution_count": 1,
   "metadata": {},
   "outputs": [
    {
     "name": "stdout",
     "output_type": "stream",
     "text": [
      "Requirement already satisfied: pygtrie in /home/ahmed/.local/lib/python3.8/site-packages (2.4.2)\n",
      "Requirement already satisfied: pandas in /home/ahmed/.local/lib/python3.8/site-packages (1.4.1)\n",
      "Requirement already satisfied: python-dateutil>=2.8.1 in /home/ahmed/.local/lib/python3.8/site-packages (from pandas) (2.8.2)\n",
      "Requirement already satisfied: pytz>=2020.1 in /home/ahmed/.local/lib/python3.8/site-packages (from pandas) (2022.1)\n",
      "Requirement already satisfied: numpy>=1.18.5; platform_machine != \"aarch64\" and platform_machine != \"arm64\" and python_version < \"3.10\" in /home/ahmed/.local/lib/python3.8/site-packages (from pandas) (1.22.3)\n",
      "Requirement already satisfied: six>=1.5 in /usr/lib/python3/dist-packages (from python-dateutil>=2.8.1->pandas) (1.14.0)\n",
      "Requirement already satisfied: numpy in /home/ahmed/.local/lib/python3.8/site-packages (1.22.3)\n",
      "Requirement already satisfied: matplotlib in /usr/lib/python3/dist-packages (3.1.2)\n",
      "Requirement already satisfied: nltk in /home/ahmed/.local/lib/python3.8/site-packages (3.7)\n",
      "Requirement already satisfied: joblib in /home/ahmed/.local/lib/python3.8/site-packages (from nltk) (1.1.0)\n",
      "Requirement already satisfied: tqdm in /home/ahmed/.local/lib/python3.8/site-packages (from nltk) (4.63.1)\n",
      "Requirement already satisfied: click in /home/ahmed/.local/lib/python3.8/site-packages (from nltk) (8.0.4)\n",
      "Requirement already satisfied: regex>=2021.8.3 in /home/ahmed/.local/lib/python3.8/site-packages (from nltk) (2022.3.15)\n",
      "Requirement already satisfied: tqdm in /home/ahmed/.local/lib/python3.8/site-packages (4.63.1)\n",
      "Requirement already satisfied: pyspellchecker in /home/ahmed/.local/lib/python3.8/site-packages (0.6.3)\n"
     ]
    }
   ],
   "source": [
    "!pip install pygtrie\n",
    "!pip install pandas\n",
    "!pip install numpy\n",
    "!pip install matplotlib\n",
    "!pip install nltk\n",
    "!pip install tqdm\n",
    "!pip install pyspellchecker"
   ]
  },
  {
   "cell_type": "code",
   "execution_count": 2,
   "metadata": {},
   "outputs": [],
   "source": [
    "import string\n",
    "import time\n",
    "from typing import List\n",
    "import pygtrie\n",
    "import pandas as pd\n",
    "import numpy as np\n",
    "import matplotlib.pyplot as plt\n",
    "from tqdm import tqdm\n",
    "from spellchecker import SpellChecker\n",
    "import nltk"
   ]
  },
  {
   "cell_type": "code",
   "execution_count": 3,
   "metadata": {},
   "outputs": [
    {
     "name": "stderr",
     "output_type": "stream",
     "text": [
      "[nltk_data] Downloading package punkt to /home/ahmed/nltk_data...\n",
      "[nltk_data]   Package punkt is already up-to-date!\n",
      "[nltk_data] Downloading package stopwords to /home/ahmed/nltk_data...\n",
      "[nltk_data]   Package stopwords is already up-to-date!\n"
     ]
    },
    {
     "data": {
      "text/plain": [
       "True"
      ]
     },
     "execution_count": 3,
     "metadata": {},
     "output_type": "execute_result"
    }
   ],
   "source": [
    "nltk.download('punkt')\n",
    "nltk.download('stopwords')"
   ]
  },
  {
   "cell_type": "code",
   "execution_count": 4,
   "metadata": {},
   "outputs": [],
   "source": [
    "from nltk.corpus import stopwords\n",
    "from nltk.tokenize import word_tokenize "
   ]
  },
  {
   "cell_type": "markdown",
   "metadata": {},
   "source": [
    "## 0. Install Trie data structure support\n",
    "\n",
    "You are free to use any library implementation of Trie, as well as the one we suggest (read the docs before asking any questions!): https://github.com/google/pygtrie"
   ]
  },
  {
   "cell_type": "markdown",
   "metadata": {},
   "source": [
    "### 0.1. Check it works and understand the example"
   ]
  },
  {
   "cell_type": "code",
   "execution_count": 5,
   "metadata": {},
   "outputs": [
    {
     "name": "stdout",
     "output_type": "stream",
     "text": [
      "CharTrie(this is 1: A, this is 2: B, that is 3: C)\n",
      "Node = False\n",
      "Subtree = True\n",
      "this is 1 ~ A\n",
      "this is 2 ~ B\n"
     ]
    }
   ],
   "source": [
    "t = pygtrie.CharTrie()\n",
    "\n",
    "# trie can be considered as a form of organizing a set of map\n",
    "t[\"this is 1\"] = \"A\"\n",
    "t[\"this is 2\"] = \"B\"\n",
    "t[\"that is 3\"] = \"C\"\n",
    "\n",
    "print(t)\n",
    "\n",
    "# \"this\" string is present in a set\n",
    "n = t.has_node('this') == pygtrie.Trie.HAS_VALUE\n",
    "# \"this\" prefix is present in a set\n",
    "s = t.has_node('this') == pygtrie.Trie.HAS_SUBTRIE\n",
    "\n",
    "print(f\"Node = {n}\\nSubtree = {s}\")\n",
    "\n",
    "# iterate a subtree\n",
    "for key, val in t.iteritems(\"this\"):\n",
    "    print(key, '~', val)"
   ]
  },
  {
   "cell_type": "markdown",
   "metadata": {},
   "source": [
    "## 1. Build a trie upon a dataset\n",
    "\n",
    "### 1.1. [5] Read the dataset\n",
    "\n",
    "Download the [dataset](https://github.com/IUCVLab/information-retrieval/tree/main/datasets/aol) (we provide only the first part of the original data for simplicity (~3.5 mln queries)).\n",
    "\n",
    "Explore the data, see readme file. Load the dataset. Pass the assert."
   ]
  },
  {
   "cell_type": "code",
   "execution_count": 6,
   "metadata": {},
   "outputs": [],
   "source": [
    "aol_data = pd.read_csv('aol/user-ct-test-collection-01.txt', sep='\\t')\n",
    "\n",
    "assert aol_data.shape[0] == 3558411, \"Dataset size does not match\""
   ]
  },
  {
   "cell_type": "code",
   "execution_count": 7,
   "metadata": {},
   "outputs": [
    {
     "data": {
      "text/html": [
       "<div>\n",
       "<style scoped>\n",
       "    .dataframe tbody tr th:only-of-type {\n",
       "        vertical-align: middle;\n",
       "    }\n",
       "\n",
       "    .dataframe tbody tr th {\n",
       "        vertical-align: top;\n",
       "    }\n",
       "\n",
       "    .dataframe thead th {\n",
       "        text-align: right;\n",
       "    }\n",
       "</style>\n",
       "<table border=\"1\" class=\"dataframe\">\n",
       "  <thead>\n",
       "    <tr style=\"text-align: right;\">\n",
       "      <th></th>\n",
       "      <th>AnonID</th>\n",
       "      <th>Query</th>\n",
       "      <th>QueryTime</th>\n",
       "      <th>ItemRank</th>\n",
       "      <th>ClickURL</th>\n",
       "    </tr>\n",
       "  </thead>\n",
       "  <tbody>\n",
       "    <tr>\n",
       "      <th>0</th>\n",
       "      <td>142</td>\n",
       "      <td>rentdirect.com</td>\n",
       "      <td>2006-03-01 07:17:12</td>\n",
       "      <td>NaN</td>\n",
       "      <td>NaN</td>\n",
       "    </tr>\n",
       "    <tr>\n",
       "      <th>1</th>\n",
       "      <td>142</td>\n",
       "      <td>www.prescriptionfortime.com</td>\n",
       "      <td>2006-03-12 12:31:06</td>\n",
       "      <td>NaN</td>\n",
       "      <td>NaN</td>\n",
       "    </tr>\n",
       "    <tr>\n",
       "      <th>2</th>\n",
       "      <td>142</td>\n",
       "      <td>staple.com</td>\n",
       "      <td>2006-03-17 21:19:29</td>\n",
       "      <td>NaN</td>\n",
       "      <td>NaN</td>\n",
       "    </tr>\n",
       "    <tr>\n",
       "      <th>3</th>\n",
       "      <td>142</td>\n",
       "      <td>staple.com</td>\n",
       "      <td>2006-03-17 21:19:45</td>\n",
       "      <td>NaN</td>\n",
       "      <td>NaN</td>\n",
       "    </tr>\n",
       "    <tr>\n",
       "      <th>4</th>\n",
       "      <td>142</td>\n",
       "      <td>www.newyorklawyersite.com</td>\n",
       "      <td>2006-03-18 08:02:58</td>\n",
       "      <td>NaN</td>\n",
       "      <td>NaN</td>\n",
       "    </tr>\n",
       "    <tr>\n",
       "      <th>...</th>\n",
       "      <td>...</td>\n",
       "      <td>...</td>\n",
       "      <td>...</td>\n",
       "      <td>...</td>\n",
       "      <td>...</td>\n",
       "    </tr>\n",
       "    <tr>\n",
       "      <th>3558406</th>\n",
       "      <td>24968114</td>\n",
       "      <td>-</td>\n",
       "      <td>2006-05-31 01:04:20</td>\n",
       "      <td>NaN</td>\n",
       "      <td>NaN</td>\n",
       "    </tr>\n",
       "    <tr>\n",
       "      <th>3558407</th>\n",
       "      <td>24969251</td>\n",
       "      <td>sp.trafficmarketplace.com</td>\n",
       "      <td>2006-05-31 15:51:23</td>\n",
       "      <td>NaN</td>\n",
       "      <td>NaN</td>\n",
       "    </tr>\n",
       "    <tr>\n",
       "      <th>3558408</th>\n",
       "      <td>24969374</td>\n",
       "      <td>orioles tickets</td>\n",
       "      <td>2006-05-31 12:24:51</td>\n",
       "      <td>NaN</td>\n",
       "      <td>NaN</td>\n",
       "    </tr>\n",
       "    <tr>\n",
       "      <th>3558409</th>\n",
       "      <td>24969374</td>\n",
       "      <td>orioles tickets</td>\n",
       "      <td>2006-05-31 12:31:57</td>\n",
       "      <td>2.0</td>\n",
       "      <td>http://www.greatseats.com</td>\n",
       "    </tr>\n",
       "    <tr>\n",
       "      <th>3558410</th>\n",
       "      <td>24969374</td>\n",
       "      <td>baltimore marinas</td>\n",
       "      <td>2006-05-31 12:43:40</td>\n",
       "      <td>NaN</td>\n",
       "      <td>NaN</td>\n",
       "    </tr>\n",
       "  </tbody>\n",
       "</table>\n",
       "<p>3558411 rows × 5 columns</p>\n",
       "</div>"
      ],
      "text/plain": [
       "           AnonID                        Query            QueryTime  ItemRank  \\\n",
       "0             142               rentdirect.com  2006-03-01 07:17:12       NaN   \n",
       "1             142  www.prescriptionfortime.com  2006-03-12 12:31:06       NaN   \n",
       "2             142                   staple.com  2006-03-17 21:19:29       NaN   \n",
       "3             142                   staple.com  2006-03-17 21:19:45       NaN   \n",
       "4             142    www.newyorklawyersite.com  2006-03-18 08:02:58       NaN   \n",
       "...           ...                          ...                  ...       ...   \n",
       "3558406  24968114                            -  2006-05-31 01:04:20       NaN   \n",
       "3558407  24969251    sp.trafficmarketplace.com  2006-05-31 15:51:23       NaN   \n",
       "3558408  24969374              orioles tickets  2006-05-31 12:24:51       NaN   \n",
       "3558409  24969374              orioles tickets  2006-05-31 12:31:57       2.0   \n",
       "3558410  24969374            baltimore marinas  2006-05-31 12:43:40       NaN   \n",
       "\n",
       "                          ClickURL  \n",
       "0                              NaN  \n",
       "1                              NaN  \n",
       "2                              NaN  \n",
       "3                              NaN  \n",
       "4                              NaN  \n",
       "...                            ...  \n",
       "3558406                        NaN  \n",
       "3558407                        NaN  \n",
       "3558408                        NaN  \n",
       "3558409  http://www.greatseats.com  \n",
       "3558410                        NaN  \n",
       "\n",
       "[3558411 rows x 5 columns]"
      ]
     },
     "execution_count": 7,
     "metadata": {},
     "output_type": "execute_result"
    }
   ],
   "source": [
    "aol_data"
   ]
  },
  {
   "cell_type": "code",
   "execution_count": 8,
   "metadata": {},
   "outputs": [
    {
     "data": {
      "text/plain": [
       "AnonID         int64\n",
       "Query         object\n",
       "QueryTime     object\n",
       "ItemRank     float64\n",
       "ClickURL      object\n",
       "dtype: object"
      ]
     },
     "execution_count": 8,
     "metadata": {},
     "output_type": "execute_result"
    }
   ],
   "source": [
    "aol_data.dtypes"
   ]
  },
  {
   "cell_type": "code",
   "execution_count": 9,
   "metadata": {},
   "outputs": [],
   "source": [
    "aol_data = aol_data.dropna(subset=['Query'])    # drop rows with null queries\n",
    "aol_data = aol_data.drop(\n",
    "    aol_data[aol_data.Query == '-'].index)      # drop rows with '-' queries\n",
    "aol_data = aol_data.astype({'Query': 'string'}) # queries should be strings"
   ]
  },
  {
   "cell_type": "markdown",
   "metadata": {},
   "source": [
    "### 1.2. [10] Build a Trie\n",
    "\n",
    "We want a suggest function to be **non-sensitive to stop words** because we don't want to upset the users if they confuses/omits prepositions. Consider *\"public events in Innopolis\"* vs *\"public events at Innopolis\"* or *\"public events Innopolis\"* - they all mean the same.\n",
    "\n",
    "Build a Trie based on the dataset, **storing query statistics such as query _frequency_, urls and ranks in the nodes**. Some queries may have no associated urls, others may have multiple ranked urls. Think of the way to store this information.\n",
    "\n",
    "Pass the asserts."
   ]
  },
  {
   "cell_type": "code",
   "execution_count": 10,
   "metadata": {},
   "outputs": [
    {
     "name": "stderr",
     "output_type": "stream",
     "text": [
      "100%|██████████████████████████████| 3459247/3459247 [02:01<00:00, 28404.99it/s]\n"
     ]
    }
   ],
   "source": [
    "sw = stopwords.words('english')\n",
    "\n",
    "# trie[key] = { query: TrieNode(freq=X, urls=[(rank, url)])}\n",
    "class TrieNode():\n",
    "    def __init__(self):\n",
    "        self.freq = 1\n",
    "        self.urls = []\n",
    "    def __repr__(self):\n",
    "        return f'TrieNode(freq={self.freq}, urls={self.urls})'\n",
    "\n",
    "def build_trie(dataset):\n",
    "    trie = pygtrie.CharTrie()\n",
    "    for row in tqdm(dataset.itertuples(), total=dataset.shape[0]):\n",
    "        query, rank, url = row.Query, row.ItemRank, row.ClickURL\n",
    "        key = ' '.join([w for w in query.split() if (not w in sw)])\n",
    "        if not key:\n",
    "            continue\n",
    "\n",
    "        if trie.has_key(key):\n",
    "            if trie[key].get(query):\n",
    "                trie[key][query].freq += 1\n",
    "            else:\n",
    "                trie[key][query] = TrieNode()\n",
    "        else:\n",
    "            trie[key] = {query: TrieNode()}\n",
    "\n",
    "        if not pd.isnull(url):\n",
    "            trie[key][query].urls.append((rank, url))\n",
    "    return trie\n",
    "\n",
    "aol_trie = build_trie(aol_data)"
   ]
  },
  {
   "cell_type": "code",
   "execution_count": 11,
   "metadata": {},
   "outputs": [
    {
     "name": "stdout",
     "output_type": "stream",
     "text": [
      "sample question surveys ~ {'sample question surveys': TrieNode(freq=5, urls=[(7.0, 'http://www.surveyconnect.com'), (4.0, 'http://www.custominsight.com'), (10.0, 'http://www.askemployees.com'), (1.0, 'http://www.lg-employers.gov.uk')])}\n",
      "sample questions immigration interview ~ {'sample questions for immigration interview': TrieNode(freq=1, urls=[])}\n",
      "sample questions interview ~ {'sample questions for interview': TrieNode(freq=1, urls=[(1.0, 'http://www.quintcareers.com')])}\n",
      "sample questions family interview ~ {'sample questions for family interview': TrieNode(freq=3, urls=[(2.0, 'http://www.grandparents-day.com'), (5.0, 'http://www.quintcareers.com'), (3.0, 'http://jobsearchtech.about.com')])}\n",
      "sample questions sociology race ethnicity ~ {'sample questions sociology race and ethnicity': TrieNode(freq=1, urls=[])}\n",
      "sample questions biology ~ {'sample questions biology': TrieNode(freq=2, urls=[(3.0, 'http://www.utexas.edu'), (6.0, 'http://www.troy.k12.ny.us')])}\n",
      "sample questions us citizenship test ~ {'sample questions for us citizenship test': TrieNode(freq=1, urls=[(1.0, 'http://uscis.gov')])}\n",
      "sample questionarie teaching evaluation ~ {'sample questionarie teaching evaluation': TrieNode(freq=1, urls=[])}\n",
      "sample questionnaire teaching evaluation ~ {'sample questionnaire teaching evaluation': TrieNode(freq=5, urls=[(1.0, 'http://www.surveyconsole.com'), (2.0, 'http://www.usask.ca'), (6.0, 'http://teaching.berkeley.edu'), (9.0, 'http://www.flinders.edu.au'), (10.0, 'http://oregonstate.edu')])}\n",
      "sample questionnaire clinical research coordinators certification ~ {'sample questionnaire for clinical research coordinators certification': TrieNode(freq=1, urls=[(9.0, 'http://www.pharmatech.com')])}\n"
     ]
    }
   ],
   "source": [
    "bag = []\n",
    "for key, val in aol_trie.iteritems(\"sample q\"):\n",
    "    print(key, '~', val)\n",
    "    \n",
    "    for node in val.values():\n",
    "        bag += [url[1] for url in node.urls]\n",
    "    \n",
    "    assert \"sample question\" in key, \"All examples have `sample question` substring\"\n",
    "    assert key[:len(\"sample question\")] == \"sample question\", \"All examples have `sample question` starting string\"\n",
    "\n",
    "for url in [\"http://www.surveyconnect.com\", \"http://www.custominsight.com\", \n",
    "            \"http://jobsearchtech.about.com\", \"http://www.troy.k12.ny.us\",\n",
    "            \"http://www.flinders.edu.au\", \"http://uscis.gov\"]:\n",
    "    assert url in bag, \"This url should be in a try\""
   ]
  },
  {
   "cell_type": "markdown",
   "metadata": {},
   "source": [
    "## 2. [15] Write a suggest function which is non-sensitive to stop words\n",
    "\n",
    "Suggest options for user query based on Trie you just built.\n",
    "Output results sorted by frequency, print query count for each suggestion. If there is an url available, print the url too. If multiple url-s are available, print the one with the highest rank (the less the better).\n",
    "\n",
    "Pass the asserts.\n",
    "\n",
    "Question for analysis: What is the empirical threshold for minimal prefix for suggest? Well, Google starts suggesting completions even when only 1 letter is written."
   ]
  },
  {
   "cell_type": "code",
   "execution_count": 12,
   "metadata": {},
   "outputs": [
    {
     "name": "stdout",
     "output_type": "stream",
     "text": [
      "Query: trie\n",
      "Results:\n"
     ]
    },
    {
     "data": {
      "text/html": [
       "<style type=\"text/css\">\n",
       "#T_231fa th {\n",
       "  text-align: left;\n",
       "}\n",
       "#T_231fa_row0_col0, #T_231fa_row0_col1, #T_231fa_row0_col2, #T_231fa_row1_col0, #T_231fa_row1_col1, #T_231fa_row1_col2, #T_231fa_row2_col0, #T_231fa_row2_col1, #T_231fa_row2_col2, #T_231fa_row3_col0, #T_231fa_row3_col1, #T_231fa_row3_col2, #T_231fa_row4_col0, #T_231fa_row4_col1, #T_231fa_row4_col2, #T_231fa_row5_col0, #T_231fa_row5_col1, #T_231fa_row5_col2, #T_231fa_row6_col0, #T_231fa_row6_col1, #T_231fa_row6_col2, #T_231fa_row7_col0, #T_231fa_row7_col1, #T_231fa_row7_col2, #T_231fa_row8_col0, #T_231fa_row8_col1, #T_231fa_row8_col2, #T_231fa_row9_col0, #T_231fa_row9_col1, #T_231fa_row9_col2, #T_231fa_row10_col0, #T_231fa_row10_col1, #T_231fa_row10_col2, #T_231fa_row11_col0, #T_231fa_row11_col1, #T_231fa_row11_col2, #T_231fa_row12_col0, #T_231fa_row12_col1, #T_231fa_row12_col2, #T_231fa_row13_col0, #T_231fa_row13_col1, #T_231fa_row13_col2, #T_231fa_row14_col0, #T_231fa_row14_col1, #T_231fa_row14_col2, #T_231fa_row15_col0, #T_231fa_row15_col1, #T_231fa_row15_col2 {\n",
       "  text-align: left;\n",
       "}\n",
       "</style>\n",
       "<table id=\"T_231fa\">\n",
       "  <thead>\n",
       "    <tr>\n",
       "      <th id=\"T_231fa_level0_col0\" class=\"col_heading level0 col0\" >Query</th>\n",
       "      <th id=\"T_231fa_level0_col1\" class=\"col_heading level0 col1\" >Count</th>\n",
       "      <th id=\"T_231fa_level0_col2\" class=\"col_heading level0 col2\" >Top URL</th>\n",
       "    </tr>\n",
       "  </thead>\n",
       "  <tbody>\n",
       "    <tr>\n",
       "      <td id=\"T_231fa_row0_col0\" class=\"data row0 col0\" >tried and true tattoo</td>\n",
       "      <td id=\"T_231fa_row0_col1\" class=\"data row0 col1\" >5</td>\n",
       "      <td id=\"T_231fa_row0_col2\" class=\"data row0 col2\" >http://www.tattoonow.com</td>\n",
       "    </tr>\n",
       "    <tr>\n",
       "      <td id=\"T_231fa_row1_col0\" class=\"data row1 col0\" >triest</td>\n",
       "      <td id=\"T_231fa_row1_col1\" class=\"data row1 col1\" >3</td>\n",
       "      <td id=\"T_231fa_row1_col2\" class=\"data row1 col2\" >nan</td>\n",
       "    </tr>\n",
       "    <tr>\n",
       "      <td id=\"T_231fa_row2_col0\" class=\"data row2 col0\" >triethanalomine</td>\n",
       "      <td id=\"T_231fa_row2_col1\" class=\"data row2 col1\" >3</td>\n",
       "      <td id=\"T_231fa_row2_col2\" class=\"data row2 col2\" >http://www.amazon.com</td>\n",
       "    </tr>\n",
       "    <tr>\n",
       "      <td id=\"T_231fa_row3_col0\" class=\"data row3 col0\" >tried and failed</td>\n",
       "      <td id=\"T_231fa_row3_col1\" class=\"data row3 col1\" >2</td>\n",
       "      <td id=\"T_231fa_row3_col2\" class=\"data row3 col2\" >nan</td>\n",
       "    </tr>\n",
       "    <tr>\n",
       "      <td id=\"T_231fa_row4_col0\" class=\"data row4 col0\" >when you tried and failed</td>\n",
       "      <td id=\"T_231fa_row4_col1\" class=\"data row4 col1\" >2</td>\n",
       "      <td id=\"T_231fa_row4_col2\" class=\"data row4 col2\" >nan</td>\n",
       "    </tr>\n",
       "    <tr>\n",
       "      <td id=\"T_231fa_row5_col0\" class=\"data row5 col0\" >tried and truechildren's consignment sale</td>\n",
       "      <td id=\"T_231fa_row5_col1\" class=\"data row5 col1\" >1</td>\n",
       "      <td id=\"T_231fa_row5_col2\" class=\"data row5 col2\" >nan</td>\n",
       "    </tr>\n",
       "    <tr>\n",
       "      <td id=\"T_231fa_row6_col0\" class=\"data row6 col0\" >i tried and the same thing happened. just the gray pinstripe background showed up without any pictures. i am on the road actually i'm in california and am accessing from a hotel. it might have something to do with security settings. i will try it a</td>\n",
       "      <td id=\"T_231fa_row6_col1\" class=\"data row6 col1\" >1</td>\n",
       "      <td id=\"T_231fa_row6_col2\" class=\"data row6 col2\" >nan</td>\n",
       "    </tr>\n",
       "    <tr>\n",
       "      <td id=\"T_231fa_row7_col0\" class=\"data row7 col0\" >i tried out the cycling class and the bike seat hurt my private area</td>\n",
       "      <td id=\"T_231fa_row7_col1\" class=\"data row7 col1\" >1</td>\n",
       "      <td id=\"T_231fa_row7_col2\" class=\"data row7 col2\" >http://www.bycycleinc.com</td>\n",
       "    </tr>\n",
       "    <tr>\n",
       "      <td id=\"T_231fa_row8_col0\" class=\"data row8 col0\" >i tried to be perfect but nothing was worth it lyrics</td>\n",
       "      <td id=\"T_231fa_row8_col1\" class=\"data row8 col1\" >1</td>\n",
       "      <td id=\"T_231fa_row8_col2\" class=\"data row8 col2\" >nan</td>\n",
       "    </tr>\n",
       "    <tr>\n",
       "      <td id=\"T_231fa_row9_col0\" class=\"data row9 col0\" >trier germany</td>\n",
       "      <td id=\"T_231fa_row9_col1\" class=\"data row9 col1\" >1</td>\n",
       "      <td id=\"T_231fa_row9_col2\" class=\"data row9 col2\" >http://www.trier.de</td>\n",
       "    </tr>\n",
       "    <tr>\n",
       "      <td id=\"T_231fa_row10_col0\" class=\"data row10 col0\" >trier germant where to stay</td>\n",
       "      <td id=\"T_231fa_row10_col1\" class=\"data row10 col1\" >1</td>\n",
       "      <td id=\"T_231fa_row10_col2\" class=\"data row10 col2\" >nan</td>\n",
       "    </tr>\n",
       "    <tr>\n",
       "      <td id=\"T_231fa_row11_col0\" class=\"data row11 col0\" >trier wine festivals</td>\n",
       "      <td id=\"T_231fa_row11_col1\" class=\"data row11 col1\" >1</td>\n",
       "      <td id=\"T_231fa_row11_col2\" class=\"data row11 col2\" >http://www.germanwineusa.org</td>\n",
       "    </tr>\n",
       "    <tr>\n",
       "      <td id=\"T_231fa_row12_col0\" class=\"data row12 col0\" >trieste</td>\n",
       "      <td id=\"T_231fa_row12_col1\" class=\"data row12 col1\" >1</td>\n",
       "      <td id=\"T_231fa_row12_col2\" class=\"data row12 col2\" >nan</td>\n",
       "    </tr>\n",
       "    <tr>\n",
       "      <td id=\"T_231fa_row13_col0\" class=\"data row13 col0\" >trieca</td>\n",
       "      <td id=\"T_231fa_row13_col1\" class=\"data row13 col1\" >1</td>\n",
       "      <td id=\"T_231fa_row13_col2\" class=\"data row13 col2\" >nan</td>\n",
       "    </tr>\n",
       "    <tr>\n",
       "      <td id=\"T_231fa_row14_col0\" class=\"data row14 col0\" >triewest</td>\n",
       "      <td id=\"T_231fa_row14_col1\" class=\"data row14 col1\" >1</td>\n",
       "      <td id=\"T_231fa_row14_col2\" class=\"data row14 col2\" >nan</td>\n",
       "    </tr>\n",
       "    <tr>\n",
       "      <td id=\"T_231fa_row15_col0\" class=\"data row15 col0\" >triethanolamine</td>\n",
       "      <td id=\"T_231fa_row15_col1\" class=\"data row15 col1\" >1</td>\n",
       "      <td id=\"T_231fa_row15_col2\" class=\"data row15 col2\" >http://www.dermaxime.com</td>\n",
       "    </tr>\n",
       "  </tbody>\n",
       "</table>\n"
      ],
      "text/plain": [
       "<pandas.io.formats.style.Styler at 0x7f86c6cc3ee0>"
      ]
     },
     "metadata": {},
     "output_type": "display_data"
    },
    {
     "name": "stdout",
     "output_type": "stream",
     "text": [
      "[('tried and true tattoo', 5, 'http://www.tattoonow.com'), ('triest', 3, nan), ('triethanalomine', 3, 'http://www.amazon.com'), ('tried and failed', 2, nan), ('when you tried and failed', 2, nan)]\n"
     ]
    }
   ],
   "source": [
    "# Displays results as pandas dataframe for IPython (jupyter, colab)\n",
    "def show_results(results):\n",
    "    try:\n",
    "        from IPython.display import display\n",
    "    except ImportError:\n",
    "        return\n",
    "    \n",
    "    df = pd.DataFrame(data=results, columns=['Query', 'Count', 'Top URL'])\n",
    "    df_styled = df.style.set_properties(**{'text-align': 'left'})\n",
    "    df_styled.hide(axis='index')\n",
    "    df_styled.set_table_styles([dict(selector='th', props=[('text-align', 'left')])])\n",
    "    display(df_styled)\n",
    "    \n",
    "# Suggests top_k completions for user query based on query frequencies from trie\n",
    "def complete_user_query(query: str, trie, top_k=5, display=False) -> List[str]:\n",
    "    query = query.lower()\n",
    "    query = query.translate(dict.fromkeys(string.punctuation))         \n",
    "    key = ' '.join([w for w in word_tokenize(query) if (not w in sw)])\n",
    "    \n",
    "    results = []\n",
    "    try:\n",
    "        for key, dic in trie.iteritems(key):\n",
    "            for query, node in dic.items():\n",
    "                url = max(node.urls, key=lambda x: x[0])[1] if node.urls else np.nan\n",
    "                results.append((query, node.freq, url))\n",
    "    except KeyError:\n",
    "        return []\n",
    "    \n",
    "    results = sorted(results, key=lambda x: -x[1])\n",
    "    if display:\n",
    "        show_results(results)\n",
    "    \n",
    "    return [q for q in results][:top_k]\n",
    "\n",
    "\n",
    "inp = \"trie\"\n",
    "print(\"Query:\", inp)\n",
    "print(\"Results:\")\n",
    "res = complete_user_query(inp, aol_trie, display=True)\n",
    "print(res)\n",
    "\n",
    "assert res[0][0] == \"tried and true tattoo\"\n",
    "assert res[1][0] == \"triest\" or res[1][0] == \"triethanalomine\"\n",
    "\n",
    "assert \"boys and girls club of conyers georgia\" \\\n",
    "            in complete_user_query(\"boys girls club conyers\", aol_trie, 10)[0], \"Should be here\""
   ]
  },
  {
   "cell_type": "markdown",
   "metadata": {},
   "source": [
    "## 3. Measure suggest speed ##\n",
    "\n",
    "### 3.1. [10] Full Trie test\n",
    "\n",
    "Check how fast your search is working. Consider changing your code if it takes too long on average.\n",
    "\n",
    "Sucess criterion:\n",
    "- there is an average and variance for **multiple runs** of the given bucket.\n",
    "- there is an average and variance for **multiple runs** of naive search in unindexed dataset."
   ]
  },
  {
   "cell_type": "code",
   "execution_count": 13,
   "metadata": {},
   "outputs": [],
   "source": [
    "# complete_user_query() but implemented without a trie (for comparison)\n",
    "def naive_suggest(query, dataset, top_k=5):\n",
    "    query = query.lower()\n",
    "    query = query.translate(dict.fromkeys(string.punctuation))         \n",
    "    key = ' '.join([w for w in word_tokenize(query) if (not w in sw)])\n",
    "    freq = {}\n",
    "    results, indexed_results = set(), []\n",
    "    \n",
    "    for item in dataset.itertuples():\n",
    "        query = item.Query\n",
    "        freq[query] = freq.get(query, 0) + 1\n",
    "        if query.startswith(key) or (' ' + key in query):\n",
    "            results.add(query)\n",
    "            \n",
    "    for result in results:\n",
    "        indexed_results.append((freq[result], result))\n",
    "        \n",
    "    indexed_results = sorted(indexed_results, key=lambda x: -x[0])\n",
    "    return [q[1] for q in indexed_results][:top_k]"
   ]
  },
  {
   "cell_type": "code",
   "execution_count": 21,
   "metadata": {},
   "outputs": [
    {
     "name": "stderr",
     "output_type": "stream",
     "text": [
      "100%|███████████████████████████████████████████| 11/11 [00:53<00:00,  4.83s/it]"
     ]
    },
    {
     "name": "stdout",
     "output_type": "stream",
     "text": [
      "Stats with trie\n",
      "Average: 0.011086095463145863 seconds\n",
      "Variance: 0.00021995286674572235 seconds\n",
      "\n",
      "Stats without trie\n",
      "Average: 4.82217415896329 seconds\n",
      "Variance: 0.06875775264961986 seconds\n"
     ]
    },
    {
     "name": "stderr",
     "output_type": "stream",
     "text": [
      "\n"
     ]
    }
   ],
   "source": [
    "inp_queries = [\"inf\", \"the best \", \"information retrieval\", \"sherlock hol\", \"carnegie mell\", \n",
    "               \"babies r\", \"new york\", \"googol\", \"inter\", \"USA sta\", \"Barbara \"]\n",
    "\n",
    "times_with_trie = []\n",
    "times_without_trie = []\n",
    "\n",
    "for inp in tqdm(inp_queries):\n",
    "    # print(f\"Query: {inp}\")\n",
    "    \n",
    "    start = time.time()\n",
    "    res = complete_user_query(inp, aol_trie)\n",
    "    end = time.time()\n",
    "    times_with_trie.append(end - start)\n",
    "    # print(f\"Result with trie: {res}\")\n",
    "    \n",
    "    start = time.time()\n",
    "    res = naive_suggest(inp, aol_data)\n",
    "    end = time.time()\n",
    "    times_without_trie.append(end - start)\n",
    "    # print(f\"Result without trie: {res}\\n\")\n",
    "    \n",
    "    \n",
    "print('Stats with trie')\n",
    "print(f'Average: {np.mean(times_with_trie)} seconds')\n",
    "print(f'Variance: {np.var(times_with_trie)} seconds')\n",
    "print()\n",
    "print('Stats without trie')\n",
    "print(f'Average: {np.mean(times_without_trie)} seconds')\n",
    "print(f'Variance: {np.var(times_without_trie)} seconds')"
   ]
  },
  {
   "cell_type": "markdown",
   "metadata": {},
   "source": [
    "### 3.2. [M][10] Assess how dataset size affect search time\n",
    "\n",
    "Study the speed of the trie data structure in $\\frac{1}{10}, \\frac{1}{4}, \\frac{1}{2}$, and full dataset. \n",
    "- Sample the data at random.\n",
    "- Plot the graph which shows how search time changes with dataset size.\n",
    "- Compare aganist bruteforce."
   ]
  },
  {
   "cell_type": "code",
   "execution_count": 22,
   "metadata": {
    "scrolled": true
   },
   "outputs": [
    {
     "name": "stderr",
     "output_type": "stream",
     "text": [
      "100%|████████████████████████████████| 345925/345925 [00:08<00:00, 38849.01it/s]\n",
      "100%|███████████████████████████████████████████| 11/11 [00:05<00:00,  1.83it/s]\n",
      "100%|████████████████████████████████| 864812/864812 [00:52<00:00, 16533.40it/s]\n",
      "100%|███████████████████████████████████████████| 11/11 [00:15<00:00,  1.41s/it]\n",
      "100%|██████████████████████████████| 1729624/1729624 [01:16<00:00, 22496.39it/s]\n",
      "100%|███████████████████████████████████████████| 11/11 [00:31<00:00,  2.88s/it]\n",
      "100%|██████████████████████████████| 3459247/3459247 [02:44<00:00, 21052.93it/s]\n",
      "100%|███████████████████████████████████████████| 11/11 [01:08<00:00,  6.22s/it]\n"
     ]
    }
   ],
   "source": [
    "fracs = [0.1, 0.25, 0.5, 1]\n",
    "x = ['1/10', '1/4', '1/2', '1']\n",
    "y1, y2 = [], []\n",
    "\n",
    "for frac in fracs:\n",
    "    sample = aol_data.sample(frac=frac, axis=0, random_state=0)\n",
    "    trie = build_trie(sample)\n",
    "    \n",
    "    times1, times2 = [], []\n",
    "    for inp in tqdm(inp_queries):\n",
    "        start = time.time()\n",
    "        res = complete_user_query(inp, trie)\n",
    "        end = time.time()\n",
    "        times1.append(end - start)\n",
    "\n",
    "        start = time.time()\n",
    "        res = naive_suggest(inp, sample)\n",
    "        end = time.time()\n",
    "        times2.append(end - start)\n",
    "    \n",
    "    y1.append(np.mean(times1))\n",
    "    y2.append(np.mean(times2))"
   ]
  },
  {
   "cell_type": "code",
   "execution_count": 23,
   "metadata": {},
   "outputs": [
    {
     "data": {
      "text/plain": [
       "164"
      ]
     },
     "execution_count": 23,
     "metadata": {},
     "output_type": "execute_result"
    }
   ],
   "source": [
    "# To free memory\n",
    "del sample\n",
    "del trie\n",
    "import gc\n",
    "gc.collect()"
   ]
  },
  {
   "cell_type": "code",
   "execution_count": 24,
   "metadata": {},
   "outputs": [
    {
     "data": {
      "image/png": "[encoded data removed]",
      "text/plain": [
       "<Figure size 720x360 with 2 Axes>"
      ]
     },
     "metadata": {
      "needs_background": "light"
     },
     "output_type": "display_data"
    }
   ],
   "source": [
    "plt.figure(figsize=(10, 5))\n",
    "\n",
    "plt.subplot(1, 2, 1)\n",
    "plt.plot(x, y1)\n",
    "plt.xlabel('sample size / dataset size')\n",
    "plt.ylabel('avg. search time with trie (s)')\n",
    "plt.grid()\n",
    "\n",
    "plt.subplot(1, 2, 2)\n",
    "plt.plot(x, y2)\n",
    "plt.xlabel('sample size / dataset size')\n",
    "plt.ylabel('avg. search time without trie (s)')\n",
    "plt.grid()\n",
    "\n",
    "plt.show()"
   ]
  },
  {
   "cell_type": "markdown",
   "metadata": {},
   "source": [
    "## 4. [10] Add spellchecking to your suggest\n",
    "\n",
    "Try to make your search results as close as possible. Compare top-5 results of each query with top-5 results for corrected.\n",
    "\n",
    "You can use use [pyspellchecker](https://pypi.org/project/pyspellchecker/) `candidates()` call, or use any other spellchecker implementation."
   ]
  },
  {
   "cell_type": "code",
   "execution_count": 18,
   "metadata": {},
   "outputs": [],
   "source": [
    "def complete_user_query_with_spellchecker(query, trie, top_k=5) -> List[str]:\n",
    "    checker = SpellChecker()\n",
    "    query = query.lower()\n",
    "    query = query.translate(dict.fromkeys(string.punctuation))\n",
    "    words = word_tokenize(query)\n",
    "    results = []\n",
    "    for i in range(len(words)):\n",
    "        for correction in checker.candidates(words[i]):\n",
    "            if words[i] == correction: # word is already correct\n",
    "                continue\n",
    "            words[i] = correction  # try that correction\n",
    "            res = complete_user_query(' '.join(words), trie)\n",
    "            if res:\n",
    "                results.append((res[0][1], res))\n",
    "    \n",
    "    # The result with max frequency of first item is the best correction.\n",
    "    # If no corrections were applied, call the original complete_user_query\n",
    "    results = sorted(results, key=lambda x: -x[0])\n",
    "    return results[0][1] if results else complete_user_query(query, trie)"
   ]
  },
  {
   "cell_type": "code",
   "execution_count": 19,
   "metadata": {},
   "outputs": [],
   "source": [
    "inp_queries = [\"inormation retrieval\", \"shelrock hol\", \"carnagie mell\", \"babis r\", \"Barrbara \"]\n",
    "inp_queries_corrected = [\"information retrieval\", \"sherlock hol\", \"carnegie mell\", \"babies r\", \"Barbara \"]\n",
    "\n",
    "for q, qc in zip(inp_queries, inp_queries_corrected):\n",
    "    assert  complete_user_query(qc, aol_trie, 5) == \\\n",
    "            complete_user_query_with_spellchecker(q, aol_trie, 5), \"Assert {} and {} give different results\".format(q, qc)"
   ]
  }
 ],
 "metadata": {
  "kernelspec": {
   "display_name": "Python 3 (ipykernel)",
   "language": "python",
   "name": "python3"
  },
  "language_info": {
   "codemirror_mode": {
    "name": "ipython",
    "version": 3
   },
   "file_extension": ".py",
   "mimetype": "text/x-python",
   "name": "python",
   "nbconvert_exporter": "python",
   "pygments_lexer": "ipython3",
   "version": "3.8.10"
  }
 },
 "nbformat": 4,
 "nbformat_minor": 4
}