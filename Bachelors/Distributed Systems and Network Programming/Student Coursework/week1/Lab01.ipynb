{
 "cells": [
  {
   "cell_type": "markdown",
   "metadata": {},
   "source": [
    "# Lab01: Assignment\n",
    "In this assignment you're required to find whether the given numbers are prime or not using sequential and parallel processing and then compare the performance of both\n",
    "\n",
    "## 1. Sequential processing"
   ]
  },
  {
   "cell_type": "code",
   "execution_count": 1,
   "metadata": {},
   "outputs": [],
   "source": [
    "from time import time\n",
    "from multiprocessing import Process, Queue, current_process\n",
    "from queue import Empty # exception to break from loop when the get(block=False) called on empty queue "
   ]
  },
  {
   "cell_type": "code",
   "execution_count": 2,
   "metadata": {},
   "outputs": [],
   "source": [
    "numbers = [15492781, 15492787, 15492803, \n",
    "           15492811, 15492810, 15492833, \n",
    "           15492859, 15502547, 15520301, 15527509]"
   ]
  },
  {
   "cell_type": "code",
   "execution_count": 3,
   "metadata": {},
   "outputs": [
    {
     "name": "stdout",
     "output_type": "stream",
     "text": [
      "MainProcess is the process that checked primeness of 15492781\n",
      "15492781 True\n",
      "MainProcess is the process that checked primeness of 15492787\n",
      "15492787 True\n",
      "MainProcess is the process that checked primeness of 15492803\n",
      "15492803 True\n",
      "MainProcess is the process that checked primeness of 15492811\n",
      "15492811 True\n",
      "MainProcess is the process that checked primeness of 15492810\n",
      "15492810 False\n",
      "MainProcess is the process that checked primeness of 15492833\n",
      "15492833 True\n",
      "MainProcess is the process that checked primeness of 15492859\n",
      "15492859 True\n",
      "MainProcess is the process that checked primeness of 15502547\n",
      "15502547 True\n",
      "MainProcess is the process that checked primeness of 15520301\n",
      "15520301 True\n",
      "MainProcess is the process that checked primeness of 15527509\n",
      "15527509 True\n",
      "total time taken =  6.812518119812012\n"
     ]
    }
   ],
   "source": [
    "msg = \" is the process that checked primeness of \"\n",
    "def is_prime(number):\n",
    "    \"\"\"returns True if number \n",
    "    is prime, False otherwise\"\"\"\n",
    "    if number <= 1:\n",
    "        print(str(current_process().name) + msg + str(number))\n",
    "        return False\n",
    "    if number <= 3:\n",
    "        print(str(current_process().name) + msg + str(number))\n",
    "        return True\n",
    "    for i in range(3, number):\n",
    "        if number % i == 0:\n",
    "            print(str(current_process().name) + msg + str(number))\n",
    "            return False\n",
    "    print(str(current_process().name) + msg + str(number))\n",
    "    return True\n",
    "        \n",
    "\n",
    "if __name__ == \"__main__\":\n",
    "    # 1. record the start time using time() function of time module     \n",
    "    start = time()\n",
    "    \n",
    "    for number in numbers:\n",
    "        print(str(number) + \" \" + str(is_prime(number)))\n",
    "    \n",
    "    end = time()\n",
    "    \n",
    "    # 3. record the performance and print out\n",
    "    t_seq = end - start\n",
    "    print(\"total time taken = \", t_seq)"
   ]
  },
  {
   "cell_type": "markdown",
   "metadata": {},
   "source": [
    "## 2. Parallel processing"
   ]
  },
  {
   "cell_type": "code",
   "execution_count": 4,
   "metadata": {},
   "outputs": [
    {
     "name": "stdout",
     "output_type": "stream",
     "text": [
      "Process-1 is the process that checked primeness of 15492781\n",
      "Process-1 is the process that checked primeness of 15492787\n",
      "Process-1 is the process that checked primeness of 15492803\n",
      "Process-1 is the process that checked primeness of 15492811\n",
      "Process-1 is the process that checked primeness of 15492810\n",
      "Process-1 is the process that checked primeness of 15492833\n",
      "Process-1 is the process that checked primeness of 15492859\n",
      "Process-1 is the process that checked primeness of 15502547\n",
      "Process-1 is the process that checked primeness of 15520301\n",
      "Process-1 is the process that checked primeness of 15527509\n",
      "\n",
      "Process-2 is the process that checked primeness of 15492781\n",
      "Process-3 is the process that checked primeness of 15492787\n",
      "Process-3 is the process that checked primeness of 15492811\n",
      "Process-3 is the process that checked primeness of 15492810\n",
      "Process-2 is the process that checked primeness of 15492803\n",
      "Process-3 is the process that checked primeness of 15492833\n",
      "Process-2 is the process that checked primeness of 15492859\n",
      "Process-3 is the process that checked primeness of 15502547\n",
      "Process-2 is the process that checked primeness of 15520301\n",
      "Process-3 is the process that checked primeness of 15527509\n",
      "\n",
      "Process-4 is the process that checked primeness of 15492781\n",
      "Process-6 is the process that checked primeness of 15492803\n",
      "Process-6 is the process that checked primeness of 15492810\n",
      "Process-5 is the process that checked primeness of 15492787\n",
      "Process-6 is the process that checked primeness of 15492833\n",
      "Process-4 is the process that checked primeness of 15492811\n",
      "Process-5 is the process that checked primeness of 15492859\n",
      "Process-4 is the process that checked primeness of 15520301\n",
      "Process-5 is the process that checked primeness of 15527509\n",
      "Process-6 is the process that checked primeness of 15502547\n",
      "\n",
      "Process-7 is the process that checked primeness of 15492781\n",
      "Process-8 is the process that checked primeness of 15492787Process-7 is the process that checked primeness of 15492810\n",
      "\n",
      "Process-9 is the process that checked primeness of 15492803\n",
      "Process-10 is the process that checked primeness of 15492811\n",
      "Process-7 is the process that checked primeness of 15492859\n",
      "Process-9 is the process that checked primeness of 15502547\n",
      "Process-10 is the process that checked primeness of 15520301\n",
      "Process-8 is the process that checked primeness of 15492833\n",
      "Process-7 is the process that checked primeness of 15527509\n",
      "\n",
      "Process-15 is the process that checked primeness of 15492810\n",
      "Process-13 is the process that checked primeness of 15492803\n",
      "Process-12 is the process that checked primeness of 15492787Process-11 is the process that checked primeness of 15492781\n",
      "\n",
      "Process-11 is the process that checked primeness of 15520301\n",
      "Process-13 is the process that checked primeness of 15492859\n",
      "Process-14 is the process that checked primeness of 15492811\n",
      "Process-12 is the process that checked primeness of 15502547\n",
      "Process-15 is the process that checked primeness of 15492833\n",
      "Process-11 is the process that checked primeness of 15527509\n",
      "\n",
      "Process-20 is the process that checked primeness of 15492810\n",
      "Process-16 is the process that checked primeness of 15492781\n",
      "Process-20 is the process that checked primeness of 15492859\n",
      "Process-17 is the process that checked primeness of 15492787\n",
      "Process-19 is the process that checked primeness of 15492811\n",
      "Process-18 is the process that checked primeness of 15492803\n",
      "Process-21 is the process that checked primeness of 15492833\n",
      "Process-20 is the process that checked primeness of 15520301Process-16 is the process that checked primeness of 15502547\n",
      "\n",
      "Process-17 is the process that checked primeness of 15527509\n",
      "\n",
      "Process-26 is the process that checked primeness of 15492810\n",
      "Process-24 is the process that checked primeness of 15492803\n",
      "Process-22 is the process that checked primeness of 15492781Process-23 is the process that checked primeness of 15492787\n",
      "\n",
      "Process-27 is the process that checked primeness of 15492833\n",
      "Process-28 is the process that checked primeness of 15492859\n",
      "Process-25 is the process that checked primeness of 15492811\n",
      "Process-24 is the process that checked primeness of 15520301\n",
      "Process-26 is the process that checked primeness of 15502547\n",
      "Process-23 is the process that checked primeness of 15527509\n",
      "\n",
      "Process-35 is the process that checked primeness of 15492810\n",
      "Process-29 is the process that checked primeness of 15492781\n",
      "Process-33 is the process that checked primeness of 15492811\n",
      "Process-30 is the process that checked primeness of 15492787Process-31 is the process that checked primeness of 15492803\n",
      "\n",
      "Process-34 is the process that checked primeness of 15492833\n",
      "Process-32 is the process that checked primeness of 15492859\n",
      "Process-35 is the process that checked primeness of 15520301\n",
      "Process-36 is the process that checked primeness of 15502547\n",
      "Process-29 is the process that checked primeness of 15527509\n",
      "\n",
      "Process-41 is the process that checked primeness of 15492810\n",
      "Process-43 is the process that checked primeness of 15502547Process-40 is the process that checked primeness of 15492811\n",
      "Process-42 is the process that checked primeness of 15492833\n",
      "Process-37 is the process that checked primeness of 15492781\n",
      "\n",
      "Process-38 is the process that checked primeness of 15492787\n",
      "Process-41 is the process that checked primeness of 15492859\n",
      "Process-44 is the process that checked primeness of 15520301\n",
      "Process-39 is the process that checked primeness of 15492803\n",
      "Process-45 is the process that checked primeness of 15527509\n",
      "\n",
      "Process-50 is the process that checked primeness of 15492810\n",
      "Process-51 is the process that checked primeness of 15492833\n",
      "Process-55 is the process that checked primeness of 15527509\n",
      "Process-46 is the process that checked primeness of 15492781\n",
      "Process-48 is the process that checked primeness of 15492803Process-47 is the process that checked primeness of 15492787\n",
      "\n",
      "Process-49 is the process that checked primeness of 15492811\n",
      "Process-54 is the process that checked primeness of 15520301\n",
      "Process-52 is the process that checked primeness of 15492859\n",
      "Process-53 is the process that checked primeness of 15502547\n",
      "\n",
      "[7.015557527542114, 4.035561561584473, 2.917174816131592, 3.1287946701049805, 3.138434886932373, 3.1937711238861084, 3.229898452758789, 3.269301414489746, 2.826355457305908, 2.9070160388946533]\n"
     ]
    }
   ],
   "source": [
    "def check_prime_worker(job_queue):\n",
    "    \"\"\"worker function passed as target to Process\"\"\"\n",
    "    while True:\n",
    "        # 1. get next available number from queue\n",
    "        # 2. print the number and whether it\n",
    "        #    is prime or not, use is_prime()\n",
    "        # 3. use try/except to catch Empty exception \n",
    "        #    and quit the loop if no number remains in queue\n",
    "\n",
    "        try:\n",
    "            num = job_queue.get(block=False)\n",
    "        except Empty:\n",
    "            return 0\n",
    "        \n",
    "        is_prime(num)\n",
    "        \n",
    "        # uncomment to see results\n",
    "        # print(str(num) + \" \" + str(is_prime(num)))\n",
    "        \n",
    "        \n",
    "# calculate if the numbers are prime or not\n",
    "# measure the performance of parallel processing\n",
    "if __name__ == \"__main__\":\n",
    "    job_queue = Queue()\n",
    "    t_par = []\n",
    "    \n",
    "    # number of workers \n",
    "    for N in range(1, len(numbers)+1):\n",
    "        # preparing the jobs to be done by workers\n",
    "        for n in numbers:\n",
    "            job_queue.put(n)\n",
    "\n",
    "        # 1. create list of processes of N process. Choose N in range of [1:len(numbers)]\n",
    "        procs = [Process(target=check_prime_worker, args=(job_queue,)) for i in range(N)]\n",
    "        \n",
    "        # 2. record the start time \n",
    "        start = time()\n",
    "        \n",
    "        # 3. start each of the processes\n",
    "        [p.start() for p in procs]\n",
    "        \n",
    "        # 4. call join on each of the processes\n",
    "        [p.join() for p in procs]\n",
    "        \n",
    "        # 5. measure the performance and append to the list of records\n",
    "        t_par.append(time() - start)\n",
    "        \n",
    "        print()\n",
    "        \n",
    "        # 6. close the processes\n",
    "        [p.close() for p in procs]\n",
    "        \n",
    "        \n",
    "print(t_par)"
   ]
  },
  {
   "cell_type": "markdown",
   "metadata": {},
   "source": [
    "Bonus points will be given if you show/print the name of the process that did calculation for given number (use current_process() from multiprocessing module) "
   ]
  },
  {
   "cell_type": "markdown",
   "metadata": {},
   "source": [
    "## 3. Compare the performance of Sequential processing against Parallel processing \n",
    "Draw a simple 2D graph using matplotlib:\n",
    "- X axis should be number of processes from part 2, i.e., it should have values: 1, 2, 3,.., len(numbers)\n",
    "- Y axis should be ratio of \"time for sequential processing\" (t_seq) to a \"time for parallel processing\" (t_par[i-1]) when i processes are used.\n",
    "\n",
    "Explain the results in a few sentences and what factors can affect it?"
   ]
  },
  {
   "cell_type": "code",
   "execution_count": 6,
   "metadata": {},
   "outputs": [
    {
     "data": {
      "text/plain": [
       "[<matplotlib.lines.Line2D at 0x7f67a6736100>]"
      ]
     },
     "execution_count": 6,
     "metadata": {},
     "output_type": "execute_result"
    },
    {
     "data": {
      "image/png": "[encoded data removed]",
      "text/plain": [
       "<Figure size 432x288 with 1 Axes>"
      ]
     },
     "metadata": {
      "needs_background": "light"
     },
     "output_type": "display_data"
    }
   ],
   "source": [
    "import matplotlib.pyplot as plt\n",
    "\n",
    "x = [i for i in range(1, len(numbers)+1)]\n",
    "y = [t_seq / t_par[i] for i in range(len(numbers))]\n",
    "\n",
    "plt.plot(x, y)"
   ]
  },
  {
   "cell_type": "markdown",
   "metadata": {},
   "source": [
    "# Comment:\n",
    "The total time taken to check all primes will decrease when we increase the number of processes, however, using too many processes might as well introduce extra overhead that made the overall performace slightly smaller\n",
    "\n",
    "Overall, execution time depends on several factors other than the code itself, such as the CPU speed, the number of cores, whether some data was cached or not, etc."
   ]
  },
  {
   "cell_type": "code",
   "execution_count": null,
   "metadata": {},
   "outputs": [],
   "source": []
  }
 ],
 "metadata": {
  "kernelspec": {
   "display_name": "Python 3 (ipykernel)",
   "language": "python",
   "name": "python3"
  },
  "language_info": {
   "codemirror_mode": {
    "name": "ipython",
    "version": 3
   },
   "file_extension": ".py",
   "mimetype": "text/x-python",
   "name": "python",
   "nbconvert_exporter": "python",
   "pygments_lexer": "ipython3",
   "version": "3.8.10"
  }
 },
 "nbformat": 4,
 "nbformat_minor": 4
}
